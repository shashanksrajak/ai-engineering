{
 "cells": [
  {
   "cell_type": "markdown",
   "id": "bf8ba540",
   "metadata": {},
   "source": [
    "## Text Classification\n",
    "\n",
    "[Reference Doc](https://www.kaggle.com/learn-guide/5-day-genai)\n",
    "\n",
    "### Objective\n",
    "LLMs can be useful for conventional ML tasks such as classification problems. Here, we do not need to train the model from scratch using the text input, instead we can use the embeddings as input to the model.\n",
    "\n",
    "The goal is to classify the news into one of the news categories based on the news content itself."
   ]
  },
  {
   "cell_type": "code",
   "execution_count": 1,
   "id": "70451211",
   "metadata": {},
   "outputs": [
    {
     "data": {
      "text/plain": [
       "'1.24.0'"
      ]
     },
     "execution_count": 1,
     "metadata": {},
     "output_type": "execute_result"
    }
   ],
   "source": [
    "from google import genai\n",
    "from google.genai import types\n",
    "\n",
    "from dotenv import load_dotenv\n",
    "\n",
    "genai.__version__"
   ]
  },
  {
   "cell_type": "markdown",
   "id": "585774e5",
   "metadata": {},
   "source": [
    "### The dataset\n",
    "\n",
    "We will use the Newsgroups dataset from sklearn library."
   ]
  },
  {
   "cell_type": "code",
   "execution_count": 2,
   "id": "1809fc23",
   "metadata": {},
   "outputs": [
    {
     "data": {
      "text/plain": [
       "['alt.atheism',\n",
       " 'comp.graphics',\n",
       " 'comp.os.ms-windows.misc',\n",
       " 'comp.sys.ibm.pc.hardware',\n",
       " 'comp.sys.mac.hardware',\n",
       " 'comp.windows.x',\n",
       " 'misc.forsale',\n",
       " 'rec.autos',\n",
       " 'rec.motorcycles',\n",
       " 'rec.sport.baseball',\n",
       " 'rec.sport.hockey',\n",
       " 'sci.crypt',\n",
       " 'sci.electronics',\n",
       " 'sci.med',\n",
       " 'sci.space',\n",
       " 'soc.religion.christian',\n",
       " 'talk.politics.guns',\n",
       " 'talk.politics.mideast',\n",
       " 'talk.politics.misc',\n",
       " 'talk.religion.misc']"
      ]
     },
     "execution_count": 2,
     "metadata": {},
     "output_type": "execute_result"
    }
   ],
   "source": [
    "from sklearn.datasets import fetch_20newsgroups\n",
    "\n",
    "newsgroups_train = fetch_20newsgroups(subset=\"train\")\n",
    "newsgroups_test = fetch_20newsgroups(subset=\"test\")\n",
    "\n",
    "newsgroups_train.target_names"
   ]
  },
  {
   "cell_type": "code",
   "execution_count": 3,
   "id": "1c158399",
   "metadata": {},
   "outputs": [
    {
     "data": {
      "text/plain": [
       "\"From: lerxst@wam.umd.edu (where's my thing)\\nSubject: WHAT car is this!?\\nNntp-Posting-Host: rac3.wam.umd.edu\\nOrganization: University of Maryland, College Park\\nLines: 15\\n\\n I was wondering if anyone out there could enlighten me on this car I saw\\nthe other day. It was a 2-door sports car, looked to be from the late 60s/\\nearly 70s. It was called a Bricklin. The doors were really small. In addition,\\nthe front bumper was separate from the rest of the body. This is \\nall I know. If anyone can tellme a model name, engine specs, years\\nof production, where this car is made, history, or whatever info you\\nhave on this funky looking car, please e-mail.\\n\\nThanks,\\n- IL\\n   ---- brought to you by your neighborhood Lerxst ----\\n\\n\\n\\n\\n\""
      ]
     },
     "execution_count": 3,
     "metadata": {},
     "output_type": "execute_result"
    }
   ],
   "source": [
    "newsgroups_train.data[0]"
   ]
  },
  {
   "cell_type": "code",
   "execution_count": 5,
   "id": "fad1beb9",
   "metadata": {},
   "outputs": [
    {
     "data": {
      "text/plain": [
       "'rec.autos'"
      ]
     },
     "execution_count": 5,
     "metadata": {},
     "output_type": "execute_result"
    }
   ],
   "source": [
    "newsgroups_train.target_names[newsgroups_train.target[0]]"
   ]
  },
  {
   "cell_type": "markdown",
   "id": "1593b582",
   "metadata": {},
   "source": [
    "### Data preprocessing"
   ]
  },
  {
   "cell_type": "code",
   "execution_count": 6,
   "id": "27a07ab5",
   "metadata": {},
   "outputs": [],
   "source": [
    "import email\n",
    "import re\n",
    "\n",
    "import pandas as pd\n",
    "\n",
    "\n",
    "def preprocess_newsgroup_row(data):\n",
    "    # Extract only the subject and body\n",
    "    msg = email.message_from_string(data)\n",
    "    text = f\"{msg['Subject']}\\n\\n{msg.get_payload()}\"\n",
    "    # Strip any remaining email addresses\n",
    "    text = re.sub(r\"[\\w\\.-]+@[\\w\\.-]+\", \"\", text)\n",
    "    # Truncate each entry to 5,000 characters\n",
    "    text = text[:5000]\n",
    "\n",
    "    return text\n",
    "\n",
    "\n",
    "def preprocess_newsgroup_data(newsgroup_dataset):\n",
    "    # Put data points into dataframe\n",
    "    df = pd.DataFrame(\n",
    "        {\"Text\": newsgroup_dataset.data, \"Label\": newsgroup_dataset.target}\n",
    "    )\n",
    "    # Clean up the text\n",
    "    df[\"Text\"] = df[\"Text\"].apply(preprocess_newsgroup_row)\n",
    "    # Match label to target name index\n",
    "    df[\"Class Name\"] = df[\"Label\"].map(\n",
    "        lambda l: newsgroup_dataset.target_names[l])\n",
    "\n",
    "    return df"
   ]
  },
  {
   "cell_type": "code",
   "execution_count": 7,
   "id": "67ad61be",
   "metadata": {},
   "outputs": [
    {
     "data": {
      "application/vnd.microsoft.datawrangler.viewer.v0+json": {
       "columns": [
        {
         "name": "index",
         "rawType": "int64",
         "type": "integer"
        },
        {
         "name": "Text",
         "rawType": "object",
         "type": "string"
        },
        {
         "name": "Label",
         "rawType": "int64",
         "type": "integer"
        },
        {
         "name": "Class Name",
         "rawType": "object",
         "type": "string"
        }
       ],
       "ref": "e975282f-f87a-4986-9fa9-c6250aa58375",
       "rows": [
        [
         "0",
         "WHAT car is this!?\n\n I was wondering if anyone out there could enlighten me on this car I saw\nthe other day. It was a 2-door sports car, looked to be from the late 60s/\nearly 70s. It was called a Bricklin. The doors were really small. In addition,\nthe front bumper was separate from the rest of the body. This is \nall I know. If anyone can tellme a model name, engine specs, years\nof production, where this car is made, history, or whatever info you\nhave on this funky looking car, please e-mail.\n\nThanks,\n- IL\n   ---- brought to you by your neighborhood Lerxst ----\n\n\n\n\n",
         "7",
         "rec.autos"
        ],
        [
         "1",
         "SI Clock Poll - Final Call\n\nA fair number of brave souls who upgraded their SI clock oscillator have\nshared their experiences for this poll. Please send a brief message detailing\nyour experiences with the procedure. Top speed attained, CPU rated speed,\nadd on cards and adapters, heat sinks, hour of usage per day, floppy disk\nfunctionality with 800 and 1.4 m floppies are especially requested.\n\nI will be summarizing in the next two days, so please add to the network\nknowledge base if you have done the clock upgrade and haven't answered this\npoll. Thanks.\n\nGuy Kuo <>\n",
         "4",
         "comp.sys.mac.hardware"
        ],
        [
         "2",
         "PB questions...\n\nwell folks, my mac plus finally gave up the ghost this weekend after\nstarting life as a 512k way back in 1985.  sooo, i'm in the market for a\nnew machine a bit sooner than i intended to be...\n\ni'm looking into picking up a powerbook 160 or maybe 180 and have a bunch\nof questions that (hopefully) somebody can answer:\n\n* does anybody know any dirt on when the next round of powerbook\nintroductions are expected?  i'd heard the 185c was supposed to make an\nappearence \"this summer\" but haven't heard anymore on it - and since i\ndon't have access to macleak, i was wondering if anybody out there had\nmore info...\n\n* has anybody heard rumors about price drops to the powerbook line like the\nones the duo's just went through recently?\n\n* what's the impression of the display on the 180?  i could probably swing\na 180 if i got the 80Mb disk rather than the 120, but i don't really have\na feel for how much \"better\" the display is (yea, it looks great in the\nstore, but is that all \"wow\" or is it really that good?).  could i solicit\nsome opinions of people who use the 160 and 180 day-to-day on if its worth\ntaking the disk size and money hit to get the active display?  (i realize\nthis is a real subjective question, but i've only played around with the\nmachines in a computer store breifly and figured the opinions of somebody\nwho actually uses the machine daily might prove helpful).\n\n* how well does hellcats perform?  ;)\n\nthanks a bunch in advance for any info - if you could email, i'll post a\nsummary (news reading time is at a premium with finals just around the\ncorner... :( )\n--\nTom Willis  \\      \\    Purdue Electrical Engineering\n---------------------------------------------------------------------------\n\"Convictions are more dangerous enemies of truth than lies.\"  - F. W.\nNietzsche\n",
         "4",
         "comp.sys.mac.hardware"
        ],
        [
         "3",
         "Re: Weitek P9000 ?\n\nRobert J.C. Kyanko () wrote:\n>  writes in article <>:\n> > Anyone know about the Weitek P9000 graphics chip?\n> As far as the low-level stuff goes, it looks pretty nice.  It's got this\n> quadrilateral fill command that requires just the four points.\n\nDo you have Weitek's address/phone number?  I'd like to get some information\nabout this chip.\n\n--\nJoe Green\t\t\t\tHarris Corporation\n\t\t\tComputer Systems Division\n\"The only thing that really scares me is a person with no sense of humor.\"\n\t\t\t\t\t\t-- Jonathan Winters\n",
         "1",
         "comp.graphics"
        ],
        [
         "4",
         "Re: Shuttle Launch Question\n\nFrom article <>, by  (Tom A Baker):\n>>In article <>,  (Pack Rat) writes...\n>>>\"Clear caution & warning memory.  Verify no unexpected\n>>>errors. ...\".  I am wondering what an \"expected error\" might\n>>>be.  Sorry if this is a really dumb question, but\n> \n> Parity errors in memory or previously known conditions that were waivered.\n>    \"Yes that is an error, but we already knew about it\"\n> I'd be curious as to what the real meaning of the quote is.\n> \n> tom\n\n\nMy understanding is that the 'expected errors' are basically\nknown bugs in the warning system software - things are checked\nthat don't have the right values in yet because they aren't\nset till after launch, and suchlike. Rather than fix the code\nand possibly introduce new bugs, they just tell the crew\n'ok, if you see a warning no. 213 before liftoff, ignore it'.\n\n - Jonathan\n\n\n",
         "14",
         "sci.space"
        ]
       ],
       "shape": {
        "columns": 3,
        "rows": 5
       }
      },
      "text/html": [
       "<div>\n",
       "<style scoped>\n",
       "    .dataframe tbody tr th:only-of-type {\n",
       "        vertical-align: middle;\n",
       "    }\n",
       "\n",
       "    .dataframe tbody tr th {\n",
       "        vertical-align: top;\n",
       "    }\n",
       "\n",
       "    .dataframe thead th {\n",
       "        text-align: right;\n",
       "    }\n",
       "</style>\n",
       "<table border=\"1\" class=\"dataframe\">\n",
       "  <thead>\n",
       "    <tr style=\"text-align: right;\">\n",
       "      <th></th>\n",
       "      <th>Text</th>\n",
       "      <th>Label</th>\n",
       "      <th>Class Name</th>\n",
       "    </tr>\n",
       "  </thead>\n",
       "  <tbody>\n",
       "    <tr>\n",
       "      <th>0</th>\n",
       "      <td>WHAT car is this!?\\n\\n I was wondering if anyo...</td>\n",
       "      <td>7</td>\n",
       "      <td>rec.autos</td>\n",
       "    </tr>\n",
       "    <tr>\n",
       "      <th>1</th>\n",
       "      <td>SI Clock Poll - Final Call\\n\\nA fair number of...</td>\n",
       "      <td>4</td>\n",
       "      <td>comp.sys.mac.hardware</td>\n",
       "    </tr>\n",
       "    <tr>\n",
       "      <th>2</th>\n",
       "      <td>PB questions...\\n\\nwell folks, my mac plus fin...</td>\n",
       "      <td>4</td>\n",
       "      <td>comp.sys.mac.hardware</td>\n",
       "    </tr>\n",
       "    <tr>\n",
       "      <th>3</th>\n",
       "      <td>Re: Weitek P9000 ?\\n\\nRobert J.C. Kyanko () wr...</td>\n",
       "      <td>1</td>\n",
       "      <td>comp.graphics</td>\n",
       "    </tr>\n",
       "    <tr>\n",
       "      <th>4</th>\n",
       "      <td>Re: Shuttle Launch Question\\n\\nFrom article &lt;&gt;...</td>\n",
       "      <td>14</td>\n",
       "      <td>sci.space</td>\n",
       "    </tr>\n",
       "  </tbody>\n",
       "</table>\n",
       "</div>"
      ],
      "text/plain": [
       "                                                Text  ...             Class Name\n",
       "0  WHAT car is this!?\\n\\n I was wondering if anyo...  ...              rec.autos\n",
       "1  SI Clock Poll - Final Call\\n\\nA fair number of...  ...  comp.sys.mac.hardware\n",
       "2  PB questions...\\n\\nwell folks, my mac plus fin...  ...  comp.sys.mac.hardware\n",
       "3  Re: Weitek P9000 ?\\n\\nRobert J.C. Kyanko () wr...  ...          comp.graphics\n",
       "4  Re: Shuttle Launch Question\\n\\nFrom article <>...  ...              sci.space\n",
       "\n",
       "[5 rows x 3 columns]"
      ]
     },
     "execution_count": 7,
     "metadata": {},
     "output_type": "execute_result"
    }
   ],
   "source": [
    "df_train = preprocess_newsgroup_data(newsgroups_train)\n",
    "df_test = preprocess_newsgroup_data(newsgroups_test)\n",
    "\n",
    "df_train.head()"
   ]
  },
  {
   "cell_type": "code",
   "execution_count": 8,
   "id": "a40b2ee0",
   "metadata": {},
   "outputs": [],
   "source": [
    "def sample_data(df, num_samples, classes_to_keep):\n",
    "    # Sample rows, selecting num_samples of each Label.\n",
    "    df = (\n",
    "        df.groupby(\"Label\")[df.columns]\n",
    "        .apply(lambda x: x.sample(num_samples))\n",
    "        .reset_index(drop=True)\n",
    "    )\n",
    "\n",
    "    df = df[df[\"Class Name\"].str.contains(classes_to_keep)]\n",
    "\n",
    "    # We have fewer categories now, so re-calibrate the label encoding.\n",
    "    df[\"Class Name\"] = df[\"Class Name\"].astype(\"category\")\n",
    "    df[\"Encoded Label\"] = df[\"Class Name\"].cat.codes\n",
    "\n",
    "    return df"
   ]
  },
  {
   "cell_type": "code",
   "execution_count": 9,
   "id": "dd66756d",
   "metadata": {},
   "outputs": [],
   "source": [
    "TRAIN_NUM_SAMPLES = 100\n",
    "TEST_NUM_SAMPLES = 25\n",
    "# Class name should contain 'sci' to keep science categories.\n",
    "# Try different labels from the data - see newsgroups_train.target_names\n",
    "CLASSES_TO_KEEP = \"sci\"\n",
    "\n",
    "df_train = sample_data(df_train, TRAIN_NUM_SAMPLES, CLASSES_TO_KEEP)\n",
    "df_test = sample_data(df_test, TEST_NUM_SAMPLES, CLASSES_TO_KEEP)"
   ]
  },
  {
   "cell_type": "code",
   "execution_count": 10,
   "id": "aa858281",
   "metadata": {},
   "outputs": [
    {
     "data": {
      "application/vnd.microsoft.datawrangler.viewer.v0+json": {
       "columns": [
        {
         "name": "Class Name",
         "rawType": "category",
         "type": "unknown"
        },
        {
         "name": "count",
         "rawType": "int64",
         "type": "integer"
        }
       ],
       "ref": "cd2d5f26-6bc2-46b6-88a8-e0fe66e69929",
       "rows": [
        [
         "sci.crypt",
         "100"
        ],
        [
         "sci.electronics",
         "100"
        ],
        [
         "sci.med",
         "100"
        ],
        [
         "sci.space",
         "100"
        ]
       ],
       "shape": {
        "columns": 1,
        "rows": 4
       }
      },
      "text/plain": [
       "Class Name\n",
       "sci.crypt          100\n",
       "sci.electronics    100\n",
       "sci.med            100\n",
       "sci.space          100\n",
       "Name: count, dtype: int64"
      ]
     },
     "execution_count": 10,
     "metadata": {},
     "output_type": "execute_result"
    }
   ],
   "source": [
    "df_train.value_counts(\"Class Name\")"
   ]
  },
  {
   "cell_type": "code",
   "execution_count": 11,
   "id": "83f239d0",
   "metadata": {},
   "outputs": [
    {
     "data": {
      "application/vnd.microsoft.datawrangler.viewer.v0+json": {
       "columns": [
        {
         "name": "Class Name",
         "rawType": "category",
         "type": "unknown"
        },
        {
         "name": "count",
         "rawType": "int64",
         "type": "integer"
        }
       ],
       "ref": "55c27bdc-d9e3-4de5-b258-2cc3d6fcc95e",
       "rows": [
        [
         "sci.crypt",
         "25"
        ],
        [
         "sci.electronics",
         "25"
        ],
        [
         "sci.med",
         "25"
        ],
        [
         "sci.space",
         "25"
        ]
       ],
       "shape": {
        "columns": 1,
        "rows": 4
       }
      },
      "text/plain": [
       "Class Name\n",
       "sci.crypt          25\n",
       "sci.electronics    25\n",
       "sci.med            25\n",
       "sci.space          25\n",
       "Name: count, dtype: int64"
      ]
     },
     "execution_count": 11,
     "metadata": {},
     "output_type": "execute_result"
    }
   ],
   "source": [
    "df_test.value_counts(\"Class Name\")"
   ]
  },
  {
   "cell_type": "markdown",
   "id": "6fd041f3",
   "metadata": {},
   "source": [
    "### Generate Embeddings"
   ]
  },
  {
   "cell_type": "code",
   "execution_count": null,
   "id": "540ce8bb",
   "metadata": {},
   "outputs": [],
   "source": [
    "import tqdm\n",
    "from tqdm.rich import tqdm as tqdmr\n",
    "import warnings"
   ]
  },
  {
   "cell_type": "code",
   "execution_count": null,
   "id": "441e627d",
   "metadata": {},
   "outputs": [],
   "source": [
    "tqdmr.pandas()\n",
    "warnings.filterwarnings(\"ignore\", category=tqdm.TqdmExperimentalWarning)"
   ]
  },
  {
   "cell_type": "code",
   "execution_count": 14,
   "id": "9848c100",
   "metadata": {},
   "outputs": [],
   "source": [
    "client = genai.Client()\n",
    "\n",
    "def embed_fn(text: str) -> list[float]:\n",
    "    # You will be performing classification, so set task_type accordingly.\n",
    "    response = client.models.embed_content(\n",
    "        model=\"models/text-embedding-004\",\n",
    "        contents=text,\n",
    "        config=types.EmbedContentConfig(\n",
    "            task_type=\"classification\",\n",
    "        ),\n",
    "    )\n",
    "\n",
    "    return response.embeddings[0].values"
   ]
  },
  {
   "cell_type": "code",
   "execution_count": 16,
   "id": "28cef81e",
   "metadata": {},
   "outputs": [],
   "source": [
    "# TODO: optimize this process using batch\n",
    "\n",
    "def create_embeddings(df):\n",
    "    df[\"Embeddings\"] = df[\"Text\"].progress_apply(embed_fn)\n",
    "    return df"
   ]
  },
  {
   "cell_type": "code",
   "execution_count": 17,
   "id": "00b2b317",
   "metadata": {},
   "outputs": [
    {
     "data": {
      "application/vnd.jupyter.widget-view+json": {
       "model_id": "4db4861dcf40497c86b6783032d7ec28",
       "version_major": 2,
       "version_minor": 0
      },
      "text/plain": [
       "Output()"
      ]
     },
     "metadata": {},
     "output_type": "display_data"
    },
    {
     "name": "stderr",
     "output_type": "stream",
     "text": [
      "/opt/anaconda3/envs/dsai/lib/python3.12/site-packages/tqdm/std.py:885: TqdmExperimentalWarning: rich is experimental/alpha\n",
      "  t = cls(total=total, **tqdm_kwargs)\n"
     ]
    },
    {
     "data": {
      "text/html": [
       "<pre style=\"white-space:pre;overflow-x:auto;line-height:normal;font-family:Menlo,'DejaVu Sans Mono',consolas,'Courier New',monospace\"></pre>\n"
      ],
      "text/plain": []
     },
     "metadata": {},
     "output_type": "display_data"
    },
    {
     "data": {
      "application/vnd.jupyter.widget-view+json": {
       "model_id": "7da68d1a6db44f9c9fbbf9556db390e8",
       "version_major": 2,
       "version_minor": 0
      },
      "text/plain": [
       "Output()"
      ]
     },
     "metadata": {},
     "output_type": "display_data"
    },
    {
     "name": "stderr",
     "output_type": "stream",
     "text": [
      "/opt/anaconda3/envs/dsai/lib/python3.12/site-packages/tqdm/std.py:885: TqdmExperimentalWarning: rich is experimental/alpha\n",
      "  t = cls(total=total, **tqdm_kwargs)\n"
     ]
    },
    {
     "data": {
      "text/html": [
       "<pre style=\"white-space:pre;overflow-x:auto;line-height:normal;font-family:Menlo,'DejaVu Sans Mono',consolas,'Courier New',monospace\"></pre>\n"
      ],
      "text/plain": []
     },
     "metadata": {},
     "output_type": "display_data"
    }
   ],
   "source": [
    "df_train = create_embeddings(df_train)\n",
    "df_test = create_embeddings(df_test)"
   ]
  },
  {
   "cell_type": "code",
   "execution_count": 18,
   "id": "24cae206",
   "metadata": {},
   "outputs": [
    {
     "data": {
      "application/vnd.microsoft.datawrangler.viewer.v0+json": {
       "columns": [
        {
         "name": "index",
         "rawType": "int64",
         "type": "integer"
        },
        {
         "name": "Text",
         "rawType": "object",
         "type": "string"
        },
        {
         "name": "Label",
         "rawType": "int64",
         "type": "integer"
        },
        {
         "name": "Class Name",
         "rawType": "category",
         "type": "unknown"
        },
        {
         "name": "Encoded Label",
         "rawType": "int8",
         "type": "integer"
        },
        {
         "name": "Embeddings",
         "rawType": "object",
         "type": "unknown"
        }
       ],
       "ref": "1b535698-76d5-4920-84f5-cb4fc6bad0b3",
       "rows": [
        [
         "1100",
         "Re: text of White House announcement and Q&As on clipper chip encryption\n\nIn article <>  (Robert Ward) writes:\n>In article <>  writes:\n>>and since the US constitutions guarantees the right to every American\n>>to bear arms, why is not every American entitled, as a matter of\n>\n>Have you read the applicable part of the Constitution and interpreted it IN \n>CONTEXT?  If not, please do so before posting this misinterpretation again.\n>It refers to the right of the people to organize a militia, not for individuals\n>to carry handguns, grenades, and assault rifles.  \n\nRead the Constitution yourself.  The Second Amendment says the right to bear\narms shall not be infringed, so a well regulated militia may be more easily\nformed.  I have an interpretation of the Second that shows there are no \nqualifications to the right to keep and bear arms.  If you want, I can E-mail\nit to you.  By the way, gun talk belongs in talk.politics.guns.\n\t\t\t\t\t\t\tDoug Holland\n\n",
         "11",
         "sci.crypt",
         "0",
         "[-0.013124742, 0.030207282, -0.037421063, 0.037361696, 0.0236951, 0.06302069, 0.070004396, 0.031694032, -0.015930325, -0.0156343, 0.07123494, 0.02442026, 0.018165689, 0.013043598, 0.04794547, -0.048477925, 0.11192645, 0.025539186, 0.011277501, -0.051696498, -0.027323475, 0.015864817, -0.008692661, 0.013886686, 0.011899079, 0.0053697033, 0.027168985, -0.030498222, 0.012826043, -0.042848103, 0.026197657, 0.047686182, -0.00429749, -0.06199954, 0.041750062, -0.018671803, -0.009810358, 0.015075543, 0.011104545, -0.03535435, -0.05732568, -0.015476834, -0.040102024, 0.051955912, -0.04312218, -0.031376615, -0.015684294, -0.06173135, -0.06319221, 0.009914007, 0.00038862354, 0.010024941, -0.021668866, 0.028823497, -0.021614231, -0.04060706, -5.264004e-05, -0.06771946, 0.020513222, -0.075606175, -0.002153858, -0.0046244496, 0.020067047, -0.03076678, 0.007741373, -0.025110409, -0.037237123, -0.0014925528, -0.052035253, -0.018873133, 0.022097675, 0.06810937, -0.055188265, 0.04400904, 0.01907824, -0.0008269945, 0.09118248, -0.011331341, 0.07125292, 0.04385165, -0.03556982, -0.040324897, 0.022139564, -0.035511985, 0.026701737, -0.036462825, 0.01635544, 0.007831808, -0.0888324, -0.035474803, 0.07551704, 0.034488793, -0.030250171, -0.00013114275, 0.080072775, -0.038982075, 0.0051995907, -0.06846016, 0.030669913, 0.021093244, -0.026017996, -0.018386668, 0.012663995, 0.014841839, 0.068064794, 0.030081982, -0.010913878, -0.008266318, -0.068234086, 0.08315678, 0.025747031, -0.005303807, -0.029254122, -0.020127753, -0.03825565, 0.030691203, 0.0068676244, 0.0020111608, 0.007536698, -0.056662794, 0.016536996, 0.045479704, 0.022766113, 0.02956557, 0.031027183, -0.007760217, -0.023514219, -0.034815144, -0.0032709863, -0.006819679, 0.057775036, -0.04301643, -0.053159885, 0.046334025, -0.012674502, 0.014633389, 0.012425012, 0.042538814, -0.018082373, 0.001268086, -0.02123632, 0.021076491, -0.05838617, 0.00048439277, 0.003017431, -0.09847864, 0.037676007, 0.06948105, -0.029346792, 0.0076408894, -0.012309956, -0.048886485, 0.038736496, 0.055755466, -0.07212124, -0.024105377, 0.013876121, -0.07298182, 0.0654658, -0.019472921, -0.008986472, -0.038787007, 0.02558777, 0.02752001, -0.017141357, -0.050712634, -0.02070021, -0.12132997, -0.0148133, 0.007791458, -0.0052791317, -0.0105191935, -0.021858532, 0.005318444, -0.020646656, 0.0141969565, 0.025538957, -0.023078261, -0.010285637, 0.0034748425, 0.022904666, 0.006804739, -0.0027830722, -0.0072937156, -0.022774704, -0.010088324, -0.01692479, -0.007066017, 0.009383938, 0.06519411, -0.031558078, 0.026146773, -0.00043689774, -0.028772967, -0.054967646, 0.015255171, 0.033837166, -0.044367213, -0.031113349, -0.027293673, 0.030364934, -0.019608125, 0.02452564, 0.0048108255, -0.004889771, 0.019887032, 0.012929103, -0.0072578983, -0.026824735, 0.029352829, -0.029954374, -0.047702294, 0.050805684, 0.027474146, 0.033368126, 0.030341579, 0.048543714, 0.019903012, 0.046803154, -0.017537778, 0.01594739, -0.017555263, -0.048189305, 0.03750507, 0.0067377426, -0.08853877, 0.005514605, 0.033471853, -0.018111337, -0.030165197, 0.03891707, 0.029177958, 0.02062724, -0.027228246, -0.018727798, 0.0028290018, -0.015865676, 0.00031131282, -0.02961536, -8.529882e-05, -0.016488284, -0.014293493, -0.013765081, 0.008972938, 0.008387718, 0.03603714, 0.044301365, -0.050771322, -0.01804409, 0.010873946, -0.0112854885, -0.028498165, -0.09933467, 0.06653857, 0.016355328, 0.049711194, 0.013933082, 0.0070143803, -0.007903517, -0.0056879595, 0.027053595, -0.009293254, 0.009178763, -0.00931295, -0.008650961, -0.08669083, -0.018933222, -0.050701667, 0.031637177, -0.015394374, 0.057102755, -0.028532969, -0.0075665247, -0.01649271, -0.03605884, 0.005454997, 0.0048088008, 0.027213214, -0.07523514, -0.06644815, -0.009718864, -0.019443598, 0.001961124, -0.011990532, -0.014443389, -0.042931665, 0.009331542, -0.056886114, -0.0005635586, -0.017538784, 0.023741357, 0.03478024, -0.013878138, -0.08722362, -0.002523766, 0.04104963, 0.04085469, 0.053543486, -0.06177555, 0.009414585, -0.017656533, -0.0016084054, 0.016745996, 0.02662608, 0.0052273017, 0.0038534002, -0.0024159146, -0.03682925, -0.035532817, -0.007923441, 0.052965686, 0.021987757, -0.005164847, -0.010143248, -0.024901766, -0.008706343, -0.12594825, -0.009841059, -0.0047903606, 0.03445065, 0.030462129, 0.024451228, -0.0025066182, -0.037738662, 0.036274392, -0.028154949, 0.029275902, 0.0041558947, 0.024974968, -0.061510008, 0.037921064, -0.021217702, -0.029208656, -0.078717366, -0.00219819, 0.0071743107, -0.056855507, 0.023930492, 0.07863937, -0.0025570025, 0.02336565, 0.0001740195, 0.010545662, 0.003389951, 0.012108818, -0.020667884, -0.004077063, -0.059182733, 0.029544566, -0.023732414, 0.027520984, 0.03681289, 0.01408031, 0.028159488, 0.0013599861, 0.038667433, 0.046909966, -0.010582898, 0.06291748, -0.0078090783, 0.013235683, 0.037852727, -0.0044996697, 0.03621017, -0.0033356345, 0.0044195955, 0.02319917, 0.03338067, -0.03410844, 0.0027564503, -0.03967874, 0.015890246, 7.6967925e-05, 0.0071860687, -0.009808326, -0.06402507, -0.020201921, 0.022140205, 0.043984566, -0.044953153, -0.058152486, -0.01502005, -0.020688495, 0.00022623088, -0.014004692, 0.02961741, -0.063920416, 0.011680143, -0.004995998, 0.07353238, -0.0035231202, -0.010296209, 0.017873328, 0.019965537, -0.0155551545, 0.05716557, 0.02456585, 0.024491029, -0.012198164, 0.038459204, -0.014237817, -0.04656457, 0.049022242, 0.010555023, 0.008383653, -0.008225235, 0.06322305, 0.011891181, -0.026357261, -0.028210433, 0.037126966, -0.06810819, -0.022305457, 0.012236039, 0.000841415, 0.02921699, -0.00018821847, 0.02252274, 0.011502782, 0.040866204, -0.047224946, 0.0381618, 0.01487612, 0.008690236, -0.00089413376, 0.005665886, -0.005950551, -0.0012293265, 0.024798146, -0.0034051577, 0.009038735, 0.014575787, 0.0029397563, 0.07221652, 0.011885784, 0.022357315, 0.006449289, -0.027305624, -0.03612578, 0.0038197641, 0.044501867, 0.03054701, 0.004990071, 0.006940991, -0.0055922824, 0.019911204, 0.016181225, 0.014821713, 0.008859028, -0.011367842, 0.023819894, -0.004944437, -0.019405121, -0.035040613, -0.028455423, -0.017079623, 0.020652896, -0.0018433653, -0.01032526, 0.016387502, -0.008184301, -0.021461373, 0.060718846, 0.0016798368, 0.012734881, -0.022158993, -0.030519, 0.04220901, -0.0048614023, 0.007069225, 0.015148727, -0.018421669, 0.029700225, -0.005319336, -0.03753561, 0.04301424, 0.066028245, 0.024147738, -0.018789317, -0.031749565, -0.037811607, -0.022708502, -0.057602897, -0.017577158, 0.05018905, 0.03159187, -0.0022647728, 0.031644423, 0.0042729895, -0.01704033, 0.022493633, -0.0065658987, -0.034708235, -0.004563432, 0.037341874, -0.041581634, 0.1063992, 0.012288024, -0.000600194, 0.056906246, 0.009274499, 0.047401063, -0.012816847, -0.05266227, 0.017937958, -0.011148118, -0.11311892, 0.010955633, 0.04205408, -0.014166271, 0.02325325, -0.0135748815, 0.028787315, -0.00464271, -0.05171721, 0.008830231, -0.04451923, -0.0023714518, -0.023031317, 0.06697342, -0.007826649, -0.0618221, 0.013671622, -0.0028513607, -0.026235376, 0.006790883, 0.044988364, 0.015829792, 0.015550655, -0.04499647, -0.0065263263, 0.06590338, -0.010820989, 0.022157403, 0.048125695, 0.06694119, 0.05177108, 0.026764276, 0.06566872, -0.0068600406, 0.01741104, 0.02283788, 0.016135301, 0.049233526, 0.025058711, -0.007307342, -0.00426127, 0.05268122, -0.013342136, -0.0054436964, -0.051794827, -0.025653867, -0.054795314, 0.024521299, 0.04904167, -0.030052736, 0.049206506, 0.037601814, -0.018126981, 0.021399539, 0.042306267, 0.016051779, -0.006219777, -0.023858227, -0.038901407, -0.027124865, -0.06217816, 0.077377334, 0.006880437, 0.062357448, -0.067630306, -0.036316633, 0.015390648, -0.06627482, 0.018172665, -0.026748698, -0.020990252, 0.020364346, 0.005482811, 0.0104703875, 0.0050431476, -0.014839592, -0.019888418, -0.06181332, -0.007791992, -0.035279706, 0.048552305, -0.0312234, -0.024629937, 0.033502717, -0.022809815, 0.0228941, -0.015628017, -0.022440815, 0.038735554, -0.0024755981, -0.014359023, 0.03025249, 0.017135793, -0.015225141, 0.06004666, -0.036533676, 0.03665233, 0.04469497, -0.06400855, -0.030073645, -0.036663633, -0.040390845, -0.014863566, -0.00036935927, 0.002305371, 0.027830323, -0.012133128, -0.037939433, -0.090344965, 0.05949658, -0.036760747, -0.024240613, 0.06335017, -0.026392087, -0.0026063707, -0.019632043, 0.031634167, 0.04957106, 0.0030802167, -0.0070556263, 0.032569505, 0.028004395, -0.0032979522, -0.0017900761, -0.031425938, 0.012820109, 0.08020686, -0.045191, 0.039858963, -0.019299902, 0.042041533, 0.0049769245, 0.0056671677, -0.046441194, 0.031006653, 0.06761842, 0.10571908, 0.002770594, -0.070046924, -0.014570591, -0.010952959, 0.028657954, 0.03088136, 0.036719583, -0.015076102, 0.028436547, -0.030628089, 0.0029384857, -0.09088568, -0.041208114, -0.07307475, -0.025137344, 0.037795868, -0.01771078, 0.013059835, -0.0070872162, 0.014246273, 0.03755972, -0.043274287, -0.07004912, 0.005622073, -0.011692179, -0.0044259676, -0.0043349927, -0.031796936, -0.04406846, 0.013323714, 0.07261911, 0.0082319155, 0.006817369, 0.02991619, 0.015835628, -0.02994901, 0.033394508, 0.0032908663, -0.032634947, 0.035022076, -0.022347702, 0.008955608, 0.03165295, 0.04587663, -0.019735826, -0.018582977, -0.0057683126, 0.014075982, -0.031233583, -0.00831095, 0.04576169, 0.0071948925, 0.067421846, -0.030207451, -0.016555544, -0.036043115, 0.04778005, 0.026457017, -0.062498666, -0.020792842, -0.04905744, -0.010189085, -0.01937694, 0.05869654, 0.039320774, -0.06674867, 0.019928446, -0.013673641, 0.027245484, 0.08958703, -0.018679766, 0.060546257, 0.04780024, -0.0009968467, 0.058708195, 0.058159, -0.004330219, 0.022808395, 0.003922425, 0.022796271, 0.041223824, -0.038034488, 0.009065173, -0.049718503, 0.023857355, -0.050213393, 0.017970247, 0.08237476, 0.0005342722, -0.07134667, 0.042990897, -0.05457473, 0.027195228, 0.026436936, -0.006275961, 0.0028428037, 0.08651967, 0.019608, -0.034071036, -0.049154464, 0.0011804446, 0.024836725, 0.028210588, 0.00882377, -0.021534521, -0.014200574, -0.050944965, -0.091778174, 0.028481662, 0.04053157, 0.032185927, 0.021717431, 0.034429587, 0.020688407, 0.023262218, 0.05827457, 0.02770322, -0.005698193, 0.059740692, -0.0019866994, -0.03493183, -0.048431724, -0.04787509, 0.042786315, -0.04348632]"
        ],
        [
         "1101",
         "Re: text of White House announcement and Q&As on clipper chip encryption\n\nIn article <>  (Hal Finney) writes:\n>The key question is whether non-Clipper encryption will be made illegal.\n>\n>>     The Administration is not saying, \"since encryption\n>>     threatens the public safety and effective law enforcement,\n>>     we will prohibit it outright\" (as some countries have\n>>     effectively done); nor is the U.S. saying that \"every\n\nDoes anyone know what countries are these?\n\n>>     American, as a matter of right, is entitled to an\n>>     unbreakable commercial encryption product.\"  There is a\n>>     false \"tension\" created in the assessment that this issue is\n>>     an \"either-or\" proposition.  Rather, both concerns can be,\n>>     and in fact are, harmoniously balanced through a reasoned,\n>>     balanced approach such as is proposed with the \"Clipper\n>>     Chip\" and similar encryption techniques.\n>\n>The clear middle ground implied by these statements is to say that Americans\n>have the right to Clipper encryption, but not to unbreakable encryption.\n>This implies that, ultimately, non-Clipper strong encryption must become\n>illegal.\n\nWith the following logical consequences\n\t(a) Using any code designed to obscure informatio which is \n\t    not easily breakable will be illegal, including\n\t\t(i) Using code words such as ``Project P5''\n\t\t(ii) Speaking a language other than English\n\t\t(iii) Ever refering implicitly to events not known to\n\t\t\teveryone, eg\n\t\t\t\"Hi John. How was last night?\"\n\t\t      For all the listener knows, this may be a code for\n\t\t\t\"Did you pick up the drugs OK last night?\"\n\t\t      of be a code for\n\t\t        \"OK. We blow up the Pentagon at midnight.\"\n\t\t(iv) Mentioning anything that could not be perfectly\n\t\t     understood by an average person with no education.\n\t\t(v) Words with more than one syllable.\n\t\t(vi) Speaking with a heavy accent that could bemisunderstood\n\t\t     by people not used to it.\n\t\t(vii) books with an \"Inner meaning\"...such\n\t\t      as \"Animal Farm\".\n\n>(As an aside, isn't the language here jarring?  All this talk about\n>\"harmonious balance\" when they're talking about taking away people's\n>right to communications privacy?)\n\nYes.\n\n>It looks like the worst nightmares raised by Dorothy Denning's proposals\n>are coming true.  If the government continues on this course, I imagine\n>that we will see strong cryptography made illegal.  Encryption programs\n>for disk files and email, as well as software to allow for encrypted\n>voice communications, will be distributed only through the\n>\"underground\".  People will have to learn how to hide the fact that\n>they are protecting their privacy.\n\nI have a wonderful encrypter you can borrow that converts a message\neg \"Meet me at 11:30 to bomb the White House. Bring some dynamite\"\nto an apparently (relatively) innoculous message. This message\nhere is an example of the output for the above message :-).\n\n>It's shocking and frightening to see that this is actually happening here.\n\nIt is shockiong that it could happen anywhere.\nIt is shocking that it could happen in a country \nthat has the arrogance to call itself free.\n\nWhat you can do:\n\t(1) Write to your congress person in plain text.\n\t(2) Write to your congress person in encrypted text.\n\t\t(decrypter optional)\n\t(3) Send some random keystroked to your congressperson\n\t(4) Send some random keystrokes accross the US boundaries,\n\t\tand keep the spooks busy trying to decode it.\n\t(5) Write your own encryption algorithms.\n\t(6) Don't buy clipper products.\n\nP.S. I can't work out why the US government doesn't want to sell\nthem overseas. After all, they are rather easy for US interests to decode,\nso make a perfect tool for industrial/military espionage...lulling \nanyone stupid enough to buy it into a false sense of security. You will\nnotice that there is NO mention anywhere about safety for non-Americans.\n\nDisclaimer: My opinions are mine alone, and do not represent anyone elses.\nI have nothing that I particularly want to hide at the moment...though I \nconsider the right\nto be able to use whatever method of coding data I like to be high on my\nlist of priorities.\n\n-- \n-----------------------------------------------------------------\nAndrew Conway      Phone: USA 415 497 1094\n\n",
         "11",
         "sci.crypt",
         "0",
         "[-0.011158817, 0.019066054, -0.05927952, -0.019448552, 0.013296612, 0.035393495, 0.06687208, 0.027252628, -0.024579335, 0.008573513, 0.055497415, 0.046171773, 0.02056605, 0.026079357, 0.06774881, -0.038772423, 0.07864544, 0.060016297, -0.036832735, -0.028536642, -0.022432474, -0.006744829, -0.009036729, 0.0064488477, -0.01570972, -0.0034797282, 0.012895614, -0.03825737, -0.00840595, -0.042678315, 0.036151495, 0.04725944, -0.0012902034, -0.04932021, 0.038720656, -0.010895313, -0.0025459128, 0.022401156, 0.014138837, -0.022037875, -0.047655765, -0.0030760476, -0.046430778, 0.06449888, 0.0066240034, -0.03830932, -0.036884725, -0.045871876, -0.03289486, 0.04083094, 0.028468095, 0.0012826956, -0.02157997, 9.2893526e-05, 0.0067272843, -0.032877542, -0.009669424, -0.06345725, 0.010551003, -0.061662216, -0.006415602, -0.008940808, 0.0031044916, -0.018751895, -0.025195012, -0.008089622, -0.056949597, 0.0001762565, -0.051725917, 0.011624528, -0.040957503, 0.041726887, -0.028808715, 0.032869287, 0.02893862, -0.009123432, 0.080393046, -0.027913364, 0.059411626, 0.03302521, -0.014011986, -0.050011106, 0.048790205, -0.0055750846, 0.022779752, 0.006782645, 0.008061539, -0.01361797, -0.07348861, -0.051374227, 0.08109663, 0.020283207, -0.033553697, -0.002776663, 0.07840877, -0.020214345, -0.02307037, -0.112327784, 0.07171392, 0.0039821444, -0.025842845, -0.015304886, -0.016637616, -0.021932835, 0.05923882, 0.03796265, -0.016210264, -0.03291072, -0.08453297, 0.084672384, 0.03907371, -0.0055923136, 0.0065694135, 0.008495321, -0.040462483, 0.027802933, -0.015290164, 0.039509926, -0.027975958, -0.068747275, 0.006947731, 0.060941014, -0.016675154, 0.04497566, 0.026186854, 0.0030536875, 0.011404188, -0.0010598869, -0.01096003, -0.02416508, 0.0657606, -0.04551308, -0.04246822, 0.03436947, -0.073114134, -0.0039202725, 0.013789085, -0.009767732, 0.011262261, 0.014488271, -0.03770546, 0.0012405835, -0.044531822, 0.013681984, -0.002504779, -0.08231337, 0.013450829, 0.059991516, -0.045592077, 0.02650687, -0.033501927, -0.044215184, 0.030666512, 0.036611594, -0.04069396, -0.008374043, 0.03848778, -0.08916684, 0.05429771, -0.014857612, -0.019868664, -0.03847797, 0.020058049, 0.004564725, -0.025701849, -0.034832183, 0.010342664, -0.0909898, -0.013861711, -0.0033982075, -0.021905346, -0.008715894, -0.013324392, -0.040662397, -0.01932491, -0.0018895447, 0.006624429, -0.0020903472, -0.0025694133, -0.030286402, 0.039432086, 0.027457701, -0.015481358, -0.007849107, -0.0065854345, -0.008339923, 0.018206239, 0.014824809, 0.028893666, 0.026428493, -0.028694578, 0.009838218, 0.004402672, -0.0016722335, -0.07786465, 0.03208504, 0.031189527, -0.038613904, -0.056182925, -0.040675122, 0.04583646, -0.022317871, 0.033536695, -0.012188183, -0.027914014, 0.04673856, 0.03094932, -0.031320304, -0.024719466, -0.001773402, -0.029130904, -0.022201255, 0.015841706, 0.0048980345, 0.030408625, 0.005980447, 0.043606497, 0.009778648, 0.049533278, -0.010163103, 0.033161934, 0.004696454, 0.0036057997, 0.029346352, 0.0011972943, -0.043124005, -0.019422906, 0.025951425, -0.01911306, -0.03974805, 0.019106414, 0.011626953, 0.03514976, -0.018317183, -0.009061289, 0.040917974, -0.005938268, 0.014864314, -0.014695797, 0.008391038, -0.023473704, -0.030094963, 0.000763452, 0.00096088997, 0.012009243, 0.033198837, 0.058240112, 0.0047012516, -0.010772986, 0.018337192, -0.027846573, -0.05592668, -0.06235138, 0.072574325, -0.012162397, 0.022242924, 0.041237492, 0.015396041, -0.0101039745, -0.015791267, 0.06026266, -0.0096856225, 0.015334286, -0.034649726, -0.018429335, -0.08572429, -0.022155058, -0.029877981, 0.02699601, -0.030235512, 0.05111277, -0.031784095, -0.040523686, -0.018576488, -0.06292794, 0.051509004, -0.0051575564, 0.02815488, -0.05466892, -0.047780834, -0.0046008285, 0.009074647, -0.006808816, -0.014833036, -0.009107485, -0.046778243, -0.0047046286, -0.039713856, 0.015412878, -0.025888799, 0.02754873, 0.04109119, -0.0025452673, -0.100539155, 0.0018262346, 0.02939125, 0.033496104, 0.056912944, -0.048432853, -0.0044191824, -0.00076671527, 0.021533009, -0.0058995616, 0.04855681, 0.0024306069, -0.008469389, 0.012594998, -0.010444551, -0.011628298, 0.002666041, 0.048881136, 0.04808596, -0.025435017, -0.05481628, -0.022878937, 0.0025323364, -0.14605314, -0.026086917, -0.01799532, 0.02956023, 0.050272364, 0.03419649, -0.00028831506, -0.0073542306, 0.0033740636, -0.040178392, -0.0016608849, -0.017691165, -0.0060531227, -0.06858001, 0.03455019, -0.029270409, -0.050035555, -0.060934287, 0.011404291, 0.010177815, -0.06539598, 0.012050183, 0.08956608, -0.03497009, 0.03818844, 0.011979616, 0.043035146, 7.4354524e-05, 0.0019305727, -0.04418199, 0.0001866034, -0.042144936, 0.011179435, 0.034368195, 0.032929115, 0.067735545, 0.0037010708, 0.012087119, -0.02094984, 0.03354566, 0.070307136, -0.011167435, 0.038562987, -0.0058695744, 0.007308246, 0.026586499, 0.03242318, 0.039577708, 0.039479863, 0.005759358, 0.037706736, 0.046669822, 0.003953567, -0.015516143, -0.03944309, 0.01298669, 0.013893022, 0.0058971355, -0.006956313, -0.05689369, -0.045388754, 0.00018736544, 0.0007264287, -0.027111104, -0.05117692, -0.033563714, -0.033739045, 0.018279204, -0.02926487, 0.024551004, -0.04675916, 0.0061556674, -0.0055628726, 0.07226927, -0.02671035, 0.0218039, 0.013976092, 0.027653323, -0.039671488, 0.06911344, -0.0008928725, 0.016807657, -0.011463171, 0.021758378, -0.0050260583, -0.05731967, 0.046926, -0.00833864, 0.014247056, -0.008291585, 0.065132864, -7.91237e-05, -0.030350635, -0.02623267, 0.009834947, -0.060309187, -0.018390289, 0.0056995912, -0.02336322, -0.007870112, 0.013253031, 0.008073098, 0.04318811, 0.049753044, -0.011913664, 0.028279107, 0.033465274, 0.009862888, 0.026813844, -0.04563978, 0.008742838, 0.011662356, 0.018935038, -0.0020481863, 0.024047317, 0.029287485, 0.011776206, 0.08457349, 0.013303224, 0.025611456, -0.0039538173, -0.022217501, -0.025385628, 0.041588124, 0.008645236, 0.013514639, 0.03578007, 0.010802292, -0.016241454, 0.043744814, 0.03973337, 0.012761333, -0.004492482, -0.019785106, 0.0034968557, 0.0018782004, 0.0029775873, -0.015170324, -0.072430804, -0.025449246, 0.012541049, -0.0015601757, -0.004835209, 0.028609782, -0.010367122, -0.019779526, 0.09181546, 0.018837469, 0.020257153, -0.009041017, -0.021949185, 0.07082237, 0.013947867, 0.0070437854, 0.013835389, 0.012506831, 0.0346517, -0.014311486, -0.0413781, 0.042000636, 0.04154257, -0.0021185067, -0.04670821, -0.036993623, -0.05580605, -0.015174787, -0.06532898, -0.007290046, 0.03602439, 0.0057172556, -0.00835845, 0.048202395, 0.0013633138, -0.034737777, 0.029897409, -0.0010395418, 0.0031741739, -0.019068426, 0.025467936, -0.01787023, 0.08670598, -0.00060969003, -0.018934175, 0.038835235, 0.02914747, 0.029476497, 0.01048299, -0.03172375, 0.0041311034, 0.0030706387, -0.09918086, -0.026621696, 0.062101036, -0.002515275, 0.043240745, -0.013978847, 0.024430357, 0.001873341, -0.041895494, 0.004083941, -0.023649346, -0.032189038, -0.038441174, 0.059952345, -0.02685595, -0.05171298, 0.024707198, 0.013518996, -0.012229012, 0.007547112, 0.0570477, -0.0038305256, 0.043526422, -0.052981976, -0.014333865, 0.06066724, 0.012467594, 0.023269346, 0.04705535, 0.058135424, 0.023301203, 0.03523952, 0.037078176, 0.022768429, 0.032628067, 0.016350452, 0.0012565707, 0.061679237, 0.0396058, 0.011030486, 0.0031189437, 0.061263487, -0.021789197, 0.02122326, -0.051083874, -0.01208609, -0.077268995, 0.023678256, 0.042329613, -0.044160403, 0.03923836, 0.017554002, 0.00048243764, 0.0006962168, 0.02737986, -0.01691485, -0.01663999, -0.0036947255, -0.04783663, -0.028393677, -0.057121567, 0.04986561, -0.011788754, 0.052072514, -0.06970804, -0.010453265, -0.0050097364, -0.044397213, 0.008838967, -0.021201013, -0.05342958, 0.012640067, 0.027645076, 0.01938342, -0.0023096665, -0.010672509, 0.007936565, -0.05243637, 0.00021624821, -0.021900432, 0.030367877, -0.03837425, -0.0016718201, -0.01453431, -0.022744061, 0.01898347, -0.025191672, -0.047384135, 0.045267507, -0.025156107, -0.001808602, 0.039911356, 0.010484128, -0.007191233, 0.051708546, -0.04089315, 0.059173625, 0.054253057, -0.06843053, -0.04715183, -0.033311415, -0.0688355, -0.024428044, -0.013932498, -0.0070607057, 0.05543248, 0.003057583, -0.032492615, -0.1056603, 0.025596058, -0.029935151, -0.0067017563, 0.01568306, -0.000627145, -0.012658149, -0.038605303, 0.04124815, 0.019028557, -0.026878506, -0.012320178, 0.025028044, 0.01797316, 0.013479699, 0.0023451326, -0.021582175, 0.00091712247, 0.07901325, -0.083439074, 0.045410905, -0.017004572, 0.015389146, -0.007153328, 0.028812455, -0.05792469, 0.037446335, 0.06385049, 0.090189755, -0.006989835, -0.07612431, 0.02542938, -0.00056198414, 0.026156208, 0.03969829, 0.094448894, -0.022023423, 0.01833129, -0.035020355, 0.0030053775, -0.06345327, -0.044161204, -0.051304854, 0.0027987056, 0.025602935, -0.026130063, 0.025201712, -0.0067851716, -0.010186508, 0.016597532, -0.017635264, -0.029891685, -0.031408593, -0.025484482, -0.000532829, -0.00075384794, -0.033025224, -0.03891162, 0.002383804, 0.04035293, -0.002096047, 0.029885512, 0.009043977, 0.017304394, -0.04615821, 0.038071405, 0.0088880705, -0.03269285, 0.029277083, -0.014171375, -0.006685348, 0.015210837, 0.056909654, -0.01150971, -0.01753208, 0.014436388, 0.013738351, -0.044602253, 0.00022265715, 0.017239727, 0.005700044, 0.07962711, -0.013181598, -0.013587066, -0.042317756, 0.033438616, -0.0038366634, -0.06771388, -0.054910775, -0.04603629, -0.023978343, -0.033703327, 0.020366283, 0.045399703, -0.050754257, 0.035107583, -0.024871541, 0.016237192, 0.08059296, -0.033873763, 0.027221937, 0.057864446, 0.0147920195, 0.029770905, 0.046374418, -0.008541601, 0.02595878, 0.036809918, 0.03132947, 0.046842292, -0.0061746906, 0.021145066, -0.04994096, 0.004140939, -0.056843594, 0.027815029, 0.07875325, -0.01897869, -0.042418823, 0.07191788, -0.04606227, 0.020954957, 0.013996645, -0.04315427, 0.0032968838, 0.06333507, 0.032306883, -0.046080228, -0.032979, -0.020296903, 0.019018538, 0.019653942, -0.011549058, -0.030536534, 0.0071600685, -0.04956342, -0.08197909, 0.024074804, 0.04947071, 0.040281232, 0.036305744, 0.055005416, 0.017746132, 0.014833531, 0.034579355, 0.049951755, -0.04322378, 0.039139118, -0.006299712, -0.021967143, -0.038909405, -0.07069718, 0.07498566, -0.05038256]"
        ],
        [
         "1102",
         "Re: Once tapped, your code is no good any\n\n> (Andrew Molitor) writes:\n>>\tNot to pick on Mr. May in particular, of course, but isn't this\n>>kind of the domino theory? When one little country falls, its neighbor\n>>will surely follow, and before you know it, we're all mining salt\n>>in Siberia for not turning in our Captain Crunch Secret Decoder Rings.\n\nThere was an interesting column on the editorial page of the Dallas\nMorning News on Saturday by Walter Williams, who I believe is a\nprofessor at Georgetown (I wonder if he knows of Dorothy \"you're not in\nKansas anymore\" Denning).  The article was titled \"Government slowly\neroding our liberties\", and in it he tells a story attributed to the\nlate Leonard Read who\n\n        explained that if you wanted to take liberty away from\n        Americans, you had to know how to cook a frog.  Mr. Read\n        said you can't cook a frog by boiling a pot of water and\n        then throwing the frog in.  His reflexes are so quick that\n        as soon as his feet touch the water, he will leap away.\n        You must put the frog in a pot of cold water and heat it\n        up bit by bit.  By the time the frog realizes he's being\n        cooked, it is too late.  It is the same with Americans.\n        If anyone tried to take our freedoms all at once, we\n        would naturally rebel and suppress the tyrant.  But as\n        with successful frog cooking, our liberties can be taken\n        a little bit at a time.\n\nThe last line of the article says, \"It's not too late for us, but the\nwater is getting pretty warm.\"  I'd have toagree that it's warm and the\nClipper is keeping the temperature on an upward course.\n\nNOTE: followups redirected to alt.privacy.clipper\n\n---\nJim  \n   TI pays absolutely no attention to me or my opinions; therefore,\n   the foregoing information cannot possibly represent TI's viewpoint.\n",
         "11",
         "sci.crypt",
         "0",
         "[-0.013085202, 0.023637261, -0.042929057, 0.029835166, 0.026631681, 0.06337118, 0.065552995, 0.033039503, -0.008095737, -0.037251078, 0.064639844, 0.07550697, 0.033199906, 0.02332906, 0.059675515, -0.05862033, 0.093824945, 0.054835927, -0.010491489, -0.009986729, -0.022944931, 0.013546609, 0.002860115, 0.011801826, -0.016710266, -0.010331232, 0.020001616, -0.03584092, 0.041127592, -0.034399845, 0.041039843, 0.046395145, -0.008848817, -0.026669912, 0.03761377, -0.015443355, -0.02080158, 0.0137791615, 0.0036896523, -0.04515624, -0.044974256, -0.0034219197, -0.048430014, 0.07535481, -0.051601015, -0.0592932, -0.049789116, -0.04213059, -0.041757543, 0.016398339, -0.0048480467, 0.015889816, -0.0056665065, 0.031189412, -0.028477298, -0.031260595, -0.0069007888, -0.057633486, 0.010270163, -0.0705215, 0.021572432, -0.008302681, 0.020711856, -0.021163581, -0.00014225036, -0.017769836, -0.033779833, -0.0063090934, -0.02816843, -0.0040306277, -0.005572564, 0.09527057, -0.025012929, 0.06001037, 0.0076853973, 0.004929698, 0.086705424, -0.0265823, 0.06519765, 0.038783815, -0.018318176, -0.04542126, 0.04289652, -0.0069398116, 0.0076252413, -0.028708117, 0.028022528, 0.027827967, -0.09162341, -0.06654374, 0.08576759, 0.017092431, -0.048538134, -0.0147803975, 0.08056682, -0.023412274, -0.017241858, -0.10906206, 0.046955224, 0.013834099, 0.0046054632, -0.011210635, 0.02178301, 0.00023977109, 0.034432147, 0.02022462, -0.019516284, -0.0037816768, -0.07485883, 0.066783, 0.040992893, -0.004703192, -0.016360354, 0.010600561, -0.04993063, 0.019048939, 0.007725688, 0.0042114453, 0.00040151368, -0.065760635, 0.0058572744, 0.015770847, 0.029558644, 0.03997877, 0.012285582, -0.0023602687, -0.031234782, -0.012740949, -0.02529811, -0.023036713, 0.033693213, -0.055407096, -0.063975334, 0.045475923, 7.7078315e-05, 0.012555514, 0.004683962, 0.02154217, -0.019840598, 0.012434418, -0.019754024, -0.020800961, -0.053449508, 0.0039461846, 0.00041154554, -0.06766912, 0.026274096, 0.055062074, -0.032789126, 0.018994184, -0.013368643, -0.028837811, 0.022751248, 0.033523854, -0.06158502, -0.0014421544, 0.021857815, -0.06219882, 0.0646777, -0.017865118, -0.0063803233, -0.04508337, 0.021606496, 0.023494475, -0.017256923, -0.048281044, -0.00041082536, -0.11243641, -0.018404206, 0.028340261, -0.013892225, -0.011337677, -0.0421702, -0.011435251, -0.027629476, 0.0009042016, 0.03165781, -0.032089364, -0.01792782, -0.010527016, 0.013322698, -0.008083921, -0.013468179, -0.0011144101, -0.01903252, -0.008723828, 0.012728491, 0.015367037, 0.022515962, 0.07685195, -0.033537094, 0.020839356, 0.0319269, -0.03234421, -0.040403206, 0.023684854, 0.023832265, -0.04839615, -0.041169923, -0.015755361, 0.043340676, -0.017413758, 0.035198007, -0.02044871, -0.033029005, 0.028284425, 0.016278872, -0.021536015, -0.005160957, 0.029710723, -0.045141988, -0.067460686, 0.030558826, 0.010628597, 0.023117814, 0.030157693, 0.054991946, 0.022932595, 0.065676086, -0.013378608, 0.017239729, -0.00029010107, -0.042468388, 0.04963184, -0.005719927, -0.075821355, -0.011070961, 0.043116827, -0.008482786, -0.028537495, 0.033367842, 0.018269675, 0.019350994, -0.0184164, -0.000118346805, 0.025120962, 0.008486257, -0.022275575, -0.022362437, -0.037354417, -0.02795369, -0.04679747, 0.008458782, -0.012351758, 0.016163178, 0.04533627, 0.036205526, -0.011024438, -0.008321868, 0.02515698, -0.023084171, -0.014406944, -0.096583076, 0.0562425, -0.015806848, 0.04101464, 0.023104355, -0.0002769852, -0.026735272, -0.0054425616, 0.048336215, -0.018242497, 0.010785285, -0.020666687, -0.009517613, -0.10826356, -0.0154994475, -0.03358111, 0.0016878641, -0.017139299, 0.045390423, -0.03338303, -0.02448454, -0.008801759, -0.036968086, 0.030338902, 0.011270512, 0.044417888, -0.0681246, -0.04130783, -0.013556789, -0.025997216, 0.010751352, 0.003355954, -0.0064565847, -0.038338766, 0.0017100963, -0.026728325, -0.016060578, -0.020474913, 0.018932188, 0.036466498, -0.01575586, -0.10148327, -3.521631e-05, 0.045633752, 0.046221577, 0.07243422, -0.04993978, 0.021286858, -0.0042896606, -0.0061534806, 0.022730928, 0.021976892, 0.008420348, 0.009141803, 0.0045360588, -0.0359148, -0.024672454, 0.011410319, 0.046692666, 0.019564366, -0.025938978, -0.014029186, -0.034764376, 0.008469114, -0.14949135, -0.042052124, -0.022231195, 0.025264045, 0.03846487, 0.030470075, -0.013906052, -0.0014354296, 0.043180395, -0.041390855, 0.017200977, 0.006734796, 0.012839734, -0.04016307, 0.031646945, -0.032527268, -0.037165888, -0.077664815, -0.020752382, 0.006964825, -0.05978409, 0.020910988, 0.08178409, -0.013184467, 0.018874355, 0.007596213, 0.030561058, 0.019947995, -0.006511457, -0.031952493, 0.004336996, -0.041982174, 0.019762909, 0.017434144, 0.04420436, 0.033185307, 9.774578e-05, 0.016080335, -0.019854115, 0.011965949, 0.054469027, -0.016571244, 0.050115332, -0.0075963843, 0.0069562374, 0.032167107, 0.0021980284, 0.04337691, 0.007648901, 0.017162444, 0.05407187, 0.05466766, -0.008704534, -0.002921998, -0.012662499, 0.014773314, 0.013381953, -0.0037138665, 0.02138933, -0.05905173, -0.037819725, 0.03096427, 0.014369476, -0.054764673, -0.06434728, -0.01409701, -0.03157414, 0.036084436, -0.041514445, 0.04174793, -0.03759148, 0.0070218085, -0.0071872957, 0.07204659, -0.00040901414, 0.009260735, 0.004413122, 0.009511735, -0.022627646, 0.050600424, 0.01899885, 0.028767167, -0.026386028, 0.026964962, -0.020751132, -0.04654241, 0.046085786, -0.0060984623, 0.006261449, -0.0071720527, 0.071820684, -0.005210278, -0.043233976, -0.005942335, 0.0340921, -0.062412128, -0.022719616, 0.007502207, -0.005740682, 0.015301, -0.006028486, 0.011906784, 0.023186587, 0.03640132, -0.0482797, 0.01558417, 0.011976845, -0.0059609255, -0.0076120514, 0.0060968567, -0.008118267, 0.014987008, -0.00588605, -0.026491506, 0.018319016, 0.024101663, 0.004563786, 0.05433186, 0.015919598, 0.026156247, -0.010795293, -0.03127828, -0.034368373, 0.029664304, 0.03382942, 0.043187622, -0.01834012, -0.014482029, 0.0032204175, 0.025371298, 0.014619826, 0.024293207, -0.018980267, -0.013676827, 0.005688641, -0.011398227, -0.011057584, -0.042379446, -0.057428576, -0.014474824, 0.01981171, -0.0015754818, -0.011764151, 0.015375185, -0.008364583, 0.009946331, 0.08061434, 0.013585957, 0.011651563, -0.0132522425, -0.044207886, 0.056813587, -0.00032796437, 0.020895025, 0.034574937, -0.008413336, 0.042645343, -0.019423671, -0.046079338, 0.035604518, 0.062582426, 0.006332082, -0.041506678, -0.01878877, -0.040165205, -0.020195553, -0.05420886, -0.017172636, 0.037394747, 0.006236432, -0.014840536, 0.046424042, 0.005490395, -0.031175671, 0.020691553, -0.011699285, -0.026509624, -0.004978665, 0.05891878, -0.022860793, 0.080003686, -0.008892634, 0.0043966617, 0.045413274, 0.025571533, 0.06418532, -0.011535166, -0.055144116, -0.003484796, 0.016604912, -0.079598434, 0.016265426, 0.036888406, -0.004660334, 0.027692275, -0.02983408, 0.030198265, 0.017903976, -0.045238316, 0.008337478, -0.03972664, -0.004888598, -0.042383745, 0.08068447, -0.019266536, -0.06660804, -8.315037e-05, -0.0016072235, -0.014543239, 0.009394848, 0.034014348, -0.012886675, 0.029230963, -0.050356485, -0.010914003, 0.049271725, 0.006164943, 0.005344844, 0.027512813, 0.067810535, 0.053962942, 0.022948852, 0.039670072, -0.024700401, -0.00713565, 0.014638438, 0.0061096367, 0.06340393, 0.04105576, -0.00043453538, -0.0002788055, 0.07066047, -0.016463282, 0.014067824, -0.052765843, -0.018044414, -0.06034957, 0.03090141, 0.036968622, -0.0371533, 0.05287387, 0.016106814, -0.0012055617, 0.020733943, 0.02383281, -0.02527567, -0.021517796, -0.005969823, -0.044437803, -0.015889302, -0.058071293, 0.048237976, -0.0063128625, 0.044412825, -0.05840293, -0.032719746, 0.009445406, -0.07211645, 0.0094044795, -0.021905163, -0.011757988, -0.005930039, 0.003980266, 0.02126313, -0.0046289433, -0.022702893, -0.028469201, -0.03249913, -0.0027910701, -0.023854634, 0.045773316, -0.05227051, -0.0006196469, 0.008936058, -0.038140334, 0.009814222, -0.0050606853, -0.041627713, 0.046501767, -0.0062642316, -0.015700364, 0.021581443, 0.027337376, -0.026544584, 0.058602136, -0.055904992, 0.034954544, 0.05127426, -0.05771161, -0.041424647, -0.019188026, -0.040801704, 0.003995188, -0.012999094, 0.016463157, 0.04509781, 0.011657251, -0.019843401, -0.101034194, 0.04043706, -0.025270814, -0.008416013, 0.05781444, -0.006224072, 0.017073944, -0.014598716, 0.0338052, 0.03287552, -0.025906188, 0.015195488, 0.03756565, 0.012264484, 0.0029684792, -0.0015364359, -0.04596226, 0.0021248474, 0.102207534, -0.059847564, 0.058550507, -0.02997122, 0.0330602, -0.0072150715, 0.03177101, -0.021220809, 0.043957386, 0.056213297, 0.0908866, -0.0075032883, -0.071524054, 0.011952568, -0.013269429, 0.026120141, 0.043425474, 0.08383068, -0.02420211, 0.044445228, -0.043082297, 0.0066850022, -0.078308426, -0.042486478, -0.06873346, -0.009170229, 0.03197028, -0.017020378, 0.02154858, -0.010632444, -0.013373604, 0.02127254, -0.026768869, -0.040841736, -0.020669553, -0.029056828, 0.006326366, 0.010949041, -0.03324135, -0.03474779, 0.015165436, 0.06780649, -0.0014417251, 0.0031845996, 0.030146807, 0.0353769, -0.03469794, 0.031044183, 0.011227613, -0.036218304, 0.023359137, 0.0010895662, -0.0020402162, 0.02908678, 0.032163564, -0.0382886, -0.034893934, 0.014282139, 0.0032260527, -0.0074946685, -0.020416996, 0.035505127, 0.0019877972, 0.0714816, -0.027617374, -0.0074812965, -0.045266975, 0.014460511, 0.005543658, -0.05570602, -0.017825708, -0.03755121, -0.030974066, -0.042266585, 0.044206392, 0.047001872, -0.051044494, 0.011745574, -0.034627203, 0.022207184, 0.0875153, -0.039462388, 0.053615723, 0.05639831, 0.004177905, 0.062018804, 0.040520936, -0.026027625, 0.034469143, -0.0031826466, 0.026871296, 0.04085358, -0.02300638, 0.011659702, -0.06720168, 0.034114216, -0.03772137, -0.009547074, 0.084086485, 0.009457664, -0.055312097, 0.05071589, -0.058243964, 0.00916852, 0.0062357625, -0.0209353, 0.0024225067, 0.053220797, 0.03169079, -0.023266379, -0.017002618, -0.012782252, 0.018056303, 0.0324724, 0.00048589706, -0.038534917, -0.022342434, -0.040123567, -0.05010664, 0.032694746, 0.031452194, 0.034735397, 0.030381566, 0.048829276, -0.0051448043, 0.017748088, 0.062169135, 0.040702164, -0.03269105, 0.057946544, -0.004608527, -0.019228714, -0.063236, -0.056368317, 0.05232181, -0.06353513]"
        ],
        [
         "1103",
         "Re: The [secret] source of that announcement\n\nIn article <> Rick Miller <> writes:\n> (Jurgen Botz) writes:\n>> (Marc Horowitz N1NZU) writes:\n\n\n>>Seems like sombody didn't like your snooping around, Marc.\n>\n>Or, the more *likely* explanation is that Marc is spoofing.\n>                                          ^^^^^^^^^^^^^^^^\n>I sincerely doubt that Denning and crew are keen enough to react that\n>quickly, and I doubt they'd want to cripple their SMTP server t'boot.\n>\n\nMarc is not spoofing.  Try it yourself.  At least, the commands work\nexactly as he described (i.e. they do not work.)\n\n- Josh.\n\n\n-- \nNo pattern, content or thing is the being who looks out from each pair of eyes.\nAnd only that is important.  - E. T. Gendlin\n",
         "11",
         "sci.crypt",
         "0",
         "[-0.0071862526, 0.029348824, -0.028973125, 0.029960126, 0.023491796, 0.07509772, 0.059532207, 0.040138293, -0.004617425, -0.024960479, 0.08007118, 0.0565473, 0.018028703, -0.01622323, 0.07314613, -0.06964267, 0.098426774, 0.04674915, 0.008306668, -0.054021023, -0.027455157, 0.013719571, -0.00827971, 0.01894611, -0.017213285, -0.0034558657, 0.02054671, -0.0180938, 0.013597941, -0.02441494, 0.034018222, 0.036249604, -0.0138523, -0.016819173, 0.048756495, -0.018068528, -0.0011332724, 0.028247803, -0.0022153074, -0.049111657, -0.037665393, 0.0048445957, -0.041893527, 0.05545793, -0.04149863, -0.02500262, -0.022387216, -0.050013732, -0.052308436, 0.01856718, -0.012088045, 0.021342369, -0.011541152, 0.030992508, -0.028558336, -0.018640945, 0.007962619, -0.06693265, 0.011640983, -0.08570847, 0.015331295, -0.016369158, 0.029722985, -0.029892756, -0.01196398, -0.031502258, -0.015272227, 0.024616035, -0.029718442, -0.014705822, 0.008834103, 0.06530432, -0.018764589, 0.02778873, 0.012142956, 0.008355226, 0.08404284, 0.0032608723, 0.07288981, 0.033872284, -0.020421349, -0.03861163, 0.017081741, -0.016467558, 0.007354141, -0.035306685, 0.015586833, 0.017689774, -0.06906044, -0.033226505, 0.07349824, 0.029371254, -0.033714283, -0.002059241, 0.058556482, -0.008434895, 0.0007934006, -0.10315051, 0.0526189, 0.020330165, -0.013511486, -0.018742753, 0.008132219, 0.020513978, 0.040063567, 0.01594577, -0.034153346, 0.009872351, -0.084459, 0.06077876, 0.032787967, -0.002237561, -0.0071529187, -0.00586642, -0.04741988, 0.02980205, 0.004546518, 0.0019697938, 0.014468222, -0.065694615, 0.02571351, 0.040628616, 0.018124696, 0.015902502, 0.01121029, 0.0076570315, -0.017585525, -0.023453034, 0.008691557, -0.017777456, 0.056639407, -0.058862213, -0.043084733, 0.025241196, 0.0008668267, 0.025494667, 0.019518852, 0.033632137, -0.04134774, 0.011190614, -0.029396204, 0.0011186635, -0.07354942, -0.010570853, 0.007201448, -0.07680014, 0.023546817, 0.09527511, 4.9269438e-05, 0.01614157, -0.01088376, -0.04381097, 0.021650584, 0.038667727, -0.06415729, -0.0140611855, 0.011281282, -0.04594157, 0.075382665, -0.029335026, -0.024619997, -0.05543841, 0.0343702, 0.022701442, -0.013966102, -0.043587152, 0.0020258105, -0.11692776, -0.01305203, 0.010029516, -0.007220196, -0.015907688, -0.020740613, 0.023802225, -0.009485541, 0.017059326, 0.01580328, -0.014941407, -0.027993476, 0.005330485, 0.00959947, 0.0031127885, -0.0067054266, -0.003057995, -0.015573851, -0.006762585, 0.009432565, -0.011995199, 0.016350668, 0.06955532, -0.022016514, 0.019679047, 0.03484992, -0.0045853504, -0.053257357, 0.016826719, 0.027163269, -0.04253417, -0.030649, -0.020494966, 0.040767472, -0.024599776, 0.018820953, -0.006696729, -0.009808762, 0.01657604, 0.023453029, -0.020156704, -0.008960921, 0.0385102, -0.035927735, -0.05915134, 0.04239895, 0.009566318, 0.017527994, 0.03749643, 0.05458428, 0.033413853, 0.054846063, -0.011764793, 0.0053513846, 0.01151541, -0.065211855, 0.05890119, 0.009261344, -0.09918234, 0.014165607, 0.039008316, -0.022156995, -0.025852025, 0.03470862, 0.022129834, 0.012100781, -0.0371246, -0.016462613, 0.005975475, -0.0011324802, -0.01605645, -0.017731339, -0.013585112, -0.02890598, -0.051088516, -0.00019795205, 0.004227786, 0.026891965, 0.05318102, 0.06384347, -0.04369735, -0.0032986016, -0.0025079208, -0.011725688, -0.024846796, -0.091037236, 0.05769561, -0.0129581615, 0.035620768, 0.01636597, 0.0020396248, -0.022446731, -0.0005115149, 0.021179095, -0.019344477, 0.022017295, -0.015259047, -0.020560121, -0.0867707, -0.03411698, -0.04787263, 0.008687858, -0.007452983, 0.061467692, -0.03041759, -0.0023091433, -0.02544414, -0.050007675, 0.010367513, 0.006148558, 0.0294587, -0.07205627, -0.056712296, 0.0041801506, 0.0069944365, 0.01768623, -0.0164939, -0.022629442, -0.028739855, 0.0060876026, -0.05729857, 0.01687581, -0.01630569, 0.028920326, 0.051965043, -0.017922875, -0.08402775, 0.016312758, 0.031945243, 0.04408147, 0.07124668, -0.05608422, 0.029917523, -0.017938113, 0.0017109038, 0.011037834, 0.028139712, -0.004969993, 0.010240375, -0.013324447, -0.03845079, -0.045816123, 0.0102779595, 0.06184486, 0.020233322, -0.016568717, -0.0034623707, -0.022321064, -0.003918768, -0.10562708, -0.022657389, -0.023314511, 0.020330925, 0.02491771, 0.015972668, -0.026247105, -0.014319158, 0.036779866, -0.037630204, 0.022408128, 0.019223677, 0.012781094, -0.030587148, 0.045167048, -0.025517408, -0.03629459, -0.074761696, -0.0046571195, -0.005352024, -0.07043774, 0.021640183, 0.09178572, -0.024858976, 0.0319588, -0.005139137, 0.012115755, 0.019825717, 0.00972298, -0.03452997, 0.0030588342, -0.043513764, 0.029567316, -0.026445037, 0.02411572, 0.024456603, 0.021588283, 0.022130592, 0.011794406, 0.016979357, 0.040991046, -0.00882894, 0.04061143, -0.0040637627, 0.022836184, 0.0399742, -0.000588966, 0.0508093, -0.012613749, 0.01425779, 0.04854714, 0.039994054, -0.017741041, -0.0011316403, -0.0384152, 0.019753354, -0.009268243, -0.005628155, -0.024944594, -0.057123825, -0.008915126, 0.022031145, 0.009028032, -0.045182023, -0.055783637, -0.0047697527, -0.037871465, 0.022902174, -0.0097617535, 0.039960183, -0.05053704, 0.005311884, -0.0011114065, 0.05912385, 0.0071168058, 0.0009945444, 0.024813505, 0.03544932, -0.013911706, 0.044516362, 0.019559205, 0.04636848, -0.014708467, 0.054496326, -0.023979753, -0.03854643, 0.04122892, 0.013053197, -0.0012901451, 0.005915133, 0.06338826, 0.005201237, -0.021523688, -0.008037166, 0.03436555, -0.06872116, -0.034025818, -0.005287127, -0.021030378, 0.007818919, -0.007458496, 0.0131044, 0.023146642, 0.022771595, -0.034404486, 0.039670628, 0.023538344, -0.0030597912, -0.02515879, 0.0023268294, -0.0025430284, 0.010344621, 0.015943527, -0.028052628, 0.012103917, 0.0064206705, -0.0079697445, 0.026649764, 0.012205852, 0.01993675, -0.013802321, -0.04041069, -0.034485962, 0.00843442, 0.03722512, 0.043058146, 0.008225377, -0.008575258, 0.0041473554, 0.006451311, 0.01111618, 0.02160624, 0.021250179, -0.013944343, 0.02189429, -0.008061965, -0.0028761611, -0.030030902, -0.030751033, 0.0053584995, 0.012698673, 0.0021168366, -0.026354274, 0.011713162, -0.019477297, -0.003337338, 0.06301265, 0.0036494348, -0.0016513604, -0.007634687, -0.03944656, 0.0534853, 0.005459967, 0.009928587, 0.02163942, -0.021446083, 0.03536733, -0.021699697, -0.034902703, 0.047951423, 0.044236764, 0.0083067985, -0.04157805, -0.022537753, -0.03778446, -0.0062998147, -0.052750878, -0.011117287, 0.0420934, 0.02773208, -0.008624812, 0.028043455, 0.015285235, -0.024678953, 0.033607323, -0.01395601, -0.038354177, 0.018308686, 0.07075929, -0.04295144, 0.07676519, 0.0060880804, 0.0039684866, 0.06499632, 0.026319131, 0.04573696, -0.030563923, -0.051450178, 0.016635908, 0.0052118413, -0.08519014, 0.017457873, 0.05411799, -0.008380261, 0.01872407, -0.018383682, 0.03650977, 0.00024352371, -0.060603697, -0.0155893825, -0.027973227, -0.009683698, -0.02708982, 0.079764575, -0.016530816, -0.058235195, 0.010638775, -0.013545769, -0.021574615, -0.003052586, 0.039101128, 0.0007743451, 0.015900964, -0.029022042, -0.010867344, 0.0578172, -0.010124102, 0.028212192, 0.042572085, 0.05741559, 0.049824003, 0.03918869, 0.0641481, -0.0062528066, 0.01420608, 0.02845858, 0.028775174, 0.046514113, 0.037117682, -0.0022645532, -0.01295528, 0.05928661, -0.026896212, 0.015030405, -0.04675015, -0.02142582, -0.033006784, 0.01864087, 0.035921358, -0.041370768, 0.04984638, 0.03934304, -0.016762875, 0.031129777, 0.04226586, -0.007197686, -0.023891365, -0.009023262, -0.028773787, -0.042374715, -0.052520856, 0.07519356, 0.01782201, 0.06503746, -0.055492703, -0.026391957, 0.014804022, -0.07732623, 0.02027716, -0.019748716, -0.01746301, -0.0020195113, 0.027050503, 0.016870555, 0.0034511907, -0.0213345, -0.037879463, -0.057907518, -0.019388666, -0.039161168, 0.048350558, -0.061364386, -0.0011510184, 0.0401469, -0.034325678, 0.022370085, -0.0128008, -0.039698076, 0.060272127, 0.00056897, -0.007754953, 0.020925723, 0.012933206, -0.02224128, 0.06832915, -0.040054396, 0.029053407, 0.058890328, -0.05163606, -0.03674844, -0.038683914, -0.04908016, 0.0051799137, 0.0015708274, 0.014100681, 0.03779032, -0.002412919, -0.030620903, -0.09244049, 0.07179418, -0.024342818, -0.012245305, 0.067126945, -0.029223304, 0.013849996, -0.005909165, 0.020629643, 0.051092207, 0.02436559, -0.0049187974, 0.038228117, 0.018564645, 0.011703719, 0.0002754915, -0.039743964, 0.013662724, 0.07554787, -0.042781208, 0.06753921, -0.008904762, 0.038259182, 0.0006593262, 0.019458767, -0.021888776, 0.027250892, 0.069973744, 0.09397409, 0.0014037426, -0.07053279, -0.017739512, -0.0059462707, 0.034513302, 0.028140372, 0.051613208, -0.010334372, 0.036008906, -0.029538766, 0.010200854, -0.08881478, -0.04712509, -0.0563938, -0.021546666, 0.04693912, -0.026428172, 0.0008118223, -0.01723477, 0.0024835586, 0.027070891, -0.0480967, -0.055817757, -0.0062781903, -0.023961078, -0.005559454, -0.013060155, -0.017118918, -0.063187376, 0.04106079, 0.08001553, 0.023930708, 0.0100022685, 0.04131485, 0.030717736, -0.05012963, 0.035753977, 0.008708221, -0.02424226, 0.031274136, -0.02886924, 0.007764327, 0.03292471, 0.030748669, -0.047810555, -0.015172786, -0.0137887625, 0.0165541, -0.02363462, -0.0006605425, 0.044131186, 0.0047699837, 0.071023434, -0.033105593, -0.018470444, -0.030846665, 0.043061715, 0.018944131, -0.06488598, -0.007441139, -0.042060222, -0.026261395, -0.015931452, 0.056804042, 0.04663803, -0.0643717, 0.0207461, -0.033638265, 0.039016318, 0.10549694, -0.018254802, 0.080777995, 0.047360517, 0.007767626, 0.05457856, 0.05051561, -0.0058879084, 0.029513739, 0.008685576, 0.03460387, 0.05171202, -0.035245176, 0.013938176, -0.06204337, 0.012018041, -0.043922305, 0.009989597, 0.06366301, 0.023489714, -0.074646726, 0.05718147, -0.04926293, 0.02355209, 0.03415718, -0.0037289138, 0.013771624, 0.06414471, 0.016317025, -0.027971685, -0.033893507, -0.013417677, 0.025027124, 0.04123977, -0.009019981, -0.046318185, -0.010730236, -0.05048078, -0.084885806, 0.017966904, 0.033805553, 0.01739262, 0.016803984, 0.016993286, 0.0074774274, -0.0010474395, 0.045953076, 0.024102217, -0.019617327, 0.088540174, -0.0011271903, -0.036392186, -0.05325584, -0.059800785, 0.05116287, -0.033981264]"
        ],
        [
         "1104",
         "Re: Hard drive security for FBI targets\n\n\n> (Carl Ellison) writes:\n>For example, if I had a program on my disk which created totally random\n>files looking like encrypted messages and could demonstrate that the file\n>in question *could have been* created by that program, then my claim that\n>it was, in fact, created by that program must stand as true (since I'm\n>innocent) unless someone can prove me wrong.\n\nHMMM... that brings up a neat idea.  \n\nUnfortunately, it's SOOO neat, I think I ought to patent it.\n\nSo I can't tell you about it.\n\nSorry.  :-)\n\n\t-Bill\n\nCopyright 1993 William S. Yerazunis (aka Crah the Merciless)\nAll rights reserved, no responsibility taken.\n\n     \"I love the smell of flash powder in the morning! It smells like...like theatre\"\n",
         "11",
         "sci.crypt",
         "0",
         "[-0.023856975, 0.027937662, -0.02308856, 0.040359177, 0.021751072, 0.058053326, 0.07067641, 0.04736275, -0.01841251, -0.025949642, 0.07713543, 0.032886863, 0.006866015, -0.0032478888, 0.07287696, -0.06879345, 0.09051687, 0.05875529, 0.018567137, -0.047510237, -0.018968275, 0.016627986, -0.015893027, 0.011879976, 0.007524708, -0.0009917809, 0.020917008, -0.03074827, 0.033513278, -0.028520675, 0.03309099, 0.04886365, -0.0116255, -0.024396166, 0.050172027, -0.033350054, -0.026341008, 0.023763983, -0.0038163038, -0.05683545, -0.059906043, 0.011511029, -0.049141318, 0.044899736, -0.049662724, -0.027473401, -0.029809607, -0.05101666, -0.07161611, 0.014935235, -0.009015807, 0.010304824, -0.018491352, 0.038896903, -0.02249368, -0.026118955, 0.014211387, -0.06372381, 0.01564789, -0.069268934, 0.0073613995, -0.023378663, 0.023465855, -0.021456832, -0.004626855, -0.020261453, -0.044327017, 0.022293054, -0.027250405, -0.017044777, -0.0009823807, 0.055160344, -0.036494765, 0.036362693, 0.021165727, 0.0065460973, 0.08197975, 0.0012038164, 0.054562133, 0.04526107, -0.015138909, -0.023647051, 0.023627812, -0.01665522, 0.012049436, -0.029183632, 0.009270001, 0.016122973, -0.08117974, -0.046944357, 0.06506218, 0.033712428, -0.0378411, 0.0029673718, 0.05343378, -0.010899513, -0.0048333923, -0.09776599, 0.034576062, 0.01854224, -0.009117661, -0.010314183, 0.011765439, 0.030310383, 0.04100811, 0.03033592, -0.018187458, 0.013764675, -0.08053297, 0.08307797, 0.031511724, -0.01077834, -0.039548412, -0.010567636, -0.059580963, 0.041524857, -0.0029601892, 0.013714303, 0.007019451, -0.057796042, 0.03395232, 0.045150712, 0.005737694, 0.027543362, 0.0067722453, 0.0056973808, -0.027197434, -0.029237486, 0.016942851, -0.013587475, 0.06083714, -0.053577468, -0.061909206, 0.023984589, -0.0071327537, 0.04433523, -0.0022307832, 0.025891898, -0.030189566, 0.0046799374, -0.023901107, 0.014315811, -0.07189075, -0.016194424, 0.004985233, -0.07523538, 0.012837288, 0.0693244, -0.015029384, 0.0021556409, -0.022290394, -0.040701102, 0.02054121, 0.0390903, -0.078634754, -0.0158275, 0.022320768, -0.056510266, 0.06147493, -0.029017638, -0.0107272165, -0.040482573, 0.03437769, 0.030681737, -0.004358355, -0.03621851, 0.009686685, -0.10848698, -0.011342261, 0.019435164, -0.0058016647, -0.024190947, -0.029303875, 0.032428723, -0.027343001, 0.01684132, 0.028254641, -0.024642723, -0.036083348, 0.0026223513, 0.0037680855, 0.023230214, -0.014877404, -0.012404982, 0.0025806932, -0.008351211, -0.012626888, -0.024849169, 0.03658561, 0.07056597, -0.026917843, 0.010834491, 0.022249281, -0.021185607, -0.041921206, 0.014279944, 0.033500087, -0.054033533, -0.028897466, -0.032005273, 0.04193169, -0.036759835, 0.03131337, 0.0003875574, -0.010280122, 0.030908104, 0.028724281, -0.01439106, -0.024608089, 0.03043571, -0.030552885, -0.060849268, 0.045866445, 0.009729679, 0.025749246, 0.03214148, 0.050262384, 0.00051527604, 0.046059884, -0.0106946025, 0.02421722, 0.0051658023, -0.05291858, 0.056261, -0.0041163336, -0.076929115, -0.00095218956, 0.04618609, -0.022685444, -0.03431694, 0.014268323, 0.02717212, 0.023995196, -0.024839899, -0.025583845, 0.01396247, 0.0061005475, -0.0004570372, -0.01247963, -0.020107228, -0.037794635, -0.03696917, -0.0037163936, 0.013164673, 0.008569986, 0.037215993, 0.046873208, -0.038674906, 0.0034046217, 0.011282663, -0.0064179664, -0.015519804, -0.08552393, 0.060653403, -0.0027838356, 0.03922627, 0.027506253, -0.0007531545, -0.028522898, -0.007280079, 0.02878553, -0.016502691, 0.015804319, -0.019524843, -0.022289205, -0.08271628, -0.019837417, -0.031184414, 0.0036850525, -0.010334038, 0.055413023, -0.02958111, 0.00022932036, -0.022796994, -0.045400377, 0.011917996, 0.0022231902, 0.03906541, -0.058885828, -0.05002599, 0.0021052808, -0.0041223685, 0.015084984, -0.0035106686, -0.020833984, -0.03703396, -0.012238036, -0.067228176, 0.019932518, -0.014041086, 0.02387231, 0.041644055, -0.01423363, -0.09141989, 0.02505386, 0.03651137, 0.054235555, 0.04891515, -0.06261674, 0.017206535, -0.01182923, 0.0037459352, 0.015499796, 0.03151441, -0.008549375, -0.0066320384, -0.014856658, -0.022113303, -0.04253558, 0.014835453, 0.063023634, 0.018789165, -0.010533677, -0.018890642, -0.026288623, 0.014315817, -0.111609995, -0.019458296, -0.026676964, 0.03074847, 0.030323435, 0.025555786, -0.020103741, -0.010024436, 0.056110553, -0.039044537, 0.024974607, 0.012516519, 0.009379792, -0.038993083, 0.03397748, -0.020792859, -0.034000415, -0.08205256, -0.0009679572, 0.00625593, -0.07321991, 0.036207773, 0.08131176, -0.008483895, 0.03070621, -0.007279283, 0.008898176, 0.017475555, 0.008572796, -0.023990784, -0.006465242, -0.06173755, 0.008728329, -0.035796255, 0.038459904, 0.029670758, 0.019795679, 0.029074455, -0.0013498092, 0.028178751, 0.04477508, -0.001872441, 0.053481586, 0.0033310722, 0.01828257, 0.026364556, -0.0077689462, 0.046332695, -0.011844077, 0.011741161, 0.03319859, 0.020709084, -0.019596132, 0.01173073, -0.036968693, 0.01720767, 0.0057692965, -0.0045019113, -0.022871295, -0.06008414, 0.0034129177, 0.009474064, 0.027083866, -0.05700085, -0.064987265, -0.008413792, -0.03185863, 0.022227326, -0.017577842, 0.027700035, -0.050806794, -0.0061109457, -0.0012203421, 0.065948285, 0.010293699, -3.0524494e-05, 0.03215904, 0.01993049, -0.010551716, 0.053997815, 0.011336195, 0.033755973, -0.022130849, 0.03933318, 0.0061339512, -0.042876776, 0.048871893, 0.008246362, -0.007714835, 0.009790413, 0.060654964, -0.009349626, -0.03685178, -0.015672237, 0.038374513, -0.07830125, -0.029655397, 0.011038535, -0.00021108476, 0.014671904, -0.011673677, 0.0062687844, 0.020016456, 0.030039769, -0.046948865, 0.046711177, 0.018951872, -0.002774962, -0.024146628, -0.008204285, -0.020420102, 0.003441253, 0.016179021, -0.018598836, 0.0077820388, 0.0010077698, -0.004599391, 0.035588842, 0.015556938, 0.024430024, -0.015015321, -0.02883059, -0.041717123, 0.010638268, 0.051778585, 0.035128407, -0.0007707373, -0.007677042, 0.008178518, 0.0057771704, 0.008089491, 0.015909195, 0.015751684, -0.027144432, 0.011032157, -0.009198603, -0.0102434335, -0.027074376, -0.048783585, -0.004478678, 0.028754897, 0.005840718, -0.019788967, 0.020765916, -0.0048421626, -0.004864298, 0.07708232, 0.0014869862, 0.0052186833, -0.017264139, -0.027573116, 0.06689942, -0.022424236, -0.0021770443, 0.0132470885, -0.020062502, 0.029493073, -0.018176867, -0.043385383, 0.048286792, 0.032544423, 0.018495625, -0.03802563, -0.027022017, -0.030174881, -0.0055912123, -0.0572592, 0.0032233482, 0.057446137, 0.041649785, -0.0050476524, 0.027415734, 0.008447037, -0.025582226, 0.021596432, -0.0074532633, -0.051406387, 0.010985214, 0.05817632, -0.04077908, 0.07240981, -0.00527559, 0.0045928815, 0.05973994, 0.014127272, 0.050523005, -0.025559762, -0.041694272, 0.0021769372, 0.010047497, -0.10065151, 0.02628743, 0.050225303, -0.005307638, 0.026106078, -0.013203755, 0.04017907, -0.008614667, -0.03703865, -0.010116031, -0.021545637, -0.007418803, -0.014735798, 0.06873802, -0.014146915, -0.04385449, 0.019974317, 0.0034358415, -0.032025684, -0.0053080046, 0.046084482, -0.0046844687, 0.0119125545, -0.040770855, -0.0041636014, 0.06737241, -0.0029314111, 0.021776639, 0.051450543, 0.063904054, 0.068020865, 0.019308545, 0.05987885, -0.014777832, 0.014966765, 0.036801554, 0.026915777, 0.052979443, 0.034999244, -0.003792422, -0.0051533743, 0.056743234, -0.020743694, 0.021204343, -0.046133246, -0.024488617, -0.04744958, 0.027001064, 0.032697685, -0.04722557, 0.05608902, 0.0469828, -0.014432737, 0.032824975, 0.045659915, -0.007893389, -0.02193214, -0.01028191, -0.025127513, -0.05336548, -0.052044425, 0.067173146, 0.0006901495, 0.056952495, -0.06588357, -0.021803122, 0.003921635, -0.06908007, 0.015630111, -0.025194164, -0.019494202, 0.012255138, 0.009925767, 0.016708676, -0.007361189, -0.02887364, -0.024290621, -0.05907029, -0.009413375, -0.045626603, 0.048161514, -0.05670135, -0.0012159443, 0.018851308, -0.03580679, 0.030538952, -0.016223613, -0.035347577, 0.054250833, 0.01015947, -0.017979585, 0.041219953, 0.003987675, -0.021399064, 0.058875624, -0.047241025, 0.046270065, 0.05767531, -0.051374517, -0.035025354, -0.03239614, -0.053365152, 0.005320775, -0.0032129507, 0.0058394005, 0.035462514, -0.0036705267, -0.018536607, -0.0948827, 0.07479689, -0.025435947, -0.01898215, 0.050648727, -0.013541856, 0.009572231, -0.013401852, 0.026682245, 0.030546548, 0.021084264, -0.010392444, 0.022393337, 0.010830356, 0.0014240555, 0.0045616482, -0.044615228, 0.012418381, 0.08163664, -0.05066611, 0.06102402, -0.020856533, 0.03347601, 0.0050236857, 0.024345765, -0.02079068, 0.020823268, 0.08081013, 0.10145555, -0.013145558, -0.069468305, -0.018514657, 0.0013448622, 0.023882484, 0.028656214, 0.050748944, -0.034082092, 0.039022557, -0.033167724, 0.013087295, -0.0807268, -0.054237906, -0.056508075, -0.03393796, 0.03902509, -0.03251636, 0.015570887, -0.006185058, -0.0022637364, 0.0356953, -0.04569251, -0.055810466, -0.0022637185, -0.021664303, -0.0057001538, -0.012021902, -0.02425009, -0.07216126, 0.03173942, 0.08189231, 0.022049936, 0.0016785463, 0.031883236, 0.01853244, -0.051048037, 0.027636813, 5.6983918e-05, -0.032016583, 0.028389174, -0.041693587, 0.022724802, 0.030938929, 0.030647699, -0.033052776, -0.015177034, -0.019121999, 0.00533907, -0.028670678, 0.0067218663, 0.05358187, -0.0055754613, 0.08135916, -0.039261203, -0.020223822, -0.023345815, 0.03232018, 0.032323867, -0.06412964, -0.019661164, -0.03413041, -0.01120984, -0.028923383, 0.050122816, 0.04888817, -0.050061066, 0.020904329, -0.02724356, 0.03256521, 0.09951836, -0.015085373, 0.0692985, 0.029126164, -0.0008407237, 0.051005226, 0.048326313, -0.016450258, 0.03150373, 0.0016326201, 0.023778968, 0.04207296, -0.033358045, 0.02210443, -0.061905973, 0.018648436, -0.038358867, -0.0008958485, 0.06916319, 0.01930658, -0.06712881, 0.04597411, -0.05930381, 0.00581535, 0.0146841, -0.013567378, 0.005969508, 0.079638846, 0.01298008, -0.017805869, -0.025370127, -0.008474415, 0.024275815, 0.047433387, -0.021588376, -0.03612383, -0.011972166, -0.05706905, -0.06826086, 0.03741063, 0.017568756, 0.034236386, 0.03286919, 0.02541529, 0.017289227, 0.012466993, 0.04010598, 0.035016622, -0.014507371, 0.08170464, 0.006738724, -0.044875156, -0.061030768, -0.04430875, 0.061903067, -0.033162713]"
        ]
       ],
       "shape": {
        "columns": 5,
        "rows": 5
       }
      },
      "text/html": [
       "<div>\n",
       "<style scoped>\n",
       "    .dataframe tbody tr th:only-of-type {\n",
       "        vertical-align: middle;\n",
       "    }\n",
       "\n",
       "    .dataframe tbody tr th {\n",
       "        vertical-align: top;\n",
       "    }\n",
       "\n",
       "    .dataframe thead th {\n",
       "        text-align: right;\n",
       "    }\n",
       "</style>\n",
       "<table border=\"1\" class=\"dataframe\">\n",
       "  <thead>\n",
       "    <tr style=\"text-align: right;\">\n",
       "      <th></th>\n",
       "      <th>Text</th>\n",
       "      <th>Label</th>\n",
       "      <th>Class Name</th>\n",
       "      <th>Encoded Label</th>\n",
       "      <th>Embeddings</th>\n",
       "    </tr>\n",
       "  </thead>\n",
       "  <tbody>\n",
       "    <tr>\n",
       "      <th>1100</th>\n",
       "      <td>Re: text of White House announcement and Q&amp;As ...</td>\n",
       "      <td>11</td>\n",
       "      <td>sci.crypt</td>\n",
       "      <td>0</td>\n",
       "      <td>[-0.013124742, 0.030207282, -0.037421063, 0.03...</td>\n",
       "    </tr>\n",
       "    <tr>\n",
       "      <th>1101</th>\n",
       "      <td>Re: text of White House announcement and Q&amp;As ...</td>\n",
       "      <td>11</td>\n",
       "      <td>sci.crypt</td>\n",
       "      <td>0</td>\n",
       "      <td>[-0.011158817, 0.019066054, -0.05927952, -0.01...</td>\n",
       "    </tr>\n",
       "    <tr>\n",
       "      <th>1102</th>\n",
       "      <td>Re: Once tapped, your code is no good any\\n\\n&gt;...</td>\n",
       "      <td>11</td>\n",
       "      <td>sci.crypt</td>\n",
       "      <td>0</td>\n",
       "      <td>[-0.013085202, 0.023637261, -0.042929057, 0.02...</td>\n",
       "    </tr>\n",
       "    <tr>\n",
       "      <th>1103</th>\n",
       "      <td>Re: The [secret] source of that announcement\\n...</td>\n",
       "      <td>11</td>\n",
       "      <td>sci.crypt</td>\n",
       "      <td>0</td>\n",
       "      <td>[-0.0071862526, 0.029348824, -0.028973125, 0.0...</td>\n",
       "    </tr>\n",
       "    <tr>\n",
       "      <th>1104</th>\n",
       "      <td>Re: Hard drive security for FBI targets\\n\\n\\n&gt;...</td>\n",
       "      <td>11</td>\n",
       "      <td>sci.crypt</td>\n",
       "      <td>0</td>\n",
       "      <td>[-0.023856975, 0.027937662, -0.02308856, 0.040...</td>\n",
       "    </tr>\n",
       "  </tbody>\n",
       "</table>\n",
       "</div>"
      ],
      "text/plain": [
       "                                                   Text  ...                                         Embeddings\n",
       "1100  Re: text of White House announcement and Q&As ...  ...  [-0.013124742, 0.030207282, -0.037421063, 0.03...\n",
       "1101  Re: text of White House announcement and Q&As ...  ...  [-0.011158817, 0.019066054, -0.05927952, -0.01...\n",
       "1102  Re: Once tapped, your code is no good any\\n\\n>...  ...  [-0.013085202, 0.023637261, -0.042929057, 0.02...\n",
       "1103  Re: The [secret] source of that announcement\\n...  ...  [-0.0071862526, 0.029348824, -0.028973125, 0.0...\n",
       "1104  Re: Hard drive security for FBI targets\\n\\n\\n>...  ...  [-0.023856975, 0.027937662, -0.02308856, 0.040...\n",
       "\n",
       "[5 rows x 5 columns]"
      ]
     },
     "execution_count": 18,
     "metadata": {},
     "output_type": "execute_result"
    }
   ],
   "source": [
    "df_train.head()"
   ]
  },
  {
   "cell_type": "markdown",
   "id": "5eee47d5",
   "metadata": {},
   "source": [
    "### Neural Network"
   ]
  },
  {
   "cell_type": "code",
   "execution_count": 19,
   "id": "1244db4a",
   "metadata": {},
   "outputs": [],
   "source": [
    "import keras\n",
    "from keras import layers\n",
    "\n",
    "\n",
    "def build_classification_model(input_size: int, num_classes: int) -> keras.Model:\n",
    "    return keras.Sequential(\n",
    "        [\n",
    "            layers.Input([input_size], name=\"embedding_inputs\"),\n",
    "            layers.Dense(input_size, activation=\"relu\", name=\"hidden\"),\n",
    "            layers.Dense(num_classes, activation=\"softmax\",\n",
    "                         name=\"output_probs\"),\n",
    "        ]\n",
    "    )"
   ]
  },
  {
   "cell_type": "code",
   "execution_count": 20,
   "id": "6d4fbbae",
   "metadata": {},
   "outputs": [
    {
     "data": {
      "text/html": [
       "<pre style=\"white-space:pre;overflow-x:auto;line-height:normal;font-family:Menlo,'DejaVu Sans Mono',consolas,'Courier New',monospace\"><span style=\"font-weight: bold\">Model: \"sequential\"</span>\n",
       "</pre>\n"
      ],
      "text/plain": [
       "\u001b[1mModel: \"sequential\"\u001b[0m\n"
      ]
     },
     "metadata": {},
     "output_type": "display_data"
    },
    {
     "data": {
      "text/html": [
       "<pre style=\"white-space:pre;overflow-x:auto;line-height:normal;font-family:Menlo,'DejaVu Sans Mono',consolas,'Courier New',monospace\">┏━━━━━━━━━━━━━━━━━━━━━━━━━━━━━━━━━┳━━━━━━━━━━━━━━━━━━━━━━━━┳━━━━━━━━━━━━━━━┓\n",
       "┃<span style=\"font-weight: bold\"> Layer (type)                    </span>┃<span style=\"font-weight: bold\"> Output Shape           </span>┃<span style=\"font-weight: bold\">       Param # </span>┃\n",
       "┡━━━━━━━━━━━━━━━━━━━━━━━━━━━━━━━━━╇━━━━━━━━━━━━━━━━━━━━━━━━╇━━━━━━━━━━━━━━━┩\n",
       "│ hidden (<span style=\"color: #0087ff; text-decoration-color: #0087ff\">Dense</span>)                  │ (<span style=\"color: #00d7ff; text-decoration-color: #00d7ff\">None</span>, <span style=\"color: #00af00; text-decoration-color: #00af00\">768</span>)            │       <span style=\"color: #00af00; text-decoration-color: #00af00\">590,592</span> │\n",
       "├─────────────────────────────────┼────────────────────────┼───────────────┤\n",
       "│ output_probs (<span style=\"color: #0087ff; text-decoration-color: #0087ff\">Dense</span>)            │ (<span style=\"color: #00d7ff; text-decoration-color: #00d7ff\">None</span>, <span style=\"color: #00af00; text-decoration-color: #00af00\">4</span>)              │         <span style=\"color: #00af00; text-decoration-color: #00af00\">3,076</span> │\n",
       "└─────────────────────────────────┴────────────────────────┴───────────────┘\n",
       "</pre>\n"
      ],
      "text/plain": [
       "┏━━━━━━━━━━━━━━━━━━━━━━━━━━━━━━━━━┳━━━━━━━━━━━━━━━━━━━━━━━━┳━━━━━━━━━━━━━━━┓\n",
       "┃\u001b[1m \u001b[0m\u001b[1mLayer (type)                   \u001b[0m\u001b[1m \u001b[0m┃\u001b[1m \u001b[0m\u001b[1mOutput Shape          \u001b[0m\u001b[1m \u001b[0m┃\u001b[1m \u001b[0m\u001b[1m      Param #\u001b[0m\u001b[1m \u001b[0m┃\n",
       "┡━━━━━━━━━━━━━━━━━━━━━━━━━━━━━━━━━╇━━━━━━━━━━━━━━━━━━━━━━━━╇━━━━━━━━━━━━━━━┩\n",
       "│ hidden (\u001b[38;5;33mDense\u001b[0m)                  │ (\u001b[38;5;45mNone\u001b[0m, \u001b[38;5;34m768\u001b[0m)            │       \u001b[38;5;34m590,592\u001b[0m │\n",
       "├─────────────────────────────────┼────────────────────────┼───────────────┤\n",
       "│ output_probs (\u001b[38;5;33mDense\u001b[0m)            │ (\u001b[38;5;45mNone\u001b[0m, \u001b[38;5;34m4\u001b[0m)              │         \u001b[38;5;34m3,076\u001b[0m │\n",
       "└─────────────────────────────────┴────────────────────────┴───────────────┘\n"
      ]
     },
     "metadata": {},
     "output_type": "display_data"
    },
    {
     "data": {
      "text/html": [
       "<pre style=\"white-space:pre;overflow-x:auto;line-height:normal;font-family:Menlo,'DejaVu Sans Mono',consolas,'Courier New',monospace\"><span style=\"font-weight: bold\"> Total params: </span><span style=\"color: #00af00; text-decoration-color: #00af00\">593,668</span> (2.26 MB)\n",
       "</pre>\n"
      ],
      "text/plain": [
       "\u001b[1m Total params: \u001b[0m\u001b[38;5;34m593,668\u001b[0m (2.26 MB)\n"
      ]
     },
     "metadata": {},
     "output_type": "display_data"
    },
    {
     "data": {
      "text/html": [
       "<pre style=\"white-space:pre;overflow-x:auto;line-height:normal;font-family:Menlo,'DejaVu Sans Mono',consolas,'Courier New',monospace\"><span style=\"font-weight: bold\"> Trainable params: </span><span style=\"color: #00af00; text-decoration-color: #00af00\">593,668</span> (2.26 MB)\n",
       "</pre>\n"
      ],
      "text/plain": [
       "\u001b[1m Trainable params: \u001b[0m\u001b[38;5;34m593,668\u001b[0m (2.26 MB)\n"
      ]
     },
     "metadata": {},
     "output_type": "display_data"
    },
    {
     "data": {
      "text/html": [
       "<pre style=\"white-space:pre;overflow-x:auto;line-height:normal;font-family:Menlo,'DejaVu Sans Mono',consolas,'Courier New',monospace\"><span style=\"font-weight: bold\"> Non-trainable params: </span><span style=\"color: #00af00; text-decoration-color: #00af00\">0</span> (0.00 B)\n",
       "</pre>\n"
      ],
      "text/plain": [
       "\u001b[1m Non-trainable params: \u001b[0m\u001b[38;5;34m0\u001b[0m (0.00 B)\n"
      ]
     },
     "metadata": {},
     "output_type": "display_data"
    }
   ],
   "source": [
    "embedding_size = len(df_train[\"Embeddings\"].iloc[0])\n",
    "\n",
    "classifier = build_classification_model(\n",
    "    embedding_size, len(df_train[\"Class Name\"].unique())\n",
    ")\n",
    "classifier.summary()\n",
    "\n",
    "classifier.compile(\n",
    "    loss=keras.losses.SparseCategoricalCrossentropy(),\n",
    "    optimizer=keras.optimizers.Adam(learning_rate=0.001),\n",
    "    metrics=[\"accuracy\"],\n",
    ")"
   ]
  },
  {
   "cell_type": "markdown",
   "id": "95a41b72",
   "metadata": {},
   "source": [
    "### Train the model"
   ]
  },
  {
   "cell_type": "code",
   "execution_count": 21,
   "id": "9df2b70f",
   "metadata": {},
   "outputs": [
    {
     "name": "stdout",
     "output_type": "stream",
     "text": [
      "Epoch 1/20\n",
      "\u001b[1m13/13\u001b[0m \u001b[32m━━━━━━━━━━━━━━━━━━━━\u001b[0m\u001b[37m\u001b[0m \u001b[1m0s\u001b[0m 12ms/step - accuracy: 0.3123 - loss: 1.3688 - val_accuracy: 0.4000 - val_loss: 1.3073\n",
      "Epoch 2/20\n",
      "\u001b[1m13/13\u001b[0m \u001b[32m━━━━━━━━━━━━━━━━━━━━\u001b[0m\u001b[37m\u001b[0m \u001b[1m0s\u001b[0m 6ms/step - accuracy: 0.5589 - loss: 1.2387 - val_accuracy: 0.7200 - val_loss: 1.1558\n",
      "Epoch 3/20\n",
      "\u001b[1m13/13\u001b[0m \u001b[32m━━━━━━━━━━━━━━━━━━━━\u001b[0m\u001b[37m\u001b[0m \u001b[1m0s\u001b[0m 6ms/step - accuracy: 0.8855 - loss: 1.0471 - val_accuracy: 0.8600 - val_loss: 1.0083\n",
      "Epoch 4/20\n",
      "\u001b[1m13/13\u001b[0m \u001b[32m━━━━━━━━━━━━━━━━━━━━\u001b[0m\u001b[37m\u001b[0m \u001b[1m0s\u001b[0m 6ms/step - accuracy: 0.9275 - loss: 0.8559 - val_accuracy: 0.8100 - val_loss: 0.8678\n",
      "Epoch 5/20\n",
      "\u001b[1m13/13\u001b[0m \u001b[32m━━━━━━━━━━━━━━━━━━━━\u001b[0m\u001b[37m\u001b[0m \u001b[1m0s\u001b[0m 6ms/step - accuracy: 0.9435 - loss: 0.6797 - val_accuracy: 0.8800 - val_loss: 0.7112\n",
      "Epoch 6/20\n",
      "\u001b[1m13/13\u001b[0m \u001b[32m━━━━━━━━━━━━━━━━━━━━\u001b[0m\u001b[37m\u001b[0m \u001b[1m0s\u001b[0m 6ms/step - accuracy: 0.9640 - loss: 0.5348 - val_accuracy: 0.8900 - val_loss: 0.5973\n",
      "Epoch 7/20\n",
      "\u001b[1m13/13\u001b[0m \u001b[32m━━━━━━━━━━━━━━━━━━━━\u001b[0m\u001b[37m\u001b[0m \u001b[1m0s\u001b[0m 6ms/step - accuracy: 0.9640 - loss: 0.4096 - val_accuracy: 0.8800 - val_loss: 0.5053\n",
      "Epoch 8/20\n",
      "\u001b[1m13/13\u001b[0m \u001b[32m━━━━━━━━━━━━━━━━━━━━\u001b[0m\u001b[37m\u001b[0m \u001b[1m0s\u001b[0m 6ms/step - accuracy: 0.9723 - loss: 0.3212 - val_accuracy: 0.9300 - val_loss: 0.4394\n",
      "Epoch 9/20\n",
      "\u001b[1m13/13\u001b[0m \u001b[32m━━━━━━━━━━━━━━━━━━━━\u001b[0m\u001b[37m\u001b[0m \u001b[1m0s\u001b[0m 6ms/step - accuracy: 0.9724 - loss: 0.2557 - val_accuracy: 0.9300 - val_loss: 0.3816\n",
      "Epoch 10/20\n",
      "\u001b[1m13/13\u001b[0m \u001b[32m━━━━━━━━━━━━━━━━━━━━\u001b[0m\u001b[37m\u001b[0m \u001b[1m0s\u001b[0m 6ms/step - accuracy: 0.9815 - loss: 0.2096 - val_accuracy: 0.9300 - val_loss: 0.3717\n",
      "Epoch 11/20\n",
      "\u001b[1m13/13\u001b[0m \u001b[32m━━━━━━━━━━━━━━━━━━━━\u001b[0m\u001b[37m\u001b[0m \u001b[1m0s\u001b[0m 6ms/step - accuracy: 0.9657 - loss: 0.1865 - val_accuracy: 0.9200 - val_loss: 0.3249\n",
      "Epoch 12/20\n",
      "\u001b[1m13/13\u001b[0m \u001b[32m━━━━━━━━━━━━━━━━━━━━\u001b[0m\u001b[37m\u001b[0m \u001b[1m0s\u001b[0m 7ms/step - accuracy: 0.9678 - loss: 0.1623 - val_accuracy: 0.9400 - val_loss: 0.2996\n",
      "Epoch 13/20\n",
      "\u001b[1m13/13\u001b[0m \u001b[32m━━━━━━━━━━━━━━━━━━━━\u001b[0m\u001b[37m\u001b[0m \u001b[1m0s\u001b[0m 6ms/step - accuracy: 0.9854 - loss: 0.1481 - val_accuracy: 0.9400 - val_loss: 0.2995\n",
      "Epoch 14/20\n",
      "\u001b[1m13/13\u001b[0m \u001b[32m━━━━━━━━━━━━━━━━━━━━\u001b[0m\u001b[37m\u001b[0m \u001b[1m0s\u001b[0m 6ms/step - accuracy: 0.9869 - loss: 0.1156 - val_accuracy: 0.9500 - val_loss: 0.2653\n",
      "Epoch 15/20\n",
      "\u001b[1m13/13\u001b[0m \u001b[32m━━━━━━━━━━━━━━━━━━━━\u001b[0m\u001b[37m\u001b[0m \u001b[1m0s\u001b[0m 6ms/step - accuracy: 0.9916 - loss: 0.1074 - val_accuracy: 0.9500 - val_loss: 0.2482\n",
      "Epoch 16/20\n",
      "\u001b[1m13/13\u001b[0m \u001b[32m━━━━━━━━━━━━━━━━━━━━\u001b[0m\u001b[37m\u001b[0m \u001b[1m0s\u001b[0m 6ms/step - accuracy: 0.9872 - loss: 0.0972 - val_accuracy: 0.9400 - val_loss: 0.2444\n",
      "Epoch 17/20\n",
      "\u001b[1m13/13\u001b[0m \u001b[32m━━━━━━━━━━━━━━━━━━━━\u001b[0m\u001b[37m\u001b[0m \u001b[1m0s\u001b[0m 6ms/step - accuracy: 0.9894 - loss: 0.0916 - val_accuracy: 0.9500 - val_loss: 0.2258\n"
     ]
    }
   ],
   "source": [
    "import numpy as np\n",
    "\n",
    "\n",
    "NUM_EPOCHS = 20\n",
    "BATCH_SIZE = 32\n",
    "\n",
    "# Split the x and y components of the train and validation subsets.\n",
    "y_train = df_train[\"Encoded Label\"]\n",
    "x_train = np.stack(df_train[\"Embeddings\"])\n",
    "y_val = df_test[\"Encoded Label\"]\n",
    "x_val = np.stack(df_test[\"Embeddings\"])\n",
    "\n",
    "# Specify that it's OK to stop early if accuracy stabilises.\n",
    "early_stop = keras.callbacks.EarlyStopping(monitor=\"accuracy\", patience=3)\n",
    "\n",
    "# Train the model for the desired number of epochs.\n",
    "history = classifier.fit(\n",
    "    x=x_train,\n",
    "    y=y_train,\n",
    "    validation_data=(x_val, y_val),\n",
    "    callbacks=[early_stop],\n",
    "    batch_size=BATCH_SIZE,\n",
    "    epochs=NUM_EPOCHS,\n",
    ")"
   ]
  },
  {
   "cell_type": "code",
   "execution_count": 22,
   "id": "fa358aea",
   "metadata": {},
   "outputs": [
    {
     "name": "stdout",
     "output_type": "stream",
     "text": [
      "\u001b[1m4/4\u001b[0m \u001b[32m━━━━━━━━━━━━━━━━━━━━\u001b[0m\u001b[37m\u001b[0m \u001b[1m0s\u001b[0m 5ms/step - accuracy: 0.9540 - loss: 0.2118 \n"
     ]
    },
    {
     "data": {
      "text/plain": [
       "{'accuracy': 0.949999988079071, 'loss': 0.22575944662094116}"
      ]
     },
     "execution_count": 22,
     "metadata": {},
     "output_type": "execute_result"
    }
   ],
   "source": [
    "classifier.evaluate(x=x_val, y=y_val, return_dict=True)"
   ]
  },
  {
   "cell_type": "markdown",
   "id": "ad7bdb59",
   "metadata": {},
   "source": [
    "### Make Predictions"
   ]
  },
  {
   "cell_type": "code",
   "execution_count": 23,
   "id": "9d90ad30",
   "metadata": {},
   "outputs": [],
   "source": [
    "def make_prediction(text: str) -> list[float]:\n",
    "    \"\"\"Infer categories from the provided text.\"\"\"\n",
    "    # Remember that the model takes embeddings as input, so calculate them first.\n",
    "    embedded = embed_fn(text)\n",
    "\n",
    "    # And recall that the input must be batched, so here they are wrapped as a\n",
    "    # list to provide a batch of 1.\n",
    "    inp = np.array([embedded])\n",
    "\n",
    "    # And un-batched here.\n",
    "    [result] = classifier.predict(inp)\n",
    "    return result"
   ]
  },
  {
   "cell_type": "code",
   "execution_count": 24,
   "id": "1536ccc0",
   "metadata": {},
   "outputs": [
    {
     "name": "stdout",
     "output_type": "stream",
     "text": [
      "\u001b[1m1/1\u001b[0m \u001b[32m━━━━━━━━━━━━━━━━━━━━\u001b[0m\u001b[37m\u001b[0m \u001b[1m0s\u001b[0m 75ms/step\n",
      "sci.crypt: 0.09%\n",
      "sci.electronics: 0.34%\n",
      "sci.med: 0.15%\n",
      "sci.space: 99.42%\n"
     ]
    }
   ],
   "source": [
    "new_text = \"\"\"\n",
    "First-timer looking to get out of here.\n",
    "\n",
    "Hi, I'm writing about my interest in travelling to the outer limits!\n",
    "\n",
    "What kind of craft can I buy? What is easiest to access from this 3rd rock?\n",
    "\n",
    "Let me know how to do that please.\n",
    "\"\"\"\n",
    "\n",
    "result = make_prediction(new_text)\n",
    "\n",
    "for idx, category in enumerate(df_test[\"Class Name\"].cat.categories):\n",
    "    print(f\"{category}: {result[idx] * 100:0.2f}%\")"
   ]
  },
  {
   "cell_type": "markdown",
   "id": "7ccdac77",
   "metadata": {},
   "source": [
    "This text does not mention any space related thing, but its amazing that how the model predicts it correctly."
   ]
  }
 ],
 "metadata": {
  "kernelspec": {
   "display_name": "dsai",
   "language": "python",
   "name": "python3"
  },
  "language_info": {
   "codemirror_mode": {
    "name": "ipython",
    "version": 3
   },
   "file_extension": ".py",
   "mimetype": "text/x-python",
   "name": "python",
   "nbconvert_exporter": "python",
   "pygments_lexer": "ipython3",
   "version": "3.12.11"
  }
 },
 "nbformat": 4,
 "nbformat_minor": 5
}
