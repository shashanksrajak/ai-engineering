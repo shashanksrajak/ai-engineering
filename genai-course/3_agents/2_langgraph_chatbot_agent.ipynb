{
 "cells": [
  {
   "cell_type": "markdown",
   "id": "fe636842",
   "metadata": {},
   "source": [
    "## LangGraph Agent for Food Ordering Chatbot\n",
    "\n",
    "### Goal\n",
    "We will develop a chatbot that can take food orders from customers and process it.\n",
    "\n",
    "LangGraph works on the idea of modelling our workflow as `Graph` with each node performing some action. We need to define a `State` that is passed to each node."
   ]
  },
  {
   "cell_type": "code",
   "execution_count": 1,
   "id": "e7d0b504",
   "metadata": {},
   "outputs": [],
   "source": [
    "from typing import Annotated\n",
    "from typing_extensions import TypedDict\n",
    "\n",
    "from langgraph.graph.message import add_messages"
   ]
  },
  {
   "cell_type": "markdown",
   "id": "63ed4393",
   "metadata": {},
   "source": [
    "### The State"
   ]
  },
  {
   "cell_type": "code",
   "execution_count": 7,
   "id": "65348899",
   "metadata": {},
   "outputs": [],
   "source": [
    "class OrderState(TypedDict):\n",
    "    \"\"\"State representing the customer's order conversation.\"\"\"\n",
    "\n",
    "    # The chat conversation. This preserves the conversation history\n",
    "    # between nodes. The `add_messages` annotation indicates to LangGraph\n",
    "    # that state is updated by appending returned messages, not replacing\n",
    "    # them.\n",
    "    messages: Annotated[list, add_messages]\n",
    "\n",
    "    # The customer's in-progress order.\n",
    "    # its a list but can be a list of dict in real world to capture more details about the order\n",
    "    order: list[str]\n",
    "\n",
    "    # Flag indicating that the order is placed and completed.\n",
    "    finished: bool"
   ]
  },
  {
   "cell_type": "markdown",
   "id": "76cf50c5",
   "metadata": {},
   "source": [
    "### System Instructions\n",
    "Few challenges here\n",
    "1. Setting the right tone for the chatbot\n",
    "2. Keeping its scope limited to taking order because at the end of the day its a general purpose LLM, it can take any route of conversation talking about random topics\n",
    "3. Calling the right tools and getting the job done."
   ]
  },
  {
   "cell_type": "code",
   "execution_count": 2,
   "id": "afee3526",
   "metadata": {},
   "outputs": [],
   "source": [
    "# The system instruction defines how the chatbot is expected to behave and includes\n",
    "# rules for when to call different functions, as well as rules for the conversation, such\n",
    "# as tone and what is permitted for discussion.\n",
    "BARISTABOT_SYSINT = (\n",
    "    \"system\",  # 'system' indicates the message is a system instruction.\n",
    "    \"You are a BaristaBot, an interactive cafe ordering system. A human will talk to you about the \"\n",
    "    \"available products you have and you will answer any questions about menu items (and only about \"\n",
    "    \"menu items - no off-topic discussion, but you can chat about the products and their history). \"\n",
    "    \"The customer will place an order for 1 or more items from the menu, which you will structure \"\n",
    "    \"and send to the ordering system after confirming the order with the human. \"\n",
    "    \"\\n\\n\"\n",
    "    \"Add items to the customer's order with add_to_order, and reset the order with clear_order. \"\n",
    "    \"To see the contents of the order so far, call get_order (this is shown to you, not the user) \"\n",
    "    \"Always confirm_order with the user (double-check) before calling place_order. Calling confirm_order will \"\n",
    "    \"display the order items to the user and returns their response to seeing the list. Their response may contain modifications. \"\n",
    "    \"Always verify and respond with drink and modifier names from the MENU before adding them to the order. \"\n",
    "    \"If you are unsure a drink or modifier matches those on the MENU, ask a question to clarify or redirect. \"\n",
    "    \"You only have the modifiers listed on the menu. \"\n",
    "    \"Once the customer has finished ordering items, Call confirm_order to ensure it is correct then make \"\n",
    "    \"any necessary updates and then call place_order. Once place_order has returned, thank the user and \"\n",
    "    \"say goodbye!\"\n",
    "    \"\\n\\n\"\n",
    "    \"If any of the tools are unavailable, you can break the fourth wall and tell the user that \"\n",
    "    \"they have not implemented them yet and should keep reading to do so.\",\n",
    ")\n",
    "\n",
    "# This is the message with which the system opens the conversation.\n",
    "WELCOME_MSG = \"Welcome to the BaristaBot cafe. Type `q` to quit. How may I serve you today?\""
   ]
  },
  {
   "cell_type": "markdown",
   "id": "88b2a874",
   "metadata": {},
   "source": [
    "### Define a single node for chat"
   ]
  },
  {
   "cell_type": "code",
   "execution_count": 4,
   "id": "4d6487df",
   "metadata": {},
   "outputs": [],
   "source": [
    "from langgraph.graph import START, END, StateGraph\n",
    "from langchain_google_genai import ChatGoogleGenerativeAI"
   ]
  },
  {
   "cell_type": "code",
   "execution_count": 5,
   "id": "9d2dda57",
   "metadata": {},
   "outputs": [],
   "source": [
    "llm = ChatGoogleGenerativeAI(model=\"gemini-2.0-flash\")"
   ]
  },
  {
   "cell_type": "code",
   "execution_count": 8,
   "id": "74c966b7",
   "metadata": {},
   "outputs": [],
   "source": [
    "def chatbot(state: OrderState) -> OrderState:\n",
    "    \"\"\"The chatbot itself. A simple wrapper around the model's own chat interface.\"\"\"\n",
    "    message_history = [BARISTABOT_SYSINT] + state[\"messages\"]\n",
    "    return {\"messages\": [llm.invoke(message_history)]}"
   ]
  },
  {
   "cell_type": "code",
   "execution_count": 10,
   "id": "c8c2e46e",
   "metadata": {},
   "outputs": [],
   "source": [
    "# Set up the initial graph based on our state definition.\n",
    "graph_builder = StateGraph(OrderState)"
   ]
  },
  {
   "cell_type": "code",
   "execution_count": 11,
   "id": "67eac92a",
   "metadata": {},
   "outputs": [
    {
     "data": {
      "text/plain": [
       "<langgraph.graph.state.StateGraph at 0x120cbc080>"
      ]
     },
     "execution_count": 11,
     "metadata": {},
     "output_type": "execute_result"
    }
   ],
   "source": [
    "# Add the chatbot function to the app graph as a node called \"chatbot\".\n",
    "graph_builder.add_node(\"chatbot\", chatbot)\n",
    "\n",
    "# Define the chatbot node as the app entrypoint.\n",
    "graph_builder.add_edge(START, \"chatbot\")"
   ]
  },
  {
   "cell_type": "code",
   "execution_count": 12,
   "id": "eb2ca6e1",
   "metadata": {},
   "outputs": [],
   "source": [
    "chat_graph = graph_builder.compile()"
   ]
  },
  {
   "cell_type": "code",
   "execution_count": 13,
   "id": "7b66c814",
   "metadata": {},
   "outputs": [
    {
     "data": {
      "image/png": "[encoded data removed]",
      "text/plain": [
       "<IPython.core.display.Image object>"
      ]
     },
     "execution_count": 13,
     "metadata": {},
     "output_type": "execute_result"
    }
   ],
   "source": [
    "from IPython.display import Image, display\n",
    "\n",
    "Image(chat_graph.get_graph().draw_mermaid_png())"
   ]
  },
  {
   "cell_type": "markdown",
   "id": "58242ea1",
   "metadata": {},
   "source": [
    "Try this single node graph. Its only one turn chat now."
   ]
  },
  {
   "cell_type": "code",
   "execution_count": 15,
   "id": "737020e4",
   "metadata": {},
   "outputs": [
    {
     "name": "stdout",
     "output_type": "stream",
     "text": [
      "{'messages': [HumanMessage(content='Hello, what can you do?', additional_kwargs={}, response_metadata={}, id='bc83209e-3fcd-41d0-b311-e287a86e768c'),\n",
      "              AIMessage(content=\"Hi there! I'm BaristaBot, and I can take your coffee order. I know all about our menu and can answer your questions. I can add items to your order, confirm it with you, and then send it to the kitchen. What are you in the mood for today?\", additional_kwargs={}, response_metadata={'prompt_feedback': {'block_reason': 0, 'safety_ratings': []}, 'finish_reason': 'STOP', 'model_name': 'gemini-2.0-flash', 'safety_ratings': []}, id='run--00c4b6e1-6fc4-42f0-9642-57c58d15018e-0', usage_metadata={'input_tokens': 323, 'output_tokens': 61, 'total_tokens': 384, 'input_token_details': {'cache_read': 0}})]}\n",
      "HumanMessage: Hello, what can you do?\n",
      "AIMessage: Hi there! I'm BaristaBot, and I can take your coffee order. I know all about our menu and can answer your questions. I can add items to your order, confirm it with you, and then send it to the kitchen. What are you in the mood for today?\n"
     ]
    }
   ],
   "source": [
    "from pprint import pprint\n",
    "\n",
    "user_msg = \"Hello, what can you do?\"\n",
    "state = chat_graph.invoke({\"messages\": [user_msg]})\n",
    "\n",
    "# The state object contains lots of information. Uncomment the pprint lines to see it all.\n",
    "pprint(state)\n",
    "\n",
    "# Note that the final state now has 2 messages. Our HumanMessage, and an additional AIMessage.\n",
    "for msg in state[\"messages\"]:\n",
    "    print(f\"{type(msg).__name__}: {msg.content}\")"
   ]
  },
  {
   "cell_type": "code",
   "execution_count": 16,
   "id": "5c8c2a80",
   "metadata": {},
   "outputs": [
    {
     "name": "stdout",
     "output_type": "stream",
     "text": [
      "HumanMessage: Hello, what can you do?\n",
      "AIMessage: Hi there! I'm BaristaBot, and I can take your coffee order. I know all about our menu and can answer your questions. I can add items to your order, confirm it with you, and then send it to the kitchen. What are you in the mood for today?\n",
      "HumanMessage: Oh great, what kinds of latte can you make?\n",
      "AIMessage: We have a few delicious latte options:\n",
      "\n",
      "*   **Latte:** Our classic latte.\n",
      "*   **Mocha Latte:** A chocolatey version of our latte.\n",
      "*   **Caramel Latte:** A sweet and buttery latte.\n",
      "*   **Vanilla Latte:** A smooth and fragrant latte.\n",
      "\n",
      "Which one sounds good to you?\n"
     ]
    }
   ],
   "source": [
    "user_msg = \"Oh great, what kinds of latte can you make?\"\n",
    "\n",
    "state[\"messages\"].append(user_msg)\n",
    "state = chat_graph.invoke(state)\n",
    "\n",
    "# pprint(state)\n",
    "for msg in state[\"messages\"]:\n",
    "    print(f\"{type(msg).__name__}: {msg.content}\")"
   ]
  },
  {
   "cell_type": "markdown",
   "id": "92fed877",
   "metadata": {},
   "source": [
    "### Human Node"
   ]
  },
  {
   "cell_type": "code",
   "execution_count": 17,
   "id": "e0729262",
   "metadata": {},
   "outputs": [],
   "source": [
    "from langchain_core.messages.ai import AIMessage\n",
    "\n",
    "\n",
    "def human_node(state: OrderState) -> OrderState:\n",
    "    \"\"\"Display the last model message to the user, and receive the user's input.\"\"\"\n",
    "    last_msg = state[\"messages\"][-1]\n",
    "    print(\"Model:\", last_msg.content)\n",
    "\n",
    "    user_input = input(\"User: \")\n",
    "\n",
    "    # If it looks like the user is trying to quit, flag the conversation\n",
    "    # as over.\n",
    "    if user_input in {\"q\", \"quit\", \"exit\", \"goodbye\"}:\n",
    "        state[\"finished\"] = True\n",
    "\n",
    "    return state | {\"messages\": [(\"user\", user_input)]}\n",
    "\n",
    "\n",
    "def chatbot_with_welcome_msg(state: OrderState) -> OrderState:\n",
    "    \"\"\"The chatbot itself. A wrapper around the model's own chat interface.\"\"\"\n",
    "\n",
    "    if state[\"messages\"]:\n",
    "        # If there are messages, continue the conversation with the Gemini model.\n",
    "        new_output = llm.invoke([BARISTABOT_SYSINT] + state[\"messages\"])\n",
    "    else:\n",
    "        # If there are no messages, start with the welcome message.\n",
    "        new_output = AIMessage(content=WELCOME_MSG)\n",
    "\n",
    "    return state | {\"messages\": [new_output]}"
   ]
  },
  {
   "cell_type": "code",
   "execution_count": 18,
   "id": "b04a8146",
   "metadata": {},
   "outputs": [
    {
     "data": {
      "text/plain": [
       "<langgraph.graph.state.StateGraph at 0x120c65df0>"
      ]
     },
     "execution_count": 18,
     "metadata": {},
     "output_type": "execute_result"
    }
   ],
   "source": [
    "# Start building a new graph.\n",
    "graph_builder = StateGraph(OrderState)\n",
    "\n",
    "# Add the chatbot and human nodes to the app graph.\n",
    "graph_builder.add_node(\"chatbot\", chatbot_with_welcome_msg)\n",
    "graph_builder.add_node(\"human\", human_node)\n",
    "\n",
    "# Start with the chatbot again.\n",
    "graph_builder.add_edge(START, \"chatbot\")\n",
    "\n",
    "# The chatbot will always go to the human next.\n",
    "graph_builder.add_edge(\"chatbot\", \"human\")"
   ]
  },
  {
   "cell_type": "code",
   "execution_count": 19,
   "id": "b38b8620",
   "metadata": {},
   "outputs": [
    {
     "data": {
      "image/png": "[encoded data removed]",
      "text/plain": [
       "<IPython.core.display.Image object>"
      ]
     },
     "execution_count": 19,
     "metadata": {},
     "output_type": "execute_result"
    }
   ],
   "source": [
    "from typing import Literal\n",
    "\n",
    "\n",
    "def maybe_exit_human_node(state: OrderState) -> Literal[\"chatbot\", \"__end__\"]:\n",
    "    \"\"\"Route to the chatbot, unless it looks like the user is exiting.\"\"\"\n",
    "    if state.get(\"finished\", False):\n",
    "        return END\n",
    "    else:\n",
    "        return \"chatbot\"\n",
    "\n",
    "\n",
    "graph_builder.add_conditional_edges(\"human\", maybe_exit_human_node)\n",
    "\n",
    "chat_with_human_graph = graph_builder.compile()\n",
    "\n",
    "Image(chat_with_human_graph.get_graph().draw_mermaid_png())"
   ]
  },
  {
   "cell_type": "code",
   "execution_count": 20,
   "id": "9380d4a2",
   "metadata": {},
   "outputs": [
    {
     "name": "stdout",
     "output_type": "stream",
     "text": [
      "Model: Welcome to the BaristaBot cafe. Type `q` to quit. How may I serve you today?\n",
      "Model: ```tool_code\n",
      "add_to_order('coffee', {})\n",
      "```\n",
      "Model: ```tool_code\n",
      "get_order()\n",
      "```\n",
      "{'finished': True,\n",
      " 'messages': [AIMessage(content='Welcome to the BaristaBot cafe. Type `q` to quit. How may I serve you today?', additional_kwargs={}, response_metadata={}, id='a6968c46-0380-490d-845a-9ee25a94143a'),\n",
      "              HumanMessage(content='I want a coffee', additional_kwargs={}, response_metadata={}, id='c994ae87-25bf-4d94-8c54-09e7fb4110e8'),\n",
      "              AIMessage(content=\"```tool_code\\nadd_to_order('coffee', {})\\n```\", additional_kwargs={}, response_metadata={'prompt_feedback': {'block_reason': 0, 'safety_ratings': []}, 'finish_reason': 'STOP', 'model_name': 'gemini-2.0-flash', 'safety_ratings': []}, id='run--f91e2c3c-7d4b-4d25-9f43-396c14ac9399-0', usage_metadata={'input_tokens': 342, 'output_tokens': 16, 'total_tokens': 358, 'input_token_details': {'cache_read': 0}}),\n",
      "              HumanMessage(content='drinks', additional_kwargs={}, response_metadata={}, id='c1f46687-848e-4192-b4ee-85843eca6128'),\n",
      "              AIMessage(content='```tool_code\\nget_order()\\n```', additional_kwargs={}, response_metadata={'prompt_feedback': {'block_reason': 0, 'safety_ratings': []}, 'finish_reason': 'STOP', 'model_name': 'gemini-2.0-flash', 'safety_ratings': []}, id='run--cf3c7b3a-3696-4d7f-b661-1ccb52b699a7-0', usage_metadata={'input_tokens': 359, 'output_tokens': 11, 'total_tokens': 370, 'input_token_details': {'cache_read': 0}}),\n",
      "              HumanMessage(content='q', additional_kwargs={}, response_metadata={}, id='805616a0-3725-4eb5-8ad2-f0cc9f16bcb5')]}\n"
     ]
    }
   ],
   "source": [
    "# The default recursion limit for traversing nodes is 25 - setting it higher means\n",
    "# you can try a more complex order with multiple steps and round-trips (and you\n",
    "# can chat for longer!)\n",
    "config = {\"recursion_limit\": 100}\n",
    "\n",
    "# Remember that this will loop forever, unless you input `q`, `quit` or one of the\n",
    "# other exit terms defined in `human_node`.\n",
    "# Uncomment this line to execute the graph:\n",
    "state = chat_with_human_graph.invoke({\"messages\": []}, config)\n",
    "\n",
    "# Things to try:\n",
    "#  - Just chat! There's no ordering or menu yet.\n",
    "#  - 'q' to exit.\n",
    "\n",
    "pprint(state)"
   ]
  },
  {
   "cell_type": "markdown",
   "id": "d435f34d",
   "metadata": {},
   "source": [
    "### Adding the menu\n",
    "In a real cafe, the menu items will be dynamic - availability will change, new items can be created etc.\n",
    "So to build a chatbot, we need to create different tools. Tools can be stateful (that changes the orders), stateless (that just reads the items and orders)."
   ]
  },
  {
   "cell_type": "code",
   "execution_count": 23,
   "id": "edd6590c",
   "metadata": {},
   "outputs": [],
   "source": [
    "from langchain_core.tools import tool\n",
    "from langgraph.prebuilt import ToolNode"
   ]
  },
  {
   "cell_type": "code",
   "execution_count": 22,
   "id": "bc7875bd",
   "metadata": {},
   "outputs": [],
   "source": [
    "@tool\n",
    "def get_menu() -> str:\n",
    "    \"\"\"Provide the latest up-to-date menu.\"\"\"\n",
    "    # Note that this is just hard-coded text, but you could connect this to a live stock\n",
    "    # database, or you could use Gemini's multi-modal capabilities and take live photos of\n",
    "    # your cafe's chalk menu or the products on the counter and assmble them into an input.\n",
    "\n",
    "    return \"\"\"\n",
    "    MENU:\n",
    "    Coffee Drinks:\n",
    "    Espresso\n",
    "    Americano\n",
    "    Cold Brew\n",
    "\n",
    "    Coffee Drinks with Milk:\n",
    "    Latte\n",
    "    Cappuccino\n",
    "    Cortado\n",
    "    Macchiato\n",
    "    Mocha\n",
    "    Flat White\n",
    "\n",
    "    Tea Drinks:\n",
    "    English Breakfast Tea\n",
    "    Green Tea\n",
    "    Earl Grey\n",
    "\n",
    "    Tea Drinks with Milk:\n",
    "    Chai Latte\n",
    "    Matcha Latte\n",
    "    London Fog\n",
    "\n",
    "    Other Drinks:\n",
    "    Steamer\n",
    "    Hot Chocolate\n",
    "\n",
    "    Modifiers:\n",
    "    Milk options: Whole, 2%, Oat, Almond, 2% Lactose Free; Default option: whole\n",
    "    Espresso shots: Single, Double, Triple, Quadruple; default: Double\n",
    "    Caffeine: Decaf, Regular; default: Regular\n",
    "    Hot-Iced: Hot, Iced; Default: Hot\n",
    "    Sweeteners (option to add one or more): vanilla sweetener, hazelnut sweetener, caramel sauce, chocolate sauce, sugar free vanilla sweetener\n",
    "    Special requests: any reasonable modification that does not involve items not on the menu, for example: 'extra hot', 'one pump', 'half caff', 'extra foam', etc.\n",
    "\n",
    "    \"dirty\" means add a shot of espresso to a drink that doesn't usually have it, like \"Dirty Chai Latte\".\n",
    "    \"Regular milk\" is the same as 'whole milk'.\n",
    "    \"Sweetened\" means add some regular sugar, not a sweetener.\n",
    "\n",
    "    Soy milk has run out of stock today, so soy is not available.\n",
    "  \"\"\""
   ]
  },
  {
   "cell_type": "code",
   "execution_count": 24,
   "id": "c38dcacf",
   "metadata": {},
   "outputs": [],
   "source": [
    "# Define the tools and create a \"tools\" node.\n",
    "tools = [get_menu]\n",
    "tool_node = ToolNode(tools)\n",
    "\n",
    "# Attach the tools to the model so that it knows what it can call.\n",
    "llm_with_tools = llm.bind_tools(tools)"
   ]
  },
  {
   "cell_type": "code",
   "execution_count": 25,
   "id": "ffc53683",
   "metadata": {},
   "outputs": [],
   "source": [
    "def maybe_route_to_tools(state: OrderState) -> Literal[\"tools\", \"human\"]:\n",
    "    \"\"\"Route between human or tool nodes, depending if a tool call is made.\"\"\"\n",
    "    if not (msgs := state.get(\"messages\", [])):\n",
    "        raise ValueError(f\"No messages found when parsing state: {state}\")\n",
    "\n",
    "    # Only route based on the last message.\n",
    "    msg = msgs[-1]\n",
    "\n",
    "    # When the chatbot returns tool_calls, route to the \"tools\" node.\n",
    "    if hasattr(msg, \"tool_calls\") and len(msg.tool_calls) > 0:\n",
    "        return \"tools\"\n",
    "    else:\n",
    "        return \"human\"\n",
    "\n",
    "\n",
    "def chatbot_with_tools(state: OrderState) -> OrderState:\n",
    "    \"\"\"The chatbot with tools. A simple wrapper around the model's own chat interface.\"\"\"\n",
    "    defaults = {\"order\": [], \"finished\": False}\n",
    "\n",
    "    if state[\"messages\"]:\n",
    "        new_output = llm_with_tools.invoke(\n",
    "            [BARISTABOT_SYSINT] + state[\"messages\"])\n",
    "    else:\n",
    "        new_output = AIMessage(content=WELCOME_MSG)\n",
    "\n",
    "    # Set up some defaults if not already set, then pass through the provided state,\n",
    "    # overriding only the \"messages\" field.\n",
    "    return defaults | state | {\"messages\": [new_output]}"
   ]
  },
  {
   "cell_type": "code",
   "execution_count": 26,
   "id": "977c7e0a",
   "metadata": {},
   "outputs": [],
   "source": [
    "graph_builder = StateGraph(OrderState)"
   ]
  },
  {
   "cell_type": "code",
   "execution_count": 27,
   "id": "d1eff8fc",
   "metadata": {},
   "outputs": [
    {
     "data": {
      "image/png": "[encoded data removed]",
      "text/plain": [
       "<IPython.core.display.Image object>"
      ]
     },
     "execution_count": 27,
     "metadata": {},
     "output_type": "execute_result"
    }
   ],
   "source": [
    "# Add the nodes, including the new tool_node.\n",
    "graph_builder.add_node(\"chatbot\", chatbot_with_tools)\n",
    "graph_builder.add_node(\"human\", human_node)\n",
    "graph_builder.add_node(\"tools\", tool_node)\n",
    "\n",
    "# Chatbot may go to tools, or human.\n",
    "graph_builder.add_conditional_edges(\"chatbot\", maybe_route_to_tools)\n",
    "# Human may go back to chatbot, or exit.\n",
    "graph_builder.add_conditional_edges(\"human\", maybe_exit_human_node)\n",
    "\n",
    "# Tools always route back to chat afterwards.\n",
    "graph_builder.add_edge(\"tools\", \"chatbot\")\n",
    "\n",
    "graph_builder.add_edge(START, \"chatbot\")\n",
    "graph_with_menu = graph_builder.compile()\n",
    "\n",
    "Image(graph_with_menu.get_graph().draw_mermaid_png())"
   ]
  },
  {
   "cell_type": "code",
   "execution_count": 28,
   "id": "9b6dd909",
   "metadata": {},
   "outputs": [
    {
     "name": "stdout",
     "output_type": "stream",
     "text": [
      "Model: Welcome to the BaristaBot cafe. Type `q` to quit. How may I serve you today?\n",
      "Model: How may I serve you today?\n",
      "Model: We have several espresso drinks: Espresso, Americano, Latte, Cappuccino, Cortado, Macchiato, Mocha, and Flat White. Which one would you like?\n",
      "Model: Okay, one Americano. Would you like any modifiers? We have options for milk, espresso shots, caffeine, hot/iced, and sweeteners.\n",
      "Model: \n",
      "{'finished': True,\n",
      " 'messages': [AIMessage(content='Welcome to the BaristaBot cafe. Type `q` to quit. How may I serve you today?', additional_kwargs={}, response_metadata={}, id='32fca72c-4159-4b8f-91d5-a2cf6a3c4dc3'),\n",
      "              HumanMessage(content='hi', additional_kwargs={}, response_metadata={}, id='33a7f771-41e9-466a-b198-a1519d4bc78a'),\n",
      "              AIMessage(content='How may I serve you today?', additional_kwargs={}, response_metadata={'prompt_feedback': {'block_reason': 0, 'safety_ratings': []}, 'finish_reason': 'STOP', 'model_name': 'gemini-2.0-flash', 'safety_ratings': []}, id='run--1f6dc718-ac4b-4f9b-bd25-ec80830a0e98-0', usage_metadata={'input_tokens': 352, 'output_tokens': 8, 'total_tokens': 360, 'input_token_details': {'cache_read': 0}}),\n",
      "              HumanMessage(content='I want an espresso drink', additional_kwargs={}, response_metadata={}, id='b8ec60fe-8bd7-4f8e-8305-87bdbe67a387'),\n",
      "              AIMessage(content='', additional_kwargs={'function_call': {'name': 'get_menu', 'arguments': '{}'}}, response_metadata={'prompt_feedback': {'block_reason': 0, 'safety_ratings': []}, 'finish_reason': 'STOP', 'model_name': 'gemini-2.0-flash', 'safety_ratings': []}, id='run--e0e01db0-dbb5-46a2-bc0f-66961b420a2f-0', tool_calls=[{'name': 'get_menu', 'args': {}, 'id': '2bf7f926-f0c3-4acd-a13e-a1fef9923718', 'type': 'tool_call'}], usage_metadata={'input_tokens': 364, 'output_tokens': 3, 'total_tokens': 367, 'input_token_details': {'cache_read': 0}}),\n",
      "              ToolMessage(content='\\n    MENU:\\n    Coffee Drinks:\\n    Espresso\\n    Americano\\n    Cold Brew\\n\\n    Coffee Drinks with Milk:\\n    Latte\\n    Cappuccino\\n    Cortado\\n    Macchiato\\n    Mocha\\n    Flat White\\n\\n    Tea Drinks:\\n    English Breakfast Tea\\n    Green Tea\\n    Earl Grey\\n\\n    Tea Drinks with Milk:\\n    Chai Latte\\n    Matcha Latte\\n    London Fog\\n\\n    Other Drinks:\\n    Steamer\\n    Hot Chocolate\\n\\n    Modifiers:\\n    Milk options: Whole, 2%, Oat, Almond, 2% Lactose Free; Default option: whole\\n    Espresso shots: Single, Double, Triple, Quadruple; default: Double\\n    Caffeine: Decaf, Regular; default: Regular\\n    Hot-Iced: Hot, Iced; Default: Hot\\n    Sweeteners (option to add one or more): vanilla sweetener, hazelnut sweetener, caramel sauce, chocolate sauce, sugar free vanilla sweetener\\n    Special requests: any reasonable modification that does not involve items not on the menu, for example: \\'extra hot\\', \\'one pump\\', \\'half caff\\', \\'extra foam\\', etc.\\n\\n    \"dirty\" means add a shot of espresso to a drink that doesn\\'t usually have it, like \"Dirty Chai Latte\".\\n    \"Regular milk\" is the same as \\'whole milk\\'.\\n    \"Sweetened\" means add some regular sugar, not a sweetener.\\n\\n    Soy milk has run out of stock today, so soy is not available.\\n  ', name='get_menu', id='ba9e43d2-f68a-4067-9134-59120211e4a2', tool_call_id='2bf7f926-f0c3-4acd-a13e-a1fef9923718'),\n",
      "              AIMessage(content='We have several espresso drinks: Espresso, Americano, Latte, Cappuccino, Cortado, Macchiato, Mocha, and Flat White. Which one would you like?', additional_kwargs={}, response_metadata={'prompt_feedback': {'block_reason': 0, 'safety_ratings': []}, 'finish_reason': 'STOP', 'model_name': 'gemini-2.0-flash', 'safety_ratings': []}, id='run--f05f602e-c955-4d1a-957f-3231a5f680b3-0', usage_metadata={'input_tokens': 691, 'output_tokens': 34, 'total_tokens': 725, 'input_token_details': {'cache_read': 0}}),\n",
      "              HumanMessage(content='Americano', additional_kwargs={}, response_metadata={}, id='f9e96f3d-3c08-4a4e-aac2-900d09d80496'),\n",
      "              AIMessage(content='Okay, one Americano. Would you like any modifiers? We have options for milk, espresso shots, caffeine, hot/iced, and sweeteners.', additional_kwargs={}, response_metadata={'prompt_feedback': {'block_reason': 0, 'safety_ratings': []}, 'finish_reason': 'STOP', 'model_name': 'gemini-2.0-flash', 'safety_ratings': []}, id='run--3ee1874b-8773-456d-b856-f4d5c0df7974-0', usage_metadata={'input_tokens': 726, 'output_tokens': 30, 'total_tokens': 756, 'input_token_details': {'cache_read': 0}}),\n",
      "              HumanMessage(content='no', additional_kwargs={}, response_metadata={}, id='e5aa776f-6000-4c20-85bf-acc53c1801ab'),\n",
      "              AIMessage(content='', additional_kwargs={}, response_metadata={'prompt_feedback': {'block_reason': 0, 'safety_ratings': []}, 'finish_reason': 'MALFORMED_FUNCTION_CALL', 'model_name': 'gemini-2.0-flash', 'safety_ratings': []}, id='run--cd278308-27be-4a2d-81d9-1260e2173b22-0', usage_metadata={'input_tokens': 756, 'output_tokens': 0, 'total_tokens': 756, 'input_token_details': {'cache_read': 0}}),\n",
      "              HumanMessage(content='q', additional_kwargs={}, response_metadata={}, id='6a1d1bf9-2fe9-4736-8556-f3de014c6d98')],\n",
      " 'order': []}\n"
     ]
    }
   ],
   "source": [
    "# Remember that you have not implemented ordering yet, so this will loop forever,\n",
    "# unless you input `q`, `quit` or one of the other exit terms defined in the\n",
    "# `human_node`.\n",
    "# Uncomment this line to execute the graph:\n",
    "state = graph_with_menu.invoke({\"messages\": []}, config)\n",
    "\n",
    "# Things to try:\n",
    "# - I'd love an espresso drink, what have you got?\n",
    "# - What teas do you have?\n",
    "# - Can you do a long black? (this is on the menu as an \"Americano\" - see if it can\n",
    "#   figure it out)\n",
    "# - 'q' to exit.\n",
    "\n",
    "\n",
    "pprint(state)"
   ]
  },
  {
   "cell_type": "code",
   "execution_count": 29,
   "id": "180ba485",
   "metadata": {},
   "outputs": [],
   "source": [
    "from collections.abc import Iterable\n",
    "from random import randint\n",
    "\n",
    "from langchain_core.messages.tool import ToolMessage"
   ]
  },
  {
   "cell_type": "code",
   "execution_count": 32,
   "id": "82d2828f",
   "metadata": {},
   "outputs": [],
   "source": [
    "# These functions have no body; LangGraph does not allow @tools to update\n",
    "# the conversation state, so you will implement a separate node to handle\n",
    "# state updates. Using @tools is still very convenient for defining the tool\n",
    "# schema, so empty functions have been defined that will be bound to the LLM\n",
    "# but their implementation is deferred to the order_node.\n",
    "\n",
    "\n",
    "@tool\n",
    "def add_to_order(drink: str, modifiers: Iterable[str]) -> str:\n",
    "    \"\"\"Adds the specified drink to the customer's order, including any modifiers.\n",
    "\n",
    "    Returns:\n",
    "      The updated order in progress.\n",
    "    \"\"\"\n",
    "\n",
    "\n",
    "@tool\n",
    "def confirm_order() -> str:\n",
    "    \"\"\"Asks the customer if the order is correct.\n",
    "\n",
    "    Returns:\n",
    "      The user's free-text response.\n",
    "    \"\"\"\n",
    "\n",
    "\n",
    "@tool\n",
    "def get_order() -> str:\n",
    "    \"\"\"Returns the users order so far. One item per line.\"\"\"\n",
    "\n",
    "\n",
    "@tool\n",
    "def clear_order():\n",
    "    \"\"\"Removes all items from the user's order.\"\"\"\n",
    "\n",
    "\n",
    "@tool\n",
    "def place_order() -> int:\n",
    "    \"\"\"Sends the order to the barista for fulfillment.\n",
    "\n",
    "    Returns:\n",
    "      The estimated number of minutes until the order is ready.\n",
    "    \"\"\"\n",
    "\n",
    "\n",
    "def order_node(state: OrderState) -> OrderState:\n",
    "    \"\"\"The ordering node. This is where the order state is manipulated.\"\"\"\n",
    "    tool_msg = state.get(\"messages\", [])[-1]\n",
    "    order = state.get(\"order\", [])\n",
    "    outbound_msgs = []\n",
    "    order_placed = False\n",
    "\n",
    "    for tool_call in tool_msg.tool_calls:\n",
    "\n",
    "        if tool_call[\"name\"] == \"add_to_order\":\n",
    "\n",
    "            # Each order item is just a string. This is where it assembled as \"drink (modifiers, ...)\".\n",
    "            modifiers = tool_call[\"args\"][\"modifiers\"]\n",
    "            modifier_str = \", \".join(\n",
    "                modifiers) if modifiers else \"no modifiers\"\n",
    "\n",
    "            order.append(f'{tool_call[\"args\"][\"drink\"]} ({modifier_str})')\n",
    "            response = \"\\n\".join(order)\n",
    "\n",
    "        elif tool_call[\"name\"] == \"confirm_order\":\n",
    "\n",
    "            # We could entrust the LLM to do order confirmation, but it is a good practice to\n",
    "            # show the user the exact data that comprises their order so that what they confirm\n",
    "            # precisely matches the order that goes to the kitchen - avoiding hallucination\n",
    "            # or reality skew.\n",
    "\n",
    "            # In a real scenario, this is where you would connect your POS screen to show the\n",
    "            # order to the user.\n",
    "\n",
    "            print(\"Your order:\")\n",
    "            if not order:\n",
    "                print(\"  (no items)\")\n",
    "\n",
    "            for drink in order:\n",
    "                print(f\"  {drink}\")\n",
    "\n",
    "            response = input(\"Is this correct? \")\n",
    "\n",
    "        elif tool_call[\"name\"] == \"get_order\":\n",
    "\n",
    "            response = \"\\n\".join(order) if order else \"(no order)\"\n",
    "\n",
    "        elif tool_call[\"name\"] == \"clear_order\":\n",
    "\n",
    "            order.clear()\n",
    "            response = None\n",
    "\n",
    "        elif tool_call[\"name\"] == \"place_order\":\n",
    "\n",
    "            order_text = \"\\n\".join(order)\n",
    "            print(\"Sending order to kitchen!\")\n",
    "            print(order_text)\n",
    "\n",
    "            # TODO(you!): Implement cafe.\n",
    "            order_placed = True\n",
    "            response = randint(1, 5)  # ETA in minutes\n",
    "\n",
    "        else:\n",
    "            raise NotImplementedError(\n",
    "                f'Unknown tool call: {tool_call[\"name\"]}')\n",
    "\n",
    "        # Record the tool results as tool messages.\n",
    "        outbound_msgs.append(\n",
    "            ToolMessage(\n",
    "                content=response,\n",
    "                name=tool_call[\"name\"],\n",
    "                tool_call_id=tool_call[\"id\"],\n",
    "            )\n",
    "        )\n",
    "\n",
    "    return {\"messages\": outbound_msgs, \"order\": order, \"finished\": order_placed}\n",
    "\n",
    "\n",
    "def maybe_route_to_tools(state: OrderState) -> str:\n",
    "    \"\"\"Route between chat and tool nodes if a tool call is made.\"\"\"\n",
    "    if not (msgs := state.get(\"messages\", [])):\n",
    "        raise ValueError(f\"No messages found when parsing state: {state}\")\n",
    "\n",
    "    msg = msgs[-1]\n",
    "\n",
    "    if state.get(\"finished\", False):\n",
    "        # When an order is placed, exit the app. The system instruction indicates\n",
    "        # that the chatbot should say thanks and goodbye at this point, so we can exit\n",
    "        # cleanly.\n",
    "        return END\n",
    "\n",
    "    elif hasattr(msg, \"tool_calls\") and len(msg.tool_calls) > 0:\n",
    "        # Route to `tools` node for any automated tool calls first.\n",
    "        if any(\n",
    "            tool[\"name\"] in tool_node.tools_by_name.keys() for tool in msg.tool_calls\n",
    "        ):\n",
    "            return \"tools\"\n",
    "        else:\n",
    "            return \"ordering\"\n",
    "\n",
    "    else:\n",
    "        return \"human\""
   ]
  },
  {
   "cell_type": "code",
   "execution_count": 33,
   "id": "e22e9940",
   "metadata": {},
   "outputs": [
    {
     "data": {
      "image/png": "[encoded data removed]",
      "text/plain": [
       "<IPython.core.display.Image object>"
      ]
     },
     "execution_count": 33,
     "metadata": {},
     "output_type": "execute_result"
    }
   ],
   "source": [
    "# Auto-tools will be invoked automatically by the ToolNode\n",
    "auto_tools = [get_menu]\n",
    "tool_node = ToolNode(auto_tools)\n",
    "\n",
    "# Order-tools will be handled by the order node.\n",
    "order_tools = [add_to_order, confirm_order,\n",
    "               get_order, clear_order, place_order]\n",
    "\n",
    "# The LLM needs to know about all of the tools, so specify everything here.\n",
    "llm_with_tools = llm.bind_tools(auto_tools + order_tools)\n",
    "\n",
    "\n",
    "graph_builder = StateGraph(OrderState)\n",
    "\n",
    "# Nodes\n",
    "graph_builder.add_node(\"chatbot\", chatbot_with_tools)\n",
    "graph_builder.add_node(\"human\", human_node)\n",
    "graph_builder.add_node(\"tools\", tool_node)\n",
    "graph_builder.add_node(\"ordering\", order_node)\n",
    "\n",
    "# Chatbot -> {ordering, tools, human, END}\n",
    "graph_builder.add_conditional_edges(\"chatbot\", maybe_route_to_tools)\n",
    "# Human -> {chatbot, END}\n",
    "graph_builder.add_conditional_edges(\"human\", maybe_exit_human_node)\n",
    "\n",
    "# Tools (both kinds) always route back to chat afterwards.\n",
    "graph_builder.add_edge(\"tools\", \"chatbot\")\n",
    "graph_builder.add_edge(\"ordering\", \"chatbot\")\n",
    "\n",
    "graph_builder.add_edge(START, \"chatbot\")\n",
    "graph_with_order_tools = graph_builder.compile()\n",
    "\n",
    "Image(graph_with_order_tools.get_graph().draw_mermaid_png())"
   ]
  },
  {
   "cell_type": "code",
   "execution_count": 34,
   "id": "2029e458",
   "metadata": {},
   "outputs": [
    {
     "name": "stdout",
     "output_type": "stream",
     "text": [
      "Model: Welcome to the BaristaBot cafe. Type `q` to quit. How may I serve you today?\n",
      "Model: OK. We have Espresso, Americano, and Cold Brew. Which coffee drink would you like?\n",
      "Model: Ok, I have added a Cold Brew to your order. Anything else?\n"
     ]
    }
   ],
   "source": [
    "# Uncomment this line to execute the graph:\n",
    "state = graph_with_order_tools.invoke({\"messages\": []}, config)\n",
    "\n",
    "# Things to try:\n",
    "# - Order a drink!\n",
    "# - Make a change to your order.\n",
    "# - \"Which teas are from England?\"\n",
    "# - Note that the graph should naturally exit after placing an order.\n",
    "\n",
    "# pprint(state)"
   ]
  },
  {
   "cell_type": "code",
   "execution_count": 35,
   "id": "57174390",
   "metadata": {},
   "outputs": [
    {
     "name": "stdout",
     "output_type": "stream",
     "text": [
      "{'finished': True,\n",
      " 'messages': [AIMessage(content='Welcome to the BaristaBot cafe. Type `q` to quit. How may I serve you today?', additional_kwargs={}, response_metadata={}, id='d02ae344-08b9-4ea1-af0d-adf54a57feea'),\n",
      "              HumanMessage(content='coffee', additional_kwargs={}, response_metadata={}, id='b98a9da3-3931-439f-9c81-979732d62fde'),\n",
      "              AIMessage(content='', additional_kwargs={'function_call': {'name': 'get_menu', 'arguments': '{}'}}, response_metadata={'prompt_feedback': {'block_reason': 0, 'safety_ratings': []}, 'finish_reason': 'STOP', 'model_name': 'gemini-2.0-flash', 'safety_ratings': []}, id='run--d3497dcc-3522-4690-a814-c7e86990ba80-0', tool_calls=[{'name': 'get_menu', 'args': {}, 'id': '3c16d01e-f744-4415-a1e1-9b0723b11392', 'type': 'tool_call'}], usage_metadata={'input_tokens': 478, 'output_tokens': 3, 'total_tokens': 481, 'input_token_details': {'cache_read': 0}}),\n",
      "              ToolMessage(content='\\n    MENU:\\n    Coffee Drinks:\\n    Espresso\\n    Americano\\n    Cold Brew\\n\\n    Coffee Drinks with Milk:\\n    Latte\\n    Cappuccino\\n    Cortado\\n    Macchiato\\n    Mocha\\n    Flat White\\n\\n    Tea Drinks:\\n    English Breakfast Tea\\n    Green Tea\\n    Earl Grey\\n\\n    Tea Drinks with Milk:\\n    Chai Latte\\n    Matcha Latte\\n    London Fog\\n\\n    Other Drinks:\\n    Steamer\\n    Hot Chocolate\\n\\n    Modifiers:\\n    Milk options: Whole, 2%, Oat, Almond, 2% Lactose Free; Default option: whole\\n    Espresso shots: Single, Double, Triple, Quadruple; default: Double\\n    Caffeine: Decaf, Regular; default: Regular\\n    Hot-Iced: Hot, Iced; Default: Hot\\n    Sweeteners (option to add one or more): vanilla sweetener, hazelnut sweetener, caramel sauce, chocolate sauce, sugar free vanilla sweetener\\n    Special requests: any reasonable modification that does not involve items not on the menu, for example: \\'extra hot\\', \\'one pump\\', \\'half caff\\', \\'extra foam\\', etc.\\n\\n    \"dirty\" means add a shot of espresso to a drink that doesn\\'t usually have it, like \"Dirty Chai Latte\".\\n    \"Regular milk\" is the same as \\'whole milk\\'.\\n    \"Sweetened\" means add some regular sugar, not a sweetener.\\n\\n    Soy milk has run out of stock today, so soy is not available.\\n  ', name='get_menu', id='47128eaf-8730-41ac-aa5c-f8f398e7f828', tool_call_id='3c16d01e-f744-4415-a1e1-9b0723b11392'),\n",
      "              AIMessage(content='OK. We have Espresso, Americano, and Cold Brew. Which coffee drink would you like?', additional_kwargs={}, response_metadata={'prompt_feedback': {'block_reason': 0, 'safety_ratings': []}, 'finish_reason': 'STOP', 'model_name': 'gemini-2.0-flash', 'safety_ratings': []}, id='run--4c56db59-b557-4193-87dd-ef21931aadec-0', usage_metadata={'input_tokens': 805, 'output_tokens': 20, 'total_tokens': 825, 'input_token_details': {'cache_read': 0}}),\n",
      "              HumanMessage(content='Cold Brew', additional_kwargs={}, response_metadata={}, id='9597067b-32e0-4717-af61-4f1ef576a934'),\n",
      "              AIMessage(content='', additional_kwargs={'function_call': {'name': 'add_to_order', 'arguments': '{\"drink\": \"Cold Brew\", \"modifiers\": []}'}}, response_metadata={'prompt_feedback': {'block_reason': 0, 'safety_ratings': []}, 'finish_reason': 'STOP', 'model_name': 'gemini-2.0-flash', 'safety_ratings': []}, id='run--5e97562c-819d-4a09-b6d3-0e8983e55924-0', tool_calls=[{'name': 'add_to_order', 'args': {'drink': 'Cold Brew', 'modifiers': []}, 'id': '9f70f26a-28fc-4294-b549-5e9b44229263', 'type': 'tool_call'}], usage_metadata={'input_tokens': 826, 'output_tokens': 9, 'total_tokens': 835, 'input_token_details': {'cache_read': 0}}),\n",
      "              ToolMessage(content='Cold Brew (no modifiers)', name='add_to_order', id='640179bb-32fe-492a-9bc2-f2db9da62497', tool_call_id='9f70f26a-28fc-4294-b549-5e9b44229263'),\n",
      "              AIMessage(content='Ok, I have added a Cold Brew to your order. Anything else?', additional_kwargs={}, response_metadata={'prompt_feedback': {'block_reason': 0, 'safety_ratings': []}, 'finish_reason': 'STOP', 'model_name': 'gemini-2.0-flash', 'safety_ratings': []}, id='run--7f745388-a85c-46dd-9f99-9949e23c1578-0', usage_metadata={'input_tokens': 847, 'output_tokens': 15, 'total_tokens': 862, 'input_token_details': {'cache_read': 0}}),\n",
      "              HumanMessage(content='q', additional_kwargs={}, response_metadata={}, id='c4ec5e21-5f85-4981-a427-6a0a333f6ffe')],\n",
      " 'order': ['Cold Brew (no modifiers)']}\n"
     ]
    }
   ],
   "source": [
    "pprint(state)"
   ]
  }
 ],
 "metadata": {
  "kernelspec": {
   "display_name": "dsai",
   "language": "python",
   "name": "python3"
  },
  "language_info": {
   "codemirror_mode": {
    "name": "ipython",
    "version": 3
   },
   "file_extension": ".py",
   "mimetype": "text/x-python",
   "name": "python",
   "nbconvert_exporter": "python",
   "pygments_lexer": "ipython3",
   "version": "3.12.11"
  }
 },
 "nbformat": 4,
 "nbformat_minor": 5
}
