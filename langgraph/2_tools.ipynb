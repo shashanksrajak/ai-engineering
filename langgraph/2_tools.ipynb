{
 "cells": [
  {
   "cell_type": "markdown",
   "id": "00f5e295",
   "metadata": {},
   "source": [
    "## Tools\n",
    "\n",
    "LLMs are limited by their knowledge and capabilities, they will answer only based on their training data. So to give them some super powers, we use tools.\n",
    "\n",
    "In fact this is not a super power, because we still use them as LLMs where we talk with them in natural language. Think of it like, when LLM does not know anything, it knows it has some tools at its disposal, it calls them. So these tools are external to the LLM, designed by us. These tools only respond the required knowledge by the LLM, in natural language. Now the LLM got the knowledge, using which it gives the final response to the user.\n",
    "\n",
    "#### Goal\n",
    "In this tutorial, we will add a `Web Search` tool which will help our model to answer questions which it does not know. After all web search is the most powerful tool to keep our model up to date.\n",
    "\n",
    "Use Tavily Search Engine tool https://www.tavily.com\n"
   ]
  },
  {
   "cell_type": "code",
   "execution_count": 1,
   "id": "813e214e",
   "metadata": {},
   "outputs": [
    {
     "data": {
      "text/plain": [
       "True"
      ]
     },
     "execution_count": 1,
     "metadata": {},
     "output_type": "execute_result"
    }
   ],
   "source": [
    "from dotenv import load_dotenv\n",
    "\n",
    "load_dotenv()"
   ]
  },
  {
   "cell_type": "markdown",
   "id": "4317e142",
   "metadata": {},
   "source": [
    "### 1. Define the tool"
   ]
  },
  {
   "cell_type": "code",
   "execution_count": 3,
   "id": "68961193",
   "metadata": {},
   "outputs": [
    {
     "name": "stdout",
     "output_type": "stream",
     "text": [
      "{'answer': None,\n",
      " 'follow_up_questions': None,\n",
      " 'images': [],\n",
      " 'query': \"What's a 'node' in LangGraph?\",\n",
      " 'response_time': 1.24,\n",
      " 'results': [{'content': 'TL;DR: LangGraph is module built on top of LangChain '\n",
      "                         'to better enable creation of cyclical graphs, often '\n",
      "                         'needed for agent runtimes. This state is updated by '\n",
      "                         'nodes in the graph, which return operations to '\n",
      "                         'attributes of this state (in the form of a key-value '\n",
      "                         'store). After adding nodes, you can then add edges '\n",
      "                         'to create the graph. An example of this may be in '\n",
      "                         'the basic agent runtime, where we always want the '\n",
      "                         'model to be called after we call a tool. The state '\n",
      "                         'of this graph by default contains concepts that '\n",
      "                         \"should be familiar to you if you've used LangChain \"\n",
      "                         'agents: `input`, `chat_history`, '\n",
      "                         '`intermediate_steps` (and `agent_outcome` to '\n",
      "                         'represent the most recent agent outcome)',\n",
      "              'raw_content': None,\n",
      "              'score': 0.7407191,\n",
      "              'title': 'LangGraph - LangChain Blog',\n",
      "              'url': 'https://blog.langchain.dev/langgraph/'},\n",
      "             {'content': '*   **Stateful Graph:** LangGraph revolves around '\n",
      "                         'the concept of a stateful graph, where each node in '\n",
      "                         'the graph represents a step in your computation, and '\n",
      "                         'the graph maintains a state that is passed around '\n",
      "                         'and updated as the computation progresses. LangGraph '\n",
      "                         'supports conditional edges, allowing you to '\n",
      "                         'dynamically determine the next node to execute based '\n",
      "                         'on the current state of the graph. Image 10: '\n",
      "                         'Introduction to AI Agent with LangChain and '\n",
      "                         'LangGraph: A Beginner’s Guide Image 18: How to build '\n",
      "                         'LLM Agent with LangGraph\\u200a—\\u200aStateGraph and '\n",
      "                         'Reducer Image 20: Simplest Graphs using LangGraph '\n",
      "                         'Framework Image 24: Building a ReAct Agent with '\n",
      "                         'Langgraph: A Step-by-Step Guide Image 28: Building '\n",
      "                         'an Agentic RAG with LangGraph: A Step-by-Step Guide',\n",
      "              'raw_content': None,\n",
      "              'score': 0.65279555,\n",
      "              'title': \"Introduction to LangGraph: A Beginner's Guide - Medium\",\n",
      "              'url': 'https://medium.com/@cplog/introduction-to-langgraph-a-beginners-guide-14f9be027141'}]}\n"
     ]
    }
   ],
   "source": [
    "from langchain_tavily import TavilySearch\n",
    "from pprint import pprint\n",
    "\n",
    "web_search_tool = TavilySearch(max_results=2)\n",
    "tools = [web_search_tool]\n",
    "res = web_search_tool.invoke(\"What's a 'node' in LangGraph?\")\n",
    "pprint(res)"
   ]
  },
  {
   "cell_type": "markdown",
   "id": "908f01a4",
   "metadata": {},
   "source": [
    "### 2. Define the Graph"
   ]
  },
  {
   "cell_type": "code",
   "execution_count": 4,
   "id": "69fd2140",
   "metadata": {},
   "outputs": [],
   "source": [
    "from langchain.chat_models import init_chat_model\n",
    "\n",
    "llm = init_chat_model(\"google_genai:gemini-2.0-flash\")"
   ]
  },
  {
   "cell_type": "code",
   "execution_count": 5,
   "id": "eb6846a2",
   "metadata": {},
   "outputs": [
    {
     "data": {
      "text/plain": [
       "<langgraph.graph.state.StateGraph at 0x10edd8c20>"
      ]
     },
     "execution_count": 5,
     "metadata": {},
     "output_type": "execute_result"
    }
   ],
   "source": [
    "from typing import Annotated\n",
    "from typing_extensions import TypedDict\n",
    "from langgraph.graph import StateGraph, START, END\n",
    "from langgraph.graph.message import add_messages\n",
    "\n",
    "\n",
    "class State(TypedDict):\n",
    "    messages: Annotated[list, add_messages]\n",
    "\n",
    "\n",
    "graph_builder = StateGraph(State)\n",
    "\n",
    "# Modification: tell the LLM which tools it can call\n",
    "# instead of directly invoking the llm we bind the tools first\n",
    "llm_with_tools = llm.bind_tools(tools)\n",
    "\n",
    "\n",
    "def chatbot(state: State):\n",
    "    return {\"messages\": [llm_with_tools.invoke(state[\"messages\"])]}\n",
    "\n",
    "\n",
    "graph_builder.add_node(\"chatbot\", chatbot)"
   ]
  },
  {
   "cell_type": "markdown",
   "id": "da2a4cd4",
   "metadata": {},
   "source": [
    "### 3. Function to run tools\n",
    "\n",
    "Here we define it from scratch but Langgraph has prebuilt solutions for tool node - `ToolNode`\n"
   ]
  },
  {
   "cell_type": "code",
   "execution_count": 6,
   "id": "f76c700b",
   "metadata": {},
   "outputs": [
    {
     "data": {
      "text/plain": [
       "<langgraph.graph.state.StateGraph at 0x10edd8c20>"
      ]
     },
     "execution_count": 6,
     "metadata": {},
     "output_type": "execute_result"
    }
   ],
   "source": [
    "import json\n",
    "from langchain_core.messages import ToolMessage\n",
    "\n",
    "class BasicToolNode:\n",
    "    \"\"\"A node that runs the tools requested in the last AIMessage.\"\"\"\n",
    "\n",
    "    def __init__(self, tools: list) -> None:\n",
    "        self.tools_by_name = {tool.name: tool for tool in tools}\n",
    "\n",
    "    def __call__(self, inputs: dict):\n",
    "        if messages := inputs.get(\"messages\", []):\n",
    "            message = messages[-1]\n",
    "        else:\n",
    "            raise ValueError(\"No message found in input\")\n",
    "        outputs = []\n",
    "        for tool_call in message.tool_calls:\n",
    "            tool_result = self.tools_by_name[tool_call[\"name\"]].invoke(\n",
    "                tool_call[\"args\"]\n",
    "            )\n",
    "            outputs.append(\n",
    "                ToolMessage(\n",
    "                    content=json.dumps(tool_result),\n",
    "                    name=tool_call[\"name\"],\n",
    "                    tool_call_id=tool_call[\"id\"],\n",
    "                )\n",
    "            )\n",
    "        return {\"messages\": outputs}\n",
    "\n",
    "\n",
    "tool_node = BasicToolNode(tools=[web_search_tool])\n",
    "graph_builder.add_node(\"tools\", tool_node)"
   ]
  },
  {
   "cell_type": "code",
   "execution_count": 7,
   "id": "d2eb25bb",
   "metadata": {},
   "outputs": [],
   "source": [
    "def route_tools(\n",
    "    state: State,\n",
    "):\n",
    "    \"\"\"\n",
    "    Use in the conditional_edge to route to the ToolNode if the last message\n",
    "    has tool calls. Otherwise, route to the end.\n",
    "    \"\"\"\n",
    "    if isinstance(state, list):\n",
    "        ai_message = state[-1]\n",
    "    elif messages := state.get(\"messages\", []):\n",
    "        ai_message = messages[-1]\n",
    "    else:\n",
    "        raise ValueError(\n",
    "            f\"No messages found in input state to tool_edge: {state}\")\n",
    "    if hasattr(ai_message, \"tool_calls\") and len(ai_message.tool_calls) > 0:\n",
    "        return \"tools\"\n",
    "    return END\n",
    "\n",
    "\n",
    "# The `tools_condition` function returns \"tools\" if the chatbot asks to use a tool, and \"END\" if\n",
    "# it is fine directly responding. This conditional routing defines the main agent loop.\n",
    "graph_builder.add_conditional_edges(\n",
    "    \"chatbot\",\n",
    "    route_tools,\n",
    "    # The following dictionary lets you tell the graph to interpret the condition's outputs as a specific node\n",
    "    # It defaults to the identity function, but if you\n",
    "    # want to use a node named something else apart from \"tools\",\n",
    "    # You can update the value of the dictionary to something else\n",
    "    # e.g., \"tools\": \"my_tools\"\n",
    "    {\"tools\": \"tools\", END: END},\n",
    ")\n",
    "# Any time a tool is called, we return to the chatbot to decide the next step\n",
    "graph_builder.add_edge(\"tools\", \"chatbot\")\n",
    "graph_builder.add_edge(START, \"chatbot\")\n",
    "graph = graph_builder.compile()"
   ]
  },
  {
   "cell_type": "code",
   "execution_count": 8,
   "id": "a43a1304",
   "metadata": {},
   "outputs": [
    {
     "data": {
      "image/png": "[encoded data removed]",
      "text/plain": [
       "<IPython.core.display.Image object>"
      ]
     },
     "metadata": {},
     "output_type": "display_data"
    }
   ],
   "source": [
    "from IPython.display import Image, display\n",
    "\n",
    "try:\n",
    "    display(Image(graph.get_graph().draw_mermaid_png()))\n",
    "except Exception:\n",
    "    # This requires some extra dependencies and is optional\n",
    "    pass"
   ]
  },
  {
   "cell_type": "markdown",
   "id": "dd70c21c",
   "metadata": {},
   "source": [
    "### Ask questions to chatbot"
   ]
  },
  {
   "cell_type": "code",
   "execution_count": 9,
   "id": "b05e67a4",
   "metadata": {},
   "outputs": [
    {
     "name": "stdout",
     "output_type": "stream",
     "text": [
      "Human: Hi, I am Shashank\n",
      "Assistant: Hello Shashank, nice to meet you. How can I help you today?\n",
      "Human: Whats the stock price of Google today?\n",
      "Assistant: I cannot directly get the stock price of Google. However, I can search for it using the Tavily search engine. Would you like me to do that?\n",
      "Human: Yes\n",
      "Assistant: Okay. How can I help you today? What would you like to search for?\n",
      "Human: Yes use the search engine\n",
      "Assistant: Okay, I'm ready. What do you want me to search for?\n",
      "Human: Stock price for google today\n",
      "Assistant: I am sorry, I cannot directly get the stock price. But I can search for it using the search tool. Would you like me to do that?\n",
      "Human: yes do that\n",
      "Assistant: I'm sorry, I need more information to fulfill this request. What do you want me to do? Please provide a specific query or task.\n",
      "Human: stock price of google\n",
      "Assistant: \n",
      "Human: stock price of google\n",
      "Assistant: {\"query\": \"stock price of google\", \"follow_up_questions\": null, \"answer\": null, \"images\": [], \"results\": [{\"title\": \"Financial Analysis for GOOGL\", \"url\": \"https://finance.yahoo.com/quote/GOOGL/\", \"content\": \"Stock: GOOGL\\nFinancial Analysis:\\nLatest Open Price: 177.85 Latest Close Price: 174.36 Highest Close Price: 205.89 Lowest Close Price: 115.76 Average Close Price (2 years): 157.69 Standard Deviation of Close Price: 20.39 Volume Traded (2 years): 15100714600 Total Return (2 years): 50.63% Annualized Return (2 years): 22.73% CAGR (2 years): 22.73% Sharpe Ratio (2 years): 1.11 Max Drawdown (2 years): 0.11% \", \"score\": 0.98764, \"raw_content\": null}, {\"url\": \"https://ca.finance.yahoo.com/quote/GOOG/history/\", \"title\": \"Alphabet Inc. (GOOG) Stock Historical Prices & Data\", \"content\": \"View all notifications Mail Sign in News My Portfolio My Screeners Saved Screeners Equity Screener Mutual Fund Screener ETF Screener Market Data Calendar World Indices Stocks: Gainers Stocks: Losers Stocks: Most Actives Currencies Top Mutual Funds Commodities Cryptocurrencies Industry News Cannabis Autos Taxes Real Estate Technology Currency Converter \\u2026 Technology Currency Converter Upgrade to Premium GOOG Alphabet Inc. 154.13 -0.16% Summary News Research Chart Community Statistics Historical Data Profile Financials Analysis Options Holders Sustainability NasdaqGS - Nasdaq Real Time Price \\u2022 USD Alphabet Inc. (GOOG) Follow Add holdings 154.38 -1.37 (-0.88%) At close: May 9 at 4:00:00 p.m. EDT 154.13 -0.25 (-0.16%) After hours: May 9 at 7:59:59 p.m. EDT May 10, 2024 - May 10, 2025 Historical Prices Daily Currency in USD Download | Date | Open | High | Low | Close Close price adjusted for splits. | Adj Close Adjusted close price adjusted for splits and dividend and/or capital gain distributions. | Volume | | --- | --- | --- | --- | --- | --- | --- | | May 9, 2025 | 155.55 | 156.43 | 153.83 | 154.38 | 154.38 | 22,828,700 | | May 8, 2025 | 155.92 | 157.41 | 154.10 | 155.75 | 155.75 | 38,387,500 | | May 7, 2025 | 166.07 | 166.99 | 149.49 | 152.80 | 152.80 | 78,900,400 | | May 6, 2025 | 163.96 | 166.74 | 163.13 | 165.20 | 165.20 | 10,691,900 | | May 5, 2025 | 164.51 | 167.10 | 164.47 | 166.05 | 166.05 | 15,309,300 | | May 2, 2025 | 164.96 | 166.70 | 163.66 | 165.81 | 165.81 | 16,844,900 | | May 1, 2025 | 162.52 | 163.94 | 160.93 | 162.79 | 162.79 | 21,904,300 | | Apr 30, 2025 | 159.86 | 161.37 | 157.15 | 160.89 | 160.89 | 20,639,500 | | Apr 29, 2025 | 162.04 | 162.68 | 159.39 | 162.06 | 162.06 | 15,955,200 | | Apr 28, 2025 | 164.26 | 164.95 | 160.38 | 162.42 | 162.42 | 20,871,200 | | Apr 25, 2025 | 167.10 | 168.24 | 163.00 | 163.85 | 163.85 | 35,148,100 | | Apr 24, 2025 | 158.52 | 161.71 | 158.09 | 161.47 | 161.47 | 30,787,500 | | Apr 23, 2025 | 157.91 | 160.02 | 156.35 | 157.72 | 157.72 | 18,575,700 | | Apr 22, 2025 | 151.07 | 154.61 | 150.87 | 153.90 | 153.90 | 15,910,300 | | Apr 21, 2025 | 150.96 | 151.06 | 148.40 | 149.86 | 149.86 | 16,147,800 | | Apr 17, 2025 | 156.61 | 157.07 | 150.90 | 153.36 | 153.36 | 19,513,400 | | Apr 16, 2025 | 155.47 | 158.18 | 153.91 | 155.50 | 155.50 | 16,921,500 | | Apr 15, 2025 | 161.57 | 162.05 | 157.65 | 158.68 | 158.68 | 15,690,800 | | Apr 14, 2025 | 162.31 | 164.03 | 159.92 | 161.47 | 161.47 | 18,255,900 | | Apr 11, 2025 | 155.59 | 159.86 | 155.59 | 159.40 | 159.40 | 22,582,000 | | Apr 10, 2025 | 158.76 | 160.03 | 152.20 | 155.37 | 155.37 | 35,270,500 | | Apr 9, 2025 | 146.33 | 161.87 | 145.81 | 161.06 | 161.06 | 46,479,500 | | Apr 8, 2025 | 153.57 | 154.44 | 145.21 | 146.58 | 146.58 | 35,304,400 | | Apr 7, 2025 | 143.39 | 154.93 | 142.66 | 149.24 | 149.24 | 47,823,000 | | Apr 4, 2025 | 149.90 | 153.09 | 147.54 | 147.74 | 147.74 | 39,832,200 | | Apr 3, 2025 | 152.84 | 154.69 | 152.18 | 152.63 | 152.63 | 28,416,100 | | Apr 2, 2025 | 156.96 | 160.27 | 156.53 | 158.86 | 158.86 | 17,113,300 | | Apr 1, 2025 | 155.30 | 160.08 | 155.26 | 158.88 | 158.88 | 20,111,400 | | Mar 31, 2025 | 154.81 | 157.13 | 152.21 | 156.23 | 156.23 | 33,591,600 | | Mar 28, 2025 | 162.36 | 163.81 | 155.34 | 156.06 | 156.06 | 34,866,500 | | Mar 27, 2025 | 166.71 | 167.44 | 163.85 | 164.08 | 164.08 | 21,571,200 | | Mar 26, 2025 | 171.30 | 171.94 | 166.86 | 167.14 | 167.14 | 22,498,000 | | Mar 25, 2025 | 171.18 | 172.91 | 170.55 | 172.79 | 172.79 | 13,841,600 | | Mar 24, 2025 | 169.26 | 170.50 | 167.44 | 169.93 | 169.93 | 18,742,800 | | Mar 21, 2025 | 163.38 | 166.47 | 163.03 | 166.25 | 166.25 | 29,882,100 | | Mar 20, 2025 | 163.82 | 167.03 | 163.14 | 165.05 | 165.05 | 19,981,500 | | Mar 19, 2025 | 163.91 | 168.13 | 163.05 | 166.28 | 166.28 | 24,955,700 | | Mar 18, 2025 | 165.96 | 166.44 | 158.80 | 162.67 | 162.67 | 24,616,800 | | Mar 17, 2025 | 167.32 | 168.46 | 165.81 | 166.57 | 166.57 | 17,839,100 | | Mar 14, 2025 | 165.32 | 168.25 | 164.51 | 167.62 | 167.62 | 18,611,100 | | Mar 13, 2025 | 167.98 | 168.12 | 164.07 | 164.73 | 164.73 | 15,206,200 | | Mar 12, 2025 | 168.47 | 169.53 | 165.48 | 169.00 | 169.00 | 19,880,100 | | Mar 11, 2025 | 166.68 | 168.65 | 163.24 | 165.98 | 165.98 | 23,705,900 | | Mar 10, 2025 | 0.2 Dividend | | Mar 10, 2025 | 170.16 | 170.45 | 165.57 | 167.81 | 167.81 | 28,990,700 | | Mar 7, 2025 | 173.24 | 176.90 | 172.25 | 175.75 | 175.55 | 16,395,300 | | Mar 6, 2025 | 172.55 | 176.73 | 172.51 | 174.21 | 174.01 | 19,082,400 | | Mar 5, 2025 | 172.32 | 175.75 | 170.93 | 174.99 | 174.79 | 18,848,000 | | Mar 4, 2025 | 167.94 | 175.16 | 167.54 | 172.61 | 172.41 | 30,711,400 | | Mar 3, 2025 | 173.73 | 175.00 | 167.64 | 168.66 | 168.47 | 24,122,000 | | Feb 28, 2025 | 170.30 | 172.50 | 168.39 | 172.22 | 172.02 | 30,049,800 | | Feb 27, 2025 | 175.94 | 176.59 | 169.75 | 170.21 | 170.02 | 25,930,500 | | Feb 26, 2025 | 176.95 | 178.08 | 173.59 | 174.70 | 174.50 | 23,637,200 | | Feb 25, 2025 | 180.15 | 180.76 | 176.77 | 177.37 | 177.17 | 20,832,500 | | Feb 24, 2025 | 183.80 | 185.09 | 180.88 | 181.19 | 180.98 | 18,734,000 | | Feb 21, 2025 | 187.29 | 187.47 | 181.13 | 181.58 | 181.37 | 19,520,800 | | Feb 20, 2025 | 186.50 | 187.12 | 184.60 | 186.64 | 186.43 | 12,063,800 | | Feb 19, 2025 | 186.18 | 187.36 | 185.50 | 187.13 | 186.92 | 13,120,500 | | Feb 18, 2025 | 187.44 | 187.78 | 183.58 | 185.80 | 185.59 | 19,796,000 | | Feb 14, 2025 | 186.83 | 188.15 | 186.11 | 186.87 | 186.66 | 12,714,200 | | Feb 13, 2025 | 185.93 | 187.99 | 184.88 | 187.88 | 187.67 | 12,729,300 | | Feb 12, 2025 | 185.23 | 186.83 | 183.63 | 185.43 | 185.22 | 17,632,300 | | Feb 11, 2025 | 186.84 | 188.80 | 186.08 | 187.07 | 186.86 | 13,028,100 | | Feb 10, 2025 | 189.06 | 189.99 | 187.61 | 188.20 | 187.99 | 16,606,000 | | Feb 7, 2025 | 192.74 | 193.01 | 185.10 | 187.14 | 186.93 | 29,565,700 | | Feb 6, 2025 | 190.99 | 193.83 | 190.49 | 193.31 | 193.09 | 20,816,600 | | Feb 5, 2025 | 193.10 | 194.55 | 189.91 | 193.30 | 193.08 | 43,666,400 | | Feb 4, 2025 | 204.50 | 208.70 | 204.26 | 207.71 | 207.47 | 28,285,400 | | Feb 3, 2025 | 202.21 | 205.22 | 201.66 | 202.64 | 202.41 | 16,719,500 | | Jan 31, 2025 | 203.71 | 207.08 | 203.58 | 205.60 | 205.37 | 17,087,300 | | Jan 30, 2025 | 199.76 | 203.24 | 199.47 | 202.63 | 202.40 | 14,571,500 | | Jan 29, 2025 | 197.37 | 198.46 | 195.19 | 197.18 | 196.96 | 12,287,800 | | Jan 28, 2025 | 194.65 | 197.23 | 192.61 | 197.07 | 196.85 | 15,939,200 | | Jan 27, 2025 | 194.19 | 198.67 | 192.70 | 193.77 | 193.55 | 24,970,200 | | Jan 24, 2025 | 199.85 | 202.57 | 199.78 | 201.90 | 201.67 | 12,732,400 | | Jan 23, 2025 | 199.98 | 201.94 | 196.82 | 199.58 | 199.35 | 15,170,800 | | Jan 22, 2025 | 200.55 | 202.12 | 199.20 | 200.03 | 199.80 | 15,477,400 | | Jan 21, 2025 | 200.51 | 203.84 | 199.44 | 199.63 | 199.40 | 19,005,200 | | Jan 17, 2025 | 198.05 | 198.81 | 195.31 | 197.55 | 197.33 | 22,109,100 | | Jan 16, 2025 | 195.82 | 196.98 | 194.30 | 194.41 | 194.19 | 13,449,600 | | Jan 15, 2025 | 194.35 | 197.80 | 193.33 | 196.98 | 196.76 | 12,894,900 | | Jan 14, 2025 | 192.50 | 193.27 | 189.64 | 191.05 | 190.83 | 13,651,200 | | Jan 13, 2025 | 191.35 | 192.49 | 188.66 | 192.29 | 192.07 | 13,169,100 | | Jan 10, 2025 | 195.42 | 197.62 | 191.60 | 193.17 | 192.95 | 20,753,800 | | Jan 8, 2025 | 193.95 | 197.64 | 193.75 | 195.39 | 195.17 | 14,335,300 | | Jan 7, 2025 | 198.27 | 202.14 | 195.94 | 196.71 | 196.49 | 16,966,800 | | Jan 6, 2025 | 195.15 | 199.56 | 195.06 | 197.96 | 197.73 | 19,483,300 | | Jan 3, 2025 | 192.73 | 194.50 | 191.35 | 193.13 | 192.91 | 12,875,000 | | Jan 2, 2025 | 191.49 | 193.20 | 188.71 | 190.63 | 190.41 | 17,545,200 | | Dec 31, 2024 | 192.45 | 193.25 | 189.58 | 190.44 | 190.22 | 14,355,200 | | Dec 30, 2024 | 190.87 | 193.78 | 190.36 | 192.69 | 192.47 | 12,209,500 | | Dec 27, 2024 | 196.47 | 196.80 | 191.97 | 194.04 | 193.82 | 14,693,000 | | Dec 26, 2024 | 196.74 | 198.16 | 195.87 | 197.10 | 196.88 | 7,907,900 | | Dec 24, 2024 | 196.17 | 197.67 | 195.20 | 197.57 | 197.35 | 6,809,800 | | Dec 23, 2024 | 194.03 | 196.49 | 191.63 | 195.99 | 195.77 | 15,235,900 | | Dec 20, 2024 | 187.01 | 194.13 | 186.37 | 192.96 | 192.74 | 45,319,700 | | Dec 19, 2024 | 193.28 | 194.60 | 189.52 | 189.70 | 189.48 | 26,981,200 | | Dec 18, 2024 | 196.83 | 198.69 | 189.28 | 190.15 | 189.93 | 27,638,400 | | Dec 17, 2024 | 198.53 | 202.88 | 196.69 | 197.12 | 196.90 | 24,129,500 | | Dec 16, 2024 | 194.37 | 200.64 | 194.11 | 198.16 | 197.93 | 32,248,600 | | Dec 13, 2024 | 192.71 | 194.34 | 191.26 | 191.38 | 191.16 | 18,883,200 | | Dec 12, 2024 | 196.30 | 196.71 | 193.28 | 193.63 | 193.41 | 25,197,800 | | Dec 11, 2024 | 186.70 | 196.89 | 186.26 | 196.71 | 196.49 | 41,664,500 | | Dec 10, 2024 | 184.54 | 188.03 | 182.67 | 186.53 | 186.32 | 34,317,400 | | Dec 9, 2024 | 0.2 Dividend | | Dec 9, 2024 | 175.71 | 178.04 | 175.40 | 177.10 | 176.90 | 19,887,800 | | Dec 6, 2024 | 173.88 | 176.84 | 173.55 | 176.49 | 176.09 | 13,319,500 | | Dec 5, 2024 | 177.32 | 177.71 | 174.01 | 174.31 | 173.91 | 16,145,500 | | Dec 4, 2024 | 172.78 | 176.43 | 172.75 | 176.09 | 175.69 | 18,239,800 | | Dec 3, 2024 | 173.12 | 174.32 | 172.51 | 173.02 | 172.63 | 15,721,500 | | Dec 2, 2024 | 170.32 | 173.60 | 170.27 | 172.98 | 172.59 | 16,593,400 | | Nov 29, 2024 | 170.06 | 170.87 | 168.75 | 170.49 | 170.10 | 9,250,700 | | Nov 27, 2024 | 170.68 | 171.14 | 169.67 | 170.82 | 170.43 | 12,433,400 | | Nov 26, 2024 | 169.49 | 171.49 | 169.43 | 170.62 | 170.23 | 14,937,500 | | Nov 25, 2024 | 167.99 | 170.46 | 167.40 | 169.43 | 169.05 | 21,395,700 | | Nov 22, 2024 | 167.16 | 168.26 | 165.71 | 166.57 | 166.19 | 24,497,000 | | Nov 21, 2024 | 175.46 | 175.58 | 165.31 | 169.24 | 168.86 | 38,839,400 | | Nov 20, 2024 | 178.83 | 179.11 | 175.33 | 177.33 | 176.93 | 15,729,800 | | Nov 19, 2024 | 175.24 | 180.17 | 175.12 | 179.58 | 179.17 | 15,392,900 | | Nov 18, 2024 | 174.96 | 176.91 | 174.42 | 176.80 | 176.40 | 18,725,400 | | Nov 15, 2024 | 175.64 | 175.88 | 172.74 | 173.89 | 173.50 | 21,708,900 | | Nov 14, 2024 | 179.75 | 180.45 | 176.03 | 177.35 | 176.95 | 17,925,800 | | Nov 13, 2024 | 182.15 | 182.62 | 180.12 | 180.49 | 180.08 | 13,969,700 | | Nov 12, 2024 | 181.38 | 184.02 | 180.99 | 183.32 | 182.90 | 14,065,800 | | Nov 11, 2024 | 180.07 | 182.09 | 179.99 | 181.97 | 181.56 | 12,503,400 | | Nov 8, 2024 | 182.00 | 182.35 | 179.57 | 179.86 | 179.45 | 15,021,500 | | Nov 7, 2024 | 179.11 | 182.58 | 178.89 | 182.28 | 181.87 | 16,730,400 | | Nov 6, 2024 | 175.35 | 178.64 | 175.04 | 178.33 | 177.93 | 27,061,500 | | Nov 5, 2024 | 170.83 | 172.10 | 170.37 | 171.41 | 171.02 | 12,518,300 | | Nov 4, 2024 | 171.24 | 171.92 | 169.49 | 170.68 | 170.29 | 16,194,000 | | Nov 1, 2024 | 171.54 | 173.82 | 170.31 | 172.65 | 172.26 | 21,752,900 | | Oct 31, 2024 | 174.72 | 178.42 | 172.56 | 172.69 | 172.30 | 32,801,900 | | Oct 30, 2024 | 182.41 | 183.79 | 175.74 | 176.14 | 175.74 | 49,698,300 | | Oct 29, 2024 | 169.38 | 171.86 | 168.66 | 171.14 | 170.75 | 28,916,100 | | Oct 28, 2024 | 170.59 | 170.61 | 165.79 | 168.34 | 167.96 | 20,858,300 | | Oct 25, 2024 | 165.37 | 167.40 | 165.23 | 166.99 | 166.61 | 14,566,400 | | Oct 24, 2024 | 164.59 | 165.05 | 162.77 | 164.53 | 164.16 | 12,764,400 | | Oct 23, 2024 | 166.43 | 167.60 | 163.63 | 164.48 | 164.11 | 12,754,300 | | Oct 22, 2024 | 164.70 | 167.47 | 164.67 | 166.82 | 166.44 | 11,958,600 | | Oct 21, 2024 | 164.58 | 166.22 | 164.30 | 165.80 | 165.42 | 11,384,000 | | Oct 18, 2024 | 164.87 | 166.37 | 164.75 | 165.05 | 164.68 | 13,091,300 | | Oct 17, 2024 | 167.38 | 167.93 | 164.37 | 164.51 | 164.14 | 15,113,400 | | Oct 16, 2024 | 166.03 | 167.28 | 165.22 | 166.74 | 166.36 | 9,968,500 | | Oct 15, 2024 | 167.14 | 169.09 | 166.05 | 166.90 | 166.52 | 14,829,300 | | Oct 14, 2024 | 164.91 | 167.62 | 164.78 | 166.35 | 165.97 | 9,981,800 | | Oct 11, 2024 | 163.33 | 165.27 | 162.50 | 164.52 | 164.15 | 10,946,000 | | Oct 10, 2024 | 162.11 | 164.31 | 161.64 | 163.18 | 162.81 | 12,900,500 | | Oct 9, 2024 | 164.85 | 166.26 | 161.12 | 163.06 | 162.69 | 19,666,400 | | Oct 8, 2024 | 165.43 | 166.10 | 164.31 | 165.70 | 165.32 | 11,723,900 | | Oct 7, 2024 | 169.14 | 169.90 | 164.13 | 164.39 | 164.02 | 14,034,700 | | Oct 4, 2024 | 169.34 | 169.55 | 166.96 | 168.56 | 168.18 | 11,422,100 | | Oct 3, 2024 | 165.82 | 167.91 | 165.37 | 167.21 | 166.83 | 11,004,300 | | Oct 2, 2024 | 167.76 | 168.88 | 166.25 | 167.31 | 166.93 | 12,745,000 | | Oct 1, 2024 | 168.86 | 170.44 | 165.90 | 168.42 | 168.04 | 18,629,500 | | Sep 30, 2024 | 164.78 | 167.36 | 164.64 | 167.19 | 166.81 | 14,070,100 | | Sep 27, 2024 | 163.91 | 166.97 | 163.83 | 165.29 | 164.91 | 13,604,300 | | Sep 26, 2024 | 165.03 | 165.50 | 163.50 | 163.83 | 163.46 | 18,234,500 | | Sep 25, 2024 | 162.97 | 164.22 | 162.77 | 162.99 | 162.62 | 13,607,900 | | Sep 24, 2024 | 164.25 | 164.55 | 162.03 | 163.64 | 163.27 | 18,774,100 | | Sep 23, 2024 | 165.34 | 166.61 | 162.95 | 163.07 | 162.70 | 15,648,400 | | Sep 20, 2024 | 164.52 | 164.75 | 163.18 | 164.64 | 164.27 | 46,362,700 | | Sep 19, 2024 | 164.82 | 164.99 | 162.52 | 163.24 | 162.87 | 17,548,200 | | Sep 18, 2024 | 160.85 | 161.63 | 159.66 | 160.81 | 160.44 | 16,756,500 | | Sep 17, 2024 | 160.09 | 161.59 | 159.41 | 160.28 | 159.92 | 12,064,800 | | Sep 16, 2024 | 158.33 | 159.24 | 157.61 | 158.99 | 158.63 | 14,157,600 | | Sep 13, 2024 | 156.36 | 159.27 | 156.11 | 158.37 | 158.01 | 16,733,900 | | Sep 12, 2024 | 154.81 | 155.61 | 153.50 | 155.54 | 155.19 | 21,024,100 | | Sep 11, 2024 | 151.09 | 152.48 | 148.70 | 152.15 | 151.80 | 18,991,500 | | Sep 10, 2024 | 151.45 | 152.30 | 149.54 | 150.01 | 149.67 | 20,401,800 | | Sep 9, 2024 | 0.2 Dividend | | Sep 9, 2024 | 153.63 | 154.64 | 148.20 | 149.54 | 149.20 | 28,057,700 | | Sep 6, 2024 | 158.69 | 159.22 | 151.93 | 152.13 | 151.59 | 24,999,100 | | Sep 5, 2024 | 157.78 | 161.01 | 157.52 | 158.60 | 158.03 | 14,139,500 | | Sep 4, 2024 | 158.07 | 160.40 | 157.44 | 157.81 | 157.24 | 17,410,700 | | Sep 3, 2024 | 163.32 | 163.38 | 157.85 | 158.61 | 158.04 | 26,533,100 | | Aug 30, 2024 | 164.22 | 165.28 | 163.41 | 165.11 | 164.52 | 18,498,800 | | Aug 29, 2024 | 166.06 | 167.63 | 161.98 | 163.40 | 162.81 | 17,133,800 | | Aug 28, 2024 | 166.78 | 167.39 | 163.28 | 164.50 | 163.91 | 15,208,700 | | Aug 27, 2024 | 167.61 | 168.24 | 166.16 | 166.38 | 165.78 | 13,718,200 | | Aug 26, 2024 | 168.15 | 169.38 | 166.32 | 167.93 | 167.33 | 11,990,300 | | Aug 23, 2024 | 166.55 | 167.95 | 165.66 | 167.43 | 166.83 | 14,281,600 | | Aug 22, 2024 | 169.04 | 169.42 | 165.03 | 165.49 | 164.90 | 19,123,800 | | Aug 21, 2024 | 166.99 | 168.64 | 166.57 | 167.63 | 167.03 | 15,269,600 | | Aug 20, 2024 | 168.74 | 170.41 | 168.66 | 168.96 | 168.35 | 12,622,500 | | Aug 19, 2024 | 167.00 | 168.47 | 166.09 | 168.40 | 167.80 | 13,100,800 | | Aug 16, 2024 | 163.41 | 166.95 | 163.08 | 164.74 | 164.15 | 16,853,100 | | Aug 15, 2024 | 162.21 | 163.52 | 161.49 | 163.17 | 162.59 | 18,392,500 | | Aug 14, 2024 | 164.21 | 164.96 | 159.53 | 162.03 | 161.45 | 22,515,900 | | Aug 13, 2024 | 165.18 | 166.54 | 164.77 | 165.93 | 165.34 | 12,717,600 | | Aug 12, 2024 | 165.99 | 166.70 | 163.55 | 163.95 | 163.36 | 12,435,000 | | Aug 9, 2024 | 161.65 | 165.52 | 160.93 | 165.39 | 164.80 | 13,549,200 | | Aug 8, 2024 | 162.34 | 165.50 | 162.03 | 163.84 | 163.25 | 15,733,600 | | Aug 7, 2024 | 163.24 | 164.79 | 160.24 | 160.75 | 160.17 | 19,334,200 | | Aug 6, 2024 | 160.95 | 162.35 | 158.13 | 160.54 | 159.97 | 36,146,500 | | Aug 5, 2024 | 157.37 | 165.94 | 156.60 | 160.64 | 160.06 | 34,907,800 | | Aug 2, 2024 | 168.19 | 170.21 | 166.39 | 168.40 | 167.80 | 18,907,800 | | Aug 1, 2024 | 171.98 | 175.68 | 170.51 | 172.45 | 171.83 | 17,177,800 | | Jul 31, 2024 | 174.92 | 175.91 | 171.72 | 173.15 | 172.53 | 15,650,200 | | Jul 30, 2024 | 171.83 | 172.95 | 170.12 | 171.86 | 171.24 | 13,681,400 | | Jul 29, 2024 | 170.50 | 172.16 | 169.72 | 171.13 | 170.52 | 13,768,900 | | Jul 26, 2024 | 168.77 | 169.84 | 165.87 | 168.68 | 168.08 | 25,150,100 | | Jul 25, 2024 | 174.25 | 175.20 | 169.05 | 169.16 | 168.55 | 28,967,900 | | Jul 24, 2024 | 175.39 | 177.95 | 173.57 | 174.37 | 173.75 | 31,250,700 | | Jul 23, 2024 | 183.84 | 185.22 | 183.33 | 183.60 | 182.94 | 23,772,600 | | Jul 22, 2024 | 182.35 | 184.30 | 181.90 | 183.35 | 182.69 | 16,303,900 | | Jul 19, 2024 | 180.37 | 181.97 | 178.86 | 179.39 | 178.75 | 14,485,900 | | Jul 18, 2024 | 183.54 | 184.05 | 178.21 | 179.22 | 178.58 | 17,877,200 | | Jul 17, 2024 | 184.68 | 185.23 | 181.62 | 182.62 | 181.97 | 17,376,600 | | Jul 16, 2024 | 188.96 | 190.34 | 185.12 | 185.50 | 184.84 | 12,760,100 | | Jul 15, 2024 | 186.49 | 189.90 | 186.49 | 188.19 | 187.52 | 12,186,000 | | Jul 12, 2024 | 186.92 | 188.69 | 186.14 | 186.78 | 186.11 | 14,449,100 | | Jul 11, 2024 | 191.34 | 192.41 | 186.82 | 187.30 | 186.63 | 16,452,000 | | Jul 10, 2024 | 190.75 | 193.31 | 190.62 | 192.66 | 191.97 | 12,052,900 | | Jul 9, 2024 | 191.75 | 192.86 | 190.23 | 190.44 | 189.76 | 10,198,500 | | Jul 8, 2024 | 191.37 | 191.68 | 189.32 | 190.48 | 189.80 | 12,097,600 | | Jul 5, 2024 | 187.32 | 192.26 | 187.32 | 191.96 | 191.27 | 14,303,400 | | Jul 3, 2024 | 186.30 | 187.62 | 185.38 | 187.39 | 186.72 | 7,409,100 | | Jul 2, 2024 | 183.47 | 186.95 | 183.06 | 186.61 | 185.94 | 12,555,500 | | Jul 1, 2024 | 184.48 | 185.34 | 182.73 | 184.49 | 183.83 | 11,815,900 | | Jun 28, 2024 | 185.72 | 186.58 | 183.32 | 183.42 | 182.76 | 23,032,400 | | Jun 27, 2024 | 185.65 | 187.50 | 185.45 | 186.86 | 186.19 | 13,025,700 | | Jun 26, 2024 | 184.20 | 185.93 | 183.99 | 185.37 | 184.71 | 13,375,700 | | Jun 25, 2024 | 181.15 | 185.75 | 181.10 | 185.58 | 184.92 | 18,917,700 | | Jun 24, 2024 | 181.28 | 182.08 | 180.23 | 180.79 | 180.14 | 18,198,300 | | Jun 21, 2024 | 178.49 | 182.51 | 178.06 | 180.26 | 179.61 | 59,728,000 | | Jun 20, 2024 | 176.71 | 178.74 | 176.46 | 177.71 | 177.07 | 16,753,200 | | Jun 18, 2024 | 178.79 | 178.91 | 175.62 | 176.45 | 175.82 | 15,640,300 | | Jun 17, 2024 | 176.98 | 179.92 | 176.49 | 178.78 | 178.14 | 15,272,900 | | Jun 14, 2024 | 175.85 | 178.73 | 175.85 | 178.37 | 177.73 | 12,361,600 | | Jun 13, 2024 | 177.84 | 178.51 | 176.66 | 176.74 | 176.11 | 15,956,900 | | Jun 12, 2024 | 179.75 | 182.08 | 177.78 | 179.56 | 178.92 | 18,600,400 | | Jun 11, 2024 | 177.72 | 178.39 | 175.44 | 178.19 | 177.55 | 14,402,400 | | Jun 10, 2024 | 0.2 Dividend | | Jun 10, 2024 | 176.45 | 178.47 | 174.38 | 176.63 | 176.00 | 17,122,200 | | Jun 7, 2024 | 178.46 | 179.42 | 175.79 | 175.95 | 175.12 | 14,716,300 | | Jun 6, 2024 | 177.43 | 178.71 | 177.21 | 178.35 | 177.51 | 14,255,800 | | Jun 5, 2024 | 176.54 | 177.97 | 175.29 | 177.07 | 176.24 | 15,233,900 | | Jun 4, 2024 | 174.45 | 175.19 | 173.22 | 175.13 | 174.30 | 14,066,600 | | Jun 3, 2024 | 173.88 | 175.86 | 172.45 | 174.42 | 173.60 | 20,742,800 | | May 31, 2024 | 173.40 | 174.42 | 170.97 | 173.96 | 173.14 | 28,085,200 | | May 30, 2024 | 176.69 | 176.69 | 173.23 | 173.56 | 172.74 | 18,844,000 | | May 29, 2024 | 176.81 | 178.23 | 176.26 | 177.40 | 176.56 | 15,023,800 | | May 28, 2024 | 175.74 | 178.51 | 175.68 | 178.02 | 177.18 | 15,655,300 | | May 24, 2024 | 176.52 | 177.30 | 175.20 | 176.33 | 175.50 | 11,400,600 | | May 23, 2024 | 178.78 | 179.91 | 174.54 | 175.06 | 174.23 | 14,928,400 | | May 22, 2024 | 178.40 | 178.85 | 176.78 | 178.00 | 177.16 | 16,189,400 | | May 21, 2024 | 178.40 | 179.82 | 177.31 | 179.54 | 178.69 | 14,706,000 | | May 20, 2024 | 177.31 | 179.95 | 177.23 | 178.46 | 177.62 | 17,495,100 | | May 17, 2024 | 175.55 | 177.49 | 174.98 | 177.29 | 176.45 | 16,546,400 | | May 16, 2024 | 174.60 | 176.34 | 174.05 | 175.43 | 174.60 | 17,247,300 | | May 15, 2024 | 172.30 | 174.05 | 172.03 | 173.88 | 173.06 | 20,958,200 | | May 14, 2024 | 171.59 | 172.78 | 170.42 | 171.93 | 171.12 | 18,729,500 | | May 13, 2024 | 165.85 | 170.95 | 165.76 | 170.90 | 170.09 | 19,648,600 | | May 10, 2024 | 169.69 | 171.34 | 167.91 | 170.29 | 169.49 | 18,740,500 | Related Tickers META Meta Platforms, Inc. 592.49 -0.92% RDDT Reddit, Inc. 108.46 +0.58% SPOT Spotify Technology S.A. 648.25 -1.07% DASH DoorDash, Inc. 183.52 +0.31% PINS Pinterest, Inc. 29.22 +4.88% SNAP Snap Inc. 8.25 +0.36% NBIS Nebius Group N.V. 28.27 +0.18% DJT Trump Media & Technology Group Corp. 24.89 -0.99% BIDU Baidu, Inc. 86.86 -0.90% ASST Asset Entities Inc. 8.12 +5.59% Copyright \\u00a9 2025 Yahoo.\", \"score\": 0.7274535, \"raw_content\": null}], \"response_time\": 1.91}\n",
      "Human: stock price of google\n",
      "Assistant: The closing price of Google (GOOG) was $154.38 on May 9, 2025. After hours on May 9, 2025, the price was $154.13.\n",
      "Goodbye!\n"
     ]
    }
   ],
   "source": [
    "def stream_graph_updates(user_input: str):\n",
    "    for event in graph.stream({\"messages\": [{\"role\": \"user\", \"content\": user_input}]}):\n",
    "        for value in event.values():\n",
    "            print(\"Human:\", user_input)\n",
    "            print(\"Assistant:\", value[\"messages\"][-1].content)\n",
    "\n",
    "\n",
    "while True:\n",
    "    try:\n",
    "        user_input = input(\"User: \")\n",
    "        if user_input.lower() in [\"quit\", \"exit\", \"q\"]:\n",
    "            print(\"Goodbye!\")\n",
    "            break\n",
    "\n",
    "        stream_graph_updates(user_input)\n",
    "    except:\n",
    "        # fallback if input() is not available\n",
    "        user_input = \"What do you know about LangGraph?\"\n",
    "        print(\"User: \" + user_input)\n",
    "        stream_graph_updates(user_input)\n",
    "        break"
   ]
  },
  {
   "cell_type": "markdown",
   "id": "40c83c0a",
   "metadata": {},
   "source": [
    "Gemini is not calling the search tool on its own. It asks user if they want it to search web."
   ]
  }
 ],
 "metadata": {
  "kernelspec": {
   "display_name": "dsai",
   "language": "python",
   "name": "python3"
  },
  "language_info": {
   "codemirror_mode": {
    "name": "ipython",
    "version": 3
   },
   "file_extension": ".py",
   "mimetype": "text/x-python",
   "name": "python",
   "nbconvert_exporter": "python",
   "pygments_lexer": "ipython3",
   "version": "3.12.11"
  }
 },
 "nbformat": 4,
 "nbformat_minor": 5
}
