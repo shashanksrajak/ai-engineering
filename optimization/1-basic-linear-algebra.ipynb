{
 "cells": [
  {
   "cell_type": "markdown",
   "id": "47cb8f30",
   "metadata": {},
   "source": [
    "We use `SymPy` for algebra. Refer this doc [doc](https://docs.sympy.org/latest/tutorials/intro-tutorial/calculus.html)"
   ]
  },
  {
   "cell_type": "code",
   "execution_count": 1,
   "id": "951ac25b",
   "metadata": {},
   "outputs": [],
   "source": [
    "import numpy as np\n",
    "import sympy"
   ]
  },
  {
   "cell_type": "code",
   "execution_count": 3,
   "id": "681b78de",
   "metadata": {},
   "outputs": [
    {
     "name": "stdout",
     "output_type": "stream",
     "text": [
      "x\n"
     ]
    }
   ],
   "source": [
    "# define variables using sympy\n",
    "x, y = sympy.symbols('x, y')\n",
    "\n",
    "print(x)"
   ]
  },
  {
   "cell_type": "code",
   "execution_count": 4,
   "id": "8ebfca7d",
   "metadata": {},
   "outputs": [],
   "source": [
    "# define a function\n",
    "f = x**2 + y**2 - 4*x + 6*y"
   ]
  },
  {
   "cell_type": "code",
   "execution_count": 6,
   "id": "60ef2a82",
   "metadata": {},
   "outputs": [
    {
     "name": "stdout",
     "output_type": "stream",
     "text": [
      "df_dx =  2*x - 4\n",
      "df_dy =  2*y + 6\n"
     ]
    }
   ],
   "source": [
    "# First-Order Necessary Condition\n",
    "df_dx = sympy.diff(f, x)\n",
    "df_dy = sympy.diff(f, y)\n",
    "\n",
    "print('df_dx = ', df_dx)\n",
    "print('df_dy = ', df_dy)"
   ]
  },
  {
   "cell_type": "code",
   "execution_count": 7,
   "id": "1e3f588a",
   "metadata": {},
   "outputs": [
    {
     "name": "stdout",
     "output_type": "stream",
     "text": [
      "Critical points {x: 2, y: -3}\n"
     ]
    }
   ],
   "source": [
    "# solve it for zero\n",
    "critical_points = sympy.solve([df_dx, df_dy], (x, y))\n",
    "\n",
    "print(\"Critical points\", critical_points)"
   ]
  },
  {
   "cell_type": "code",
   "execution_count": 8,
   "id": "10e03281",
   "metadata": {},
   "outputs": [],
   "source": [
    "# Second-Order Necessary Condition\n",
    "\n",
    "d2f_dx2 = sympy.diff(df_dx, x)\n",
    "d2f_dy2 = sympy.diff(df_dy, y)\n",
    "\n",
    "d2f_dxdy = sympy.diff(df_dx, y)\n",
    "d2f_dydx = sympy.diff(df_dy, x)"
   ]
  },
  {
   "cell_type": "code",
   "execution_count": 9,
   "id": "70681f02",
   "metadata": {},
   "outputs": [
    {
     "data": {
      "text/latex": [
       "$\\displaystyle \\left[\\begin{matrix}2 & 0\\\\0 & 2\\end{matrix}\\right]$"
      ],
      "text/plain": [
       "Matrix([\n",
       "[2, 0],\n",
       "[0, 2]])"
      ]
     },
     "execution_count": 9,
     "metadata": {},
     "output_type": "execute_result"
    }
   ],
   "source": [
    "# Hessian Matrix\n",
    "\n",
    "hessian = sympy.Matrix([[d2f_dx2, d2f_dxdy], [d2f_dydx, d2f_dy2]])\n",
    "hessian"
   ]
  },
  {
   "cell_type": "code",
   "execution_count": 10,
   "id": "ab11a41a",
   "metadata": {},
   "outputs": [
    {
     "name": "stdout",
     "output_type": "stream",
     "text": [
      "Eigen values are = [2. 2.]\n"
     ]
    }
   ],
   "source": [
    "# Since the Hessian is constant for this function, we can directly find its eigenvalues.\n",
    "# Note: For non-constant Hessians, you would substitute the critical point values here first.\n",
    "\n",
    "hessian_np = np.array(hessian).astype(np.float64)\n",
    "eigenvalues = np.linalg.eigvals(hessian_np)\n",
    "\n",
    "print(\"Eigen values are =\", eigenvalues)"
   ]
  },
  {
   "cell_type": "code",
   "execution_count": 11,
   "id": "a1daf383",
   "metadata": {},
   "outputs": [
    {
     "name": "stdout",
     "output_type": "stream",
     "text": [
      "All eigenvalues are positive. The critical point is a local minimum.\n"
     ]
    }
   ],
   "source": [
    "if np.all(eigenvalues > 0):\n",
    "    print(\"All eigenvalues are positive. The critical point is a local minimum.\")\n",
    "elif np.all(eigenvalues < 0):\n",
    "    print(\"All eigenvalues are negative. The critical point is a local maximum.\")\n",
    "else:\n",
    "    print(\"Eigenvalues are mixed. The critical point is a saddle point.\")"
   ]
  }
 ],
 "metadata": {
  "kernelspec": {
   "display_name": "dsai",
   "language": "python",
   "name": "python3"
  },
  "language_info": {
   "codemirror_mode": {
    "name": "ipython",
    "version": 3
   },
   "file_extension": ".py",
   "mimetype": "text/x-python",
   "name": "python",
   "nbconvert_exporter": "python",
   "pygments_lexer": "ipython3",
   "version": "3.12.11"
  }
 },
 "nbformat": 4,
 "nbformat_minor": 5
}
