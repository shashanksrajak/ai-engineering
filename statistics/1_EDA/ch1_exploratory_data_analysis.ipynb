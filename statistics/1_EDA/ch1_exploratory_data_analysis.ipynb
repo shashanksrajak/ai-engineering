{
 "cells": [
  {
   "cell_type": "markdown",
   "id": "c6402a1d",
   "metadata": {},
   "source": [
    "## Ch1 - Exploratory Data Analysis\n",
    "In this notebook, we will learn how to explore a given dataset. EDA is the most fundamental part and the very first thing which we need to do in any data project.\n",
    "\n",
    "In nutshell, I can say that the very first thing in a ML project is to know the data and get familiar with it. To do this, we use Statistics to explore the data. We try to find out -\n",
    "1. Type of data e.g. numerical, categorical and further types\n",
    "2. Location estimates e.g. mean, median etc\n",
    "3. Variability estimates e.g. variance, std deviation, MAD, IQR, quantiles etc\n",
    "4. Plot some graphs to get a visual appeal from the data e.g. Box plot, scatter plot, histograms etc."
   ]
  },
  {
   "cell_type": "code",
   "execution_count": 18,
   "id": "145b2730",
   "metadata": {},
   "outputs": [],
   "source": [
    "import pandas as pd\n",
    "import numpy as np\n",
    "import seaborn as sns\n",
    "import matplotlib.pyplot as plt\n",
    "from pathlib import Path\n",
    "from scipy import stats"
   ]
  },
  {
   "cell_type": "code",
   "execution_count": null,
   "id": "d7e8d860",
   "metadata": {},
   "outputs": [],
   "source": [
    "DATA = '../_data/'"
   ]
  },
  {
   "cell_type": "code",
   "execution_count": 12,
   "id": "c549d3d9",
   "metadata": {},
   "outputs": [],
   "source": [
    "# Import the required data\n",
    "AIRLINE_STATS_CSV = DATA  + 'airline_stats.csv'\n",
    "KC_TAX_CSV = DATA + 'kc_tax.csv.gz'\n",
    "LC_LOANS_CSV = DATA + 'lc_loans.csv'\n",
    "AIRPORT_DELAYS_CSV = DATA + 'dfw_airline.csv'\n",
    "SP500_DATA_CSV = DATA + 'sp500_data.csv.gz'\n",
    "SP500_SECTORS_CSV = DATA + 'sp500_sectors.csv'\n",
    "STATE_CSV = DATA + 'state.csv'"
   ]
  },
  {
   "cell_type": "markdown",
   "id": "c8d2a534",
   "metadata": {},
   "source": [
    "## Estimates of Location"
   ]
  },
  {
   "cell_type": "markdown",
   "id": "5b124fbd",
   "metadata": {},
   "source": [
    "### Example - Location Est of Population and Murder Rates"
   ]
  },
  {
   "cell_type": "code",
   "execution_count": 13,
   "id": "f1201b53",
   "metadata": {},
   "outputs": [],
   "source": [
    "state = pd.read_csv(STATE_CSV)"
   ]
  },
  {
   "cell_type": "code",
   "execution_count": 14,
   "id": "705b4c7d",
   "metadata": {},
   "outputs": [
    {
     "data": {
      "application/vnd.microsoft.datawrangler.viewer.v0+json": {
       "columns": [
        {
         "name": "index",
         "rawType": "int64",
         "type": "integer"
        },
        {
         "name": "State",
         "rawType": "object",
         "type": "string"
        },
        {
         "name": "Population",
         "rawType": "int64",
         "type": "integer"
        },
        {
         "name": "Murder.Rate",
         "rawType": "float64",
         "type": "float"
        },
        {
         "name": "Abbreviation",
         "rawType": "object",
         "type": "string"
        }
       ],
       "ref": "71c15427-9040-408b-88bd-0d11a10429f6",
       "rows": [
        [
         "0",
         "Alabama",
         "4779736",
         "5.7",
         "AL"
        ],
        [
         "1",
         "Alaska",
         "710231",
         "5.6",
         "AK"
        ],
        [
         "2",
         "Arizona",
         "6392017",
         "4.7",
         "AZ"
        ],
        [
         "3",
         "Arkansas",
         "2915918",
         "5.6",
         "AR"
        ],
        [
         "4",
         "California",
         "37253956",
         "4.4",
         "CA"
        ]
       ],
       "shape": {
        "columns": 4,
        "rows": 5
       }
      },
      "text/html": [
       "<div>\n",
       "<style scoped>\n",
       "    .dataframe tbody tr th:only-of-type {\n",
       "        vertical-align: middle;\n",
       "    }\n",
       "\n",
       "    .dataframe tbody tr th {\n",
       "        vertical-align: top;\n",
       "    }\n",
       "\n",
       "    .dataframe thead th {\n",
       "        text-align: right;\n",
       "    }\n",
       "</style>\n",
       "<table border=\"1\" class=\"dataframe\">\n",
       "  <thead>\n",
       "    <tr style=\"text-align: right;\">\n",
       "      <th></th>\n",
       "      <th>State</th>\n",
       "      <th>Population</th>\n",
       "      <th>Murder.Rate</th>\n",
       "      <th>Abbreviation</th>\n",
       "    </tr>\n",
       "  </thead>\n",
       "  <tbody>\n",
       "    <tr>\n",
       "      <th>0</th>\n",
       "      <td>Alabama</td>\n",
       "      <td>4779736</td>\n",
       "      <td>5.7</td>\n",
       "      <td>AL</td>\n",
       "    </tr>\n",
       "    <tr>\n",
       "      <th>1</th>\n",
       "      <td>Alaska</td>\n",
       "      <td>710231</td>\n",
       "      <td>5.6</td>\n",
       "      <td>AK</td>\n",
       "    </tr>\n",
       "    <tr>\n",
       "      <th>2</th>\n",
       "      <td>Arizona</td>\n",
       "      <td>6392017</td>\n",
       "      <td>4.7</td>\n",
       "      <td>AZ</td>\n",
       "    </tr>\n",
       "    <tr>\n",
       "      <th>3</th>\n",
       "      <td>Arkansas</td>\n",
       "      <td>2915918</td>\n",
       "      <td>5.6</td>\n",
       "      <td>AR</td>\n",
       "    </tr>\n",
       "    <tr>\n",
       "      <th>4</th>\n",
       "      <td>California</td>\n",
       "      <td>37253956</td>\n",
       "      <td>4.4</td>\n",
       "      <td>CA</td>\n",
       "    </tr>\n",
       "  </tbody>\n",
       "</table>\n",
       "</div>"
      ],
      "text/plain": [
       "        State  Population  Murder.Rate Abbreviation\n",
       "0     Alabama     4779736          5.7           AL\n",
       "1      Alaska      710231          5.6           AK\n",
       "2     Arizona     6392017          4.7           AZ\n",
       "3    Arkansas     2915918          5.6           AR\n",
       "4  California    37253956          4.4           CA"
      ]
     },
     "execution_count": 14,
     "metadata": {},
     "output_type": "execute_result"
    }
   ],
   "source": [
    "state.head()"
   ]
  },
  {
   "cell_type": "markdown",
   "id": "91ce22d7",
   "metadata": {},
   "source": [
    "First we calculate `mean` `median` and `trimmed mean` for the `Population`"
   ]
  },
  {
   "cell_type": "markdown",
   "id": "08bcb8e7",
   "metadata": {},
   "source": [
    "#### Mean"
   ]
  },
  {
   "cell_type": "code",
   "execution_count": 16,
   "id": "36ffc26b",
   "metadata": {},
   "outputs": [
    {
     "name": "stdout",
     "output_type": "stream",
     "text": [
      "Mean population 6162876.3\n"
     ]
    }
   ],
   "source": [
    "print(\"Mean population\", state['Population'].mean())"
   ]
  },
  {
   "cell_type": "code",
   "execution_count": 17,
   "id": "834b2df0",
   "metadata": {},
   "outputs": [
    {
     "data": {
      "text/plain": [
       "np.float64(6162876.3)"
      ]
     },
     "execution_count": 17,
     "metadata": {},
     "output_type": "execute_result"
    }
   ],
   "source": [
    "np.mean(state['Population'])"
   ]
  },
  {
   "cell_type": "markdown",
   "id": "d259a67c",
   "metadata": {},
   "source": [
    "For trimmed mean, we will use `scipy` because none of pandas or numpy support it out of the box."
   ]
  },
  {
   "cell_type": "code",
   "execution_count": 20,
   "id": "62e34b02",
   "metadata": {},
   "outputs": [
    {
     "name": "stdout",
     "output_type": "stream",
     "text": [
      "Trimmed mean for population:  4783697.125\n"
     ]
    }
   ],
   "source": [
    "print(\"Trimmed mean for population: \", stats.trim_mean(state['Population'], 0.1)) # 10% of the population is cut from both ends"
   ]
  },
  {
   "cell_type": "markdown",
   "id": "d6b26684",
   "metadata": {},
   "source": [
    "#### Median"
   ]
  },
  {
   "cell_type": "code",
   "execution_count": 22,
   "id": "bfdb4b8e",
   "metadata": {},
   "outputs": [
    {
     "name": "stdout",
     "output_type": "stream",
     "text": [
      "Median for population data:  4436369.5\n"
     ]
    }
   ],
   "source": [
    "print(\"Median for population data: \", state[\"Population\"].median())"
   ]
  },
  {
   "cell_type": "markdown",
   "id": "2af0ba81",
   "metadata": {},
   "source": [
    "## Estimates of Variability"
   ]
  },
  {
   "cell_type": "markdown",
   "id": "f1262b56",
   "metadata": {},
   "source": [
    "#### Standard Deviation"
   ]
  },
  {
   "cell_type": "code",
   "execution_count": 23,
   "id": "e22bcaa9",
   "metadata": {},
   "outputs": [
    {
     "name": "stdout",
     "output_type": "stream",
     "text": [
      "Std Deviation of Population data:  6848235.347401142\n"
     ]
    }
   ],
   "source": [
    "print(\"Std Deviation of Population data: \", state['Population'].std())"
   ]
  },
  {
   "cell_type": "markdown",
   "id": "c249deb6",
   "metadata": {},
   "source": [
    "#### IQR"
   ]
  },
  {
   "cell_type": "code",
   "execution_count": 24,
   "id": "18d30f4f",
   "metadata": {},
   "outputs": [
    {
     "name": "stdout",
     "output_type": "stream",
     "text": [
      "IQR of population : 4847308.0\n"
     ]
    }
   ],
   "source": [
    "print(\"IQR of population :\", state['Population'].quantile(0.75) - state['Population'].quantile(0.25))"
   ]
  },
  {
   "cell_type": "markdown",
   "id": "972b8a17",
   "metadata": {},
   "source": [
    "#### Percentiles and Boxplots"
   ]
  },
  {
   "cell_type": "code",
   "execution_count": 26,
   "id": "07c2201c",
   "metadata": {},
   "outputs": [
    {
     "name": "stdout",
     "output_type": "stream",
     "text": [
      "0.05    1.600\n",
      "0.25    2.425\n",
      "0.50    4.000\n",
      "0.75    5.550\n",
      "0.95    6.510\n",
      "Name: Murder.Rate, dtype: float64\n"
     ]
    }
   ],
   "source": [
    "print(state['Murder.Rate'].quantile([0.05, 0.25, 0.5, 0.75, 0.95]))"
   ]
  },
  {
   "cell_type": "code",
   "execution_count": 28,
   "id": "89f45464",
   "metadata": {},
   "outputs": [
    {
     "data": {
      "image/png": "[encoded data removed]",
      "text/plain": [
       "<Figure size 300x400 with 1 Axes>"
      ]
     },
     "metadata": {},
     "output_type": "display_data"
    }
   ],
   "source": [
    "ax = (state['Population']/1_000_000).plot.box(figsize=(3, 4))\n",
    "ax.set_ylabel('Population (millions)')\n",
    "\n",
    "plt.show()"
   ]
  },
  {
   "cell_type": "markdown",
   "id": "d64ad14b",
   "metadata": {},
   "source": [
    "#### Frequency table and Histogram"
   ]
  },
  {
   "cell_type": "markdown",
   "id": "bd2b1b8a",
   "metadata": {},
   "source": [
    "`value_counts()` will work by default with categorical variables. It will print frequency table.\n",
    "\n",
    "But for numerical data, we need to first convert it into categorical data like some bins and then print its frequency table."
   ]
  },
  {
   "cell_type": "code",
   "execution_count": 30,
   "id": "5e4e2708",
   "metadata": {},
   "outputs": [
    {
     "name": "stdout",
     "output_type": "stream",
     "text": [
      "Population\n",
      "(526935.67, 4232659.0]      24\n",
      "(4232659.0, 7901692.0]      14\n",
      "(7901692.0, 11570725.0]      6\n",
      "(11570725.0, 15239758.0]     2\n",
      "(15239758.0, 18908791.0]     1\n",
      "(18908791.0, 22577824.0]     1\n",
      "(22577824.0, 26246857.0]     1\n",
      "(33584923.0, 37253956.0]     1\n",
      "(26246857.0, 29915890.0]     0\n",
      "(29915890.0, 33584923.0]     0\n",
      "Name: count, dtype: int64\n"
     ]
    }
   ],
   "source": [
    "binned_population = pd.cut(state['Population'], bins=10) # bins 10 means split the data into 10 bins and decide the binsize accordingly\n",
    "print(binned_population.value_counts())"
   ]
  },
  {
   "cell_type": "code",
   "execution_count": 31,
   "id": "0e1212c0",
   "metadata": {},
   "outputs": [
    {
     "name": "stdout",
     "output_type": "stream",
     "text": [
      "                   BinRange  Count  \\\n",
      "0    (526935.67, 4232659.0]     24   \n",
      "1    (4232659.0, 7901692.0]     14   \n",
      "2   (7901692.0, 11570725.0]      6   \n",
      "3  (11570725.0, 15239758.0]      2   \n",
      "4  (15239758.0, 18908791.0]      1   \n",
      "5  (18908791.0, 22577824.0]      1   \n",
      "6  (22577824.0, 26246857.0]      1   \n",
      "7  (26246857.0, 29915890.0]      0   \n",
      "8  (29915890.0, 33584923.0]      0   \n",
      "9  (33584923.0, 37253956.0]      1   \n",
      "\n",
      "                                              States  \n",
      "0  WY,VT,ND,AK,SD,DE,MT,RI,NH,ME,HI,ID,NE,WV,NM,N...  \n",
      "1          KY,LA,SC,AL,CO,MN,WI,MD,MO,TN,AZ,IN,MA,WA  \n",
      "2                                  VA,NJ,NC,GA,MI,OH  \n",
      "3                                              PA,IL  \n",
      "4                                                 FL  \n",
      "5                                                 NY  \n",
      "6                                                 TX  \n",
      "7                                                     \n",
      "8                                                     \n",
      "9                                                 CA  \n"
     ]
    }
   ],
   "source": [
    "binned_population.name = 'binnedPopulation'\n",
    "df = pd.concat([state, binned_population], axis=1)\n",
    "df = df.sort_values(by='Population')\n",
    "\n",
    "groups = []\n",
    "for group, subset in df.groupby(by='binnedPopulation', observed=False):\n",
    "    groups.append({\n",
    "        'BinRange': group,\n",
    "        'Count': len(subset),\n",
    "        'States': ','.join(subset.Abbreviation)\n",
    "    })\n",
    "print(pd.DataFrame(groups))"
   ]
  },
  {
   "cell_type": "code",
   "execution_count": 34,
   "id": "648d6dd6",
   "metadata": {},
   "outputs": [
    {
     "data": {
      "image/png": "[encoded data removed]",
      "text/plain": [
       "<Figure size 400x400 with 1 Axes>"
      ]
     },
     "metadata": {},
     "output_type": "display_data"
    }
   ],
   "source": [
    "ax = (state['Population']/1_000_000).plot.hist(figsize=(4, 4))\n",
    "ax.set_xlabel('Population (millions)')\n",
    "plt.show()"
   ]
  },
  {
   "cell_type": "markdown",
   "id": "cd4ac88d",
   "metadata": {},
   "source": [
    "#### Density Estimates"
   ]
  },
  {
   "cell_type": "code",
   "execution_count": 36,
   "id": "d7cdec8c",
   "metadata": {},
   "outputs": [
    {
     "data": {
      "image/png": "[encoded data removed]",
      "text/plain": [
       "<Figure size 400x400 with 1 Axes>"
      ]
     },
     "metadata": {},
     "output_type": "display_data"
    }
   ],
   "source": [
    "ax = state['Murder.Rate'].plot.hist(density=True, xlim=[0, 12], bins=range(1, 12), figsize=(4, 4))\n",
    "\n",
    "# to show the density curve\n",
    "state['Murder.Rate'].plot.density(ax=ax)\n",
    "plt.show()"
   ]
  }
 ],
 "metadata": {
  "kernelspec": {
   "display_name": "dsai",
   "language": "python",
   "name": "python3"
  },
  "language_info": {
   "codemirror_mode": {
    "name": "ipython",
    "version": 3
   },
   "file_extension": ".py",
   "mimetype": "text/x-python",
   "name": "python",
   "nbconvert_exporter": "python",
   "pygments_lexer": "ipython3",
   "version": "3.12.11"
  }
 },
 "nbformat": 4,
 "nbformat_minor": 5
}
